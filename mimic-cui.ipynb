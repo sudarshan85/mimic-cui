{
 "cells": [
  {
   "cell_type": "markdown",
   "metadata": {},
   "source": [
    "# Cui2Vec on MIMIC Notes\n",
    "\n",
    "This project is to grab the CUIs of each concept identified in a given MIMIC note using [QuickUMLS ](https://github.com/Georgetown-IR-Lab/QuickUMLS) and use the [pre-trained CUI embeddings](https://figshare.com/s/00d69861786cd0156d81) to get an embedding that represents the note for all MIMIC notes."
   ]
  },
  {
   "cell_type": "markdown",
   "metadata": {},
   "source": [
    "## Imports and Inits"
   ]
  },
  {
   "cell_type": "code",
   "execution_count": 1,
   "metadata": {},
   "outputs": [],
   "source": [
    "import pandas as pd\n",
    "import numpy as np\n",
    "import pickle\n",
    "import psycopg2\n",
    "\n",
    "from pathlib import Path\n",
    "\n",
    "from QuickUMLS.quickumls import QuickUMLS"
   ]
  },
  {
   "cell_type": "code",
   "execution_count": 2,
   "metadata": {},
   "outputs": [],
   "source": [
    "PATH = Path('data')\n",
    "QUMLS_PATH = Path('/storage/UMLS-Storage/quickumls')"
   ]
  },
  {
   "cell_type": "markdown",
   "metadata": {},
   "source": [
    "## Functions"
   ]
  },
  {
   "cell_type": "code",
   "execution_count": 3,
   "metadata": {},
   "outputs": [],
   "source": [
    "def total_len(l):\n",
    "    return sum([len(sl) for sl in l])"
   ]
  },
  {
   "cell_type": "markdown",
   "metadata": {},
   "source": [
    "## Load and save pre-trained CUI Vectors"
   ]
  },
  {
   "cell_type": "code",
   "execution_count": null,
   "metadata": {},
   "outputs": [],
   "source": [
    "cui_vecs_df = pd.read_csv('/storage/pre-trained/cui2vec_pretrained.csv')"
   ]
  },
  {
   "cell_type": "code",
   "execution_count": null,
   "metadata": {},
   "outputs": [],
   "source": [
    "idx2cui = cui_vecs_df['cui'].to_dict()\n",
    "cui_vecs = cui_vecs_df.loc[:, cui_vecs_df.columns != 'cui'].values\n",
    "\n",
    "pickle.dump(idx2cui, open(PATH/'idx2cui.pkl', 'wb'))\n",
    "np.save(PATH/'cui-vecs.npy', cui_vecs)"
   ]
  },
  {
   "cell_type": "markdown",
   "metadata": {},
   "source": [
    "## Extract CUIs"
   ]
  },
  {
   "cell_type": "code",
   "execution_count": 4,
   "metadata": {},
   "outputs": [],
   "source": [
    "idx2cui = pickle.load(open(PATH/'idx2cui.pkl', 'rb'))\n",
    "cui2idx = {c: i for i, c in idx2cui.items()}\n",
    "\n",
    "cui_vecs = np.load(PATH/'cui-vecs.npy')"
   ]
  },
  {
   "cell_type": "code",
   "execution_count": 5,
   "metadata": {},
   "outputs": [],
   "source": [
    "qu = QuickUMLS(QUMLS_PATH, threshold=0.8, similarity_name='cosine')"
   ]
  },
  {
   "cell_type": "code",
   "execution_count": 6,
   "metadata": {},
   "outputs": [],
   "source": [
    "test_note = \"The patient showed symtoms of hypertension. No evidence of heart attack but patient had cardiac arrest. He developed type 2 diabetes. But maybe cardiac arrest later with heart attack.\""
   ]
  },
  {
   "cell_type": "markdown",
   "metadata": {},
   "source": [
    "## Checkpoint"
   ]
  },
  {
   "cell_type": "code",
   "execution_count": 7,
   "metadata": {},
   "outputs": [
    {
     "data": {
      "text/plain": [
       "(9, 27, 3.0)"
      ]
     },
     "execution_count": 7,
     "metadata": {},
     "output_type": "execute_result"
    }
   ],
   "source": [
    "matches = qu.match(test_note, best_match=True, ignore_syntax=False)\n",
    "l = len(matches)\n",
    "tl = total_len(matches)\n",
    "if l:\n",
    "    al = tl/l\n",
    "else:\n",
    "    al = 0\n",
    "l, tl, al"
   ]
  },
  {
   "cell_type": "code",
   "execution_count": 8,
   "metadata": {},
   "outputs": [
    {
     "name": "stdout",
     "output_type": "stream",
     "text": [
      "type 2 diabetes\n",
      "cardiac arrest\n",
      "cardiac arrest\n",
      "hypertension\n",
      "heart attack\n",
      "heart attack\n",
      "developed\n",
      "patient\n",
      "patient\n"
     ]
    }
   ],
   "source": [
    "for cs in matches:\n",
    "    print(cs[0]['ngram'])"
   ]
  },
  {
   "cell_type": "code",
   "execution_count": 36,
   "metadata": {},
   "outputs": [
    {
     "data": {
      "text/plain": [
       "{'type 2 diabetes': 1,\n",
       " 'cardiac arrest': 2,\n",
       " 'hypertension': 1,\n",
       " 'heart attack': 2,\n",
       " 'developed': 1,\n",
       " 'patient': 2}"
      ]
     },
     "execution_count": 36,
     "metadata": {},
     "output_type": "execute_result"
    }
   ],
   "source": [
    "ngram_counts = {}\n",
    "\n",
    "for cs in matches:\n",
    "    ngram = cs[0]['ngram']\n",
    "    if ngram not in ngram_counts:\n",
    "        ngram_counts[ngram] = 1\n",
    "    else:\n",
    "        ngram_counts[ngram] += 1\n",
    "\n",
    "ngram_counts"
   ]
  },
  {
   "cell_type": "code",
   "execution_count": 41,
   "metadata": {},
   "outputs": [],
   "source": [
    "ngram_vecs = {}\n",
    "\n",
    "for cs in matches:\n",
    "    n_valid_cuis = 0\n",
    "#     print(cs[0]['ngram'])\n",
    "    for c in cs:\n",
    "#         print(c['ngram'], c['term'], c['cui'], c['cui'] in cui2idx)\n",
    "        if c['cui'] in cui2idx:\n",
    "            n_valid_cuis += 1\n",
    "#     print(n_valid_cuis)\n",
    "    if n_valid_cuis != 0:\n",
    "        ngram_vecs[c['ngram']] = True\n",
    "    else:\n",
    "        if c['ngram'] in ngram_counts:\n",
    "            del ngram_counts[c['ngram']]\n",
    "#         if c['cui'] in cui2idx:\n",
    "#             n_valid_cuis += 1\n",
    "#             idx = cui2idx[c['cui']]\n",
    "#             cui_avg += cui_vecs[idx]\n",
    "#     if n_valid_cuis:\n",
    "#         cui_avg /= n_valid_cuis\n",
    "#         ngram_vecs[cs[0]['ngram']] = cui_avg"
   ]
  },
  {
   "cell_type": "code",
   "execution_count": 44,
   "metadata": {},
   "outputs": [
    {
     "data": {
      "text/plain": [
       "True"
      ]
     },
     "execution_count": 44,
     "metadata": {},
     "output_type": "execute_result"
    }
   ],
   "source": [
    "ngram_vecs.keys() == ngram_counts.keys()"
   ]
  },
  {
   "cell_type": "code",
   "execution_count": 42,
   "metadata": {},
   "outputs": [
    {
     "data": {
      "text/plain": [
       "dict_keys(['type 2 diabetes', 'cardiac arrest', 'hypertension', 'heart attack'])"
      ]
     },
     "execution_count": 42,
     "metadata": {},
     "output_type": "execute_result"
    }
   ],
   "source": [
    "ngram_vecs.keys()"
   ]
  },
  {
   "cell_type": "code",
   "execution_count": 43,
   "metadata": {},
   "outputs": [
    {
     "data": {
      "text/plain": [
       "dict_keys(['type 2 diabetes', 'cardiac arrest', 'hypertension', 'heart attack'])"
      ]
     },
     "execution_count": 43,
     "metadata": {},
     "output_type": "execute_result"
    }
   ],
   "source": [
    "ngram_counts.keys()"
   ]
  },
  {
   "cell_type": "code",
   "execution_count": null,
   "metadata": {},
   "outputs": [],
   "source": [
    "note_vector = np.zeros((500))"
   ]
  },
  {
   "cell_type": "code",
   "execution_count": null,
   "metadata": {},
   "outputs": [],
   "source": [
    "for cs in matches:\n",
    "    n_valid_cuis = 0\n",
    "    cui_avg = np.zeros(500)\n",
    "    for c in cs:\n",
    "        if c['cui'] in cui2idx:\n",
    "            n_valid_cuis += 1\n",
    "            idx = cui2idx[c['cui']]\n",
    "            cui_avg += cui_vecs[idx]\n",
    "    if n_valid_cuis:\n",
    "        cui_avg /= n_valid_cuis\n",
    "        ngram_vecs[cs[0]['ngram']] = cui_avg"
   ]
  },
  {
   "cell_type": "code",
   "execution_count": null,
   "metadata": {},
   "outputs": [],
   "source": [
    "matches[8]"
   ]
  },
  {
   "cell_type": "code",
   "execution_count": null,
   "metadata": {},
   "outputs": [],
   "source": [
    "test_note = '''\n",
    "Joseph R. Smith\n",
    "\n",
    "1234567-8\n",
    "\n",
    "4/5/2006\n",
    "\n",
    "REASON FOR VISIT:Here to get a new primary care physician.\n",
    "\n",
    "HPI: Mr. Smith is a 56-year-old gentleman formally followed at Carolina Premier who presents to obtain a new primary care physician secondary to insurance changes. He has a past medical history significant for a myocardial infarction in 1994. His cholesterol has been fine. Catheterization showed a possible \"kink\" in one of his vessels and it was thought that he had a possible \"eddy\" of current which led to a clot. He has been on Coumadin since then as well as a calcium channel blocker with the thought that there may have been a superimposed spasm. He has had several unremarkable stress tests since then. He works out on a Nordic-Track three times a week without any chest pain or shortness of breath. He has a history of possible peptic ulcer disease in 1981. He was treated with H2 blockers and his symptoms resolved. He has never had any bleeding to his knowledge. He had a hernia repair bilaterally in 1989 and surgery for a right knee cyst in 1999, all of which went well. He also has about a year long history of right buttock pain. This happens only when he is sitting for some time and does not change position. It does not happen when he is walking or exercising. He wonders if it might be pyriformis syndrome. If he changes positions frequently or stretches his legs, this seems to help. He has no acute complaints today and is here to get plugged into the system. He does wonder if there is anything else that can be done about his buttock pain.\n",
    "\n",
    "PAST MEDICAL HISTORY: As above. In addition, he had a flexible sigmoidoscopy in 2003 which was okay.\n",
    "\n",
    "MEDICATIONS: Tylenol p.r.n., baby aspirin p.o. q.d., Coumadin 3.5 mg p.o. q.d., Adalat Time Released tablets 30 mg one p.o. q.d., multivitamin, glucosamine and chondroitin sulfate.\n",
    "\n",
    "ALLERGIES: No Known Drug Allergies\n",
    "\n",
    "FAMILY HISTORY: His mother had diabetes developed at age 55 and coronary artery disease in her mid sixties. His father had CAD as well but not until his 70s. A paternal aunt had breast cancer. There is no history of colon or prostate cancer.\n",
    "\n",
    "SOCIAL HISTORY: He lives in Durham with his wife and mother. He works for a biotech company. He does not smoke. He drinks two beers per night and reports no trouble with alcohol in the past. No history of drug use.\n",
    "\n",
    "REVIEW OF SYSTEMS: As per his personal health summary and is significant only for his buttock pain as listed above, but is otherwise essentially unremarkable.\n",
    "\n",
    "PHYSICAL EXAM:\n",
    "\n",
    "VITAL SIGNS: Weight 175.2 pounds which is 79.3 kg, blood pressure 142/96 by the nurse, 140/92 by me, pulse is 64.\n",
    "\n",
    "GENERAL: A healthy-appearing middle-aged gentleman.\n",
    "\n",
    "HEENT: Pupils equal, round, reactive to light. Conjunctivaepink. Sclerae anicteric. Tympanic membranes clear. Oropharynx clear.\n",
    "\n",
    "NECK: No lymphadenopathy or thyromegaly or JVD.\n",
    "\n",
    "LUNGS: Clear to auscultation and percussion.\n",
    "\n",
    "HEART: Regular rate and rhythm without murmur, rub, or gallop.\n",
    "\n",
    "ABDOMEN: Normal bowel sounds. Soft, nontender. No hepatosplenomegaly.\n",
    "\n",
    "EXTREMITIES: No cyanosis, clubbing, or edema. 2+ peripheral pulses.\n",
    "\n",
    "NEUROLOGIC: Motor and sensation grossly intact.\n",
    "\n",
    "PSYCHIATRIC: Normal affect and behavior.\n",
    "\n",
    "DERMATOLOGIC: He has a small whitish papule at the upper borderof his mustache on the left.\n",
    "\n",
    "MUSCULOSKELETAL: Full range of motion of his legs and hips bilaterally with no tenderness to palpation over his buttocks.\n",
    "\n",
    "ASSESSMENT/PLAN:\n",
    "\n",
    "Status post myocardial infarction. No evidence for actual CAD. He will continue his aspirin and Coumadin. Unclear to exactly how long he should be on Coumadin or if this is really needed. At some point, may discuss this with cardiology. We will check an INR today and get him plugged into our Coumadin clinic. Check cholesterol.\n",
    "High blood pressure. He will continue with diet and exercise changes. At next visit, may go up on his calcium channel blocker versus add another agent. Check creatinine and potassium today.\n",
    "Buttock pain. Will try some physical therapy.\n",
    "Will send him to dermatology for the papule above his mustache.\n",
    "Possible h/o peptic ulcer disease. As he has not had any known GI bleed, do not feel a need to check H. pylori serology today.\n",
    "Health maintenance. Tetanus shot today. Flex sig as above. Will discuss prostate cancer screening next visit.\n",
    "Return to clinic in four months.\n",
    "John Student, MS3\n",
    "\n",
    "Seen with Joe Doctor, MD\n",
    "'''"
   ]
  },
  {
   "cell_type": "markdown",
   "metadata": {},
   "source": [
    "## Grab sample data from MIMIC"
   ]
  },
  {
   "cell_type": "code",
   "execution_count": null,
   "metadata": {
    "ExecuteTime": {
     "end_time": "2018-03-18T23:05:14.536531Z",
     "start_time": "2018-03-18T23:04:17.500997Z"
    },
    "hidden": true
   },
   "outputs": [],
   "source": [
    "cats = pd.read_csv('cats.csv')\n",
    "max_limit = 5\n",
    "\n",
    "queries = []\n",
    "for category, n_notes in zip(cats['category'], cats['number_of_notes']):\n",
    "    limit = min(max_limit, n_notes) if max_limit > 0 else n_notes\n",
    "    if limit == max_limit:\n",
    "        q = f\"\"\"\n",
    "        select category, text from correctnotes where category=\\'{category}\\' order by random() limit {limit};\n",
    "        \"\"\"\n",
    "    else:\n",
    "        q = f\"\"\"\n",
    "        select category, text from correctnotes where category=\\'{category}\\';\n",
    "        \"\"\"\n",
    "    queries.append(q)\n",
    "\n",
    "dfs = []\n",
    "\n",
    "con = psycopg2.connect(dbname='mimic', user='sudarshan', host='/var/run/postgresql')\n",
    "for q in queries:\n",
    "    df = pd.read_sql_query(q, con)\n",
    "    dfs.append(df)\n",
    "con.close()\n",
    "    \n",
    "df = pd.concat(dfs)\n",
    "# df.set_index('row_id', inplace=True)\n",
    "df.shape"
   ]
  },
  {
   "cell_type": "markdown",
   "metadata": {},
   "source": [
    "## pyContext"
   ]
  },
  {
   "cell_type": "markdown",
   "metadata": {},
   "source": [
    "We need to encode domain knowledge in the modifiers and targets for using pyContext"
   ]
  },
  {
   "cell_type": "code",
   "execution_count": null,
   "metadata": {},
   "outputs": [],
   "source": [
    "import pyConTextNLP.pyConText as pyConText\n",
    "import pyConTextNLP.itemData as itemData\n",
    "import networkx as nx"
   ]
  },
  {
   "cell_type": "code",
   "execution_count": null,
   "metadata": {},
   "outputs": [],
   "source": [
    "modifiers = itemData.get_items(\n",
    "    \"https://raw.githubusercontent.com/chapmanbe/pyConTextNLP/master/KB/lexical_kb_05042016.yml\")\n",
    "targets = itemData.get_items(\n",
    "    \"https://raw.githubusercontent.com/chapmanbe/pyConTextNLP/master/KB/utah_crit.yml\")"
   ]
  },
  {
   "cell_type": "code",
   "execution_count": null,
   "metadata": {},
   "outputs": [],
   "source": [
    "markup = pyConText.ConTextMarkup()"
   ]
  },
  {
   "cell_type": "code",
   "execution_count": null,
   "metadata": {},
   "outputs": [],
   "source": [
    "markup.setRawText(test_note.lower())\n",
    "markup.cleanText()\n",
    "markup.markItems(modifiers, mode='modifier')\n",
    "markup.markItems(targets, mode='target')"
   ]
  },
  {
   "cell_type": "code",
   "execution_count": null,
   "metadata": {},
   "outputs": [],
   "source": [
    "for node in markup.nodes(data=True):\n",
    "    print(node)"
   ]
  }
 ],
 "metadata": {
  "kernelspec": {
   "display_name": "Python 3",
   "language": "python",
   "name": "python3"
  },
  "language_info": {
   "codemirror_mode": {
    "name": "ipython",
    "version": 3
   },
   "file_extension": ".py",
   "mimetype": "text/x-python",
   "name": "python",
   "nbconvert_exporter": "python",
   "pygments_lexer": "ipython3",
   "version": "3.6.6"
  }
 },
 "nbformat": 4,
 "nbformat_minor": 2
}
