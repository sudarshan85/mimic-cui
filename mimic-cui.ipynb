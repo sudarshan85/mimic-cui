{
 "cells": [
  {
   "cell_type": "markdown",
   "metadata": {},
   "source": [
    "# Cui2Vec on MIMIC Notes\n",
    "\n",
    "This project is to grab the CUIs of each concept identified in a given MIMIC note using [QuickUMLS ](https://github.com/Georgetown-IR-Lab/QuickUMLS) and use the [pre-trained CUI embeddings](https://figshare.com/s/00d69861786cd0156d81) to get an embedding that represents the note for all MIMIC notes."
   ]
  },
  {
   "cell_type": "markdown",
   "metadata": {},
   "source": [
    "## Imports and Inits"
   ]
  },
  {
   "cell_type": "code",
   "execution_count": 1,
   "metadata": {},
   "outputs": [],
   "source": [
    "import pandas as pd\n",
    "import numpy as np\n",
    "\n",
    "import pickle\n",
    "import psycopg2\n",
    "\n",
    "from collections import OrderedDict\n",
    "from pathlib import Path\n",
    "from QuickUMLS.quickumls import QuickUMLS"
   ]
  },
  {
   "cell_type": "code",
   "execution_count": 2,
   "metadata": {},
   "outputs": [],
   "source": [
    "PATH = Path('data')\n",
    "QUMLS_PATH = Path('/storage/UMLS-Storage/quickumls')"
   ]
  },
  {
   "cell_type": "markdown",
   "metadata": {},
   "source": [
    "## Functions"
   ]
  },
  {
   "cell_type": "code",
   "execution_count": 3,
   "metadata": {},
   "outputs": [],
   "source": [
    "def total_len(l):\n",
    "    return sum([len(sl) for sl in l])"
   ]
  },
  {
   "cell_type": "code",
   "execution_count": 14,
   "metadata": {},
   "outputs": [
    {
     "data": {
      "text/plain": [
       "[{'start': 88,\n",
       "  'end': 102,\n",
       "  'ngram': 'cardiac arrest',\n",
       "  'term': 'cardiac arrest',\n",
       "  'cui': 'C0018790',\n",
       "  'similarity': 1.0,\n",
       "  'semtypes': {'T047'},\n",
       "  'preferred': 1},\n",
       " {'start': 88,\n",
       "  'end': 102,\n",
       "  'ngram': 'cardiac arrest',\n",
       "  'term': 'NB cardiac arrest',\n",
       "  'cui': 'C1410098',\n",
       "  'similarity': 0.8944271909999159,\n",
       "  'semtypes': {'T046'},\n",
       "  'preferred': 1},\n",
       " {'start': 88,\n",
       "  'end': 102,\n",
       "  'ngram': 'cardiac arrest',\n",
       "  'term': 'O/E - cardiac arrest',\n",
       "  'cui': 'C0436588',\n",
       "  'similarity': 0.816496580927726,\n",
       "  'semtypes': {'T033'},\n",
       "  'preferred': 1}]"
      ]
     },
     "execution_count": 14,
     "metadata": {},
     "output_type": "execute_result"
    }
   ],
   "source": [
    "matches[1]"
   ]
  },
  {
   "cell_type": "markdown",
   "metadata": {},
   "source": [
    "`QuickUMLS` returns a **list of list of dicts**:\n",
    "1. Outer list holds all the concepts that were found in the note\n",
    "2. Interlist contains all the *variations* of a single concept that QuickUMLS found\n",
    "3. Each dictionary contains information about the concept itself with the following keys:\n",
    "    * start: starting position of the concept in the note\n",
    "    * end: ending position of the concept in the note\n",
    "    * ngram: the group of words that were used to identify the concept. This value is <= $window_size$ param of the matcher. **All the dictionary within an innerlist have the same ngram**.\n",
    "    * term: all the variations within the ngram words that are individual medical concepts with their own CUIs. For example with ngram \"type 2 diabetes\" we get terms \"type 2 diabetes\" and \"type diabetes\" each with its own CUI. **The innerlist contains dicts with different term keys**.\n",
    "    * cui: The CUI of the concept\n",
    "    * similarity: Similarity measure based on metric of the matcher (jaccard, dice, cosine). This value is >= $threshold$ param of the matcher\n",
    "    * semtypes\n",
    "    * preferred\n",
    "\n",
    "The pre-trained CUI vectors are of size 500. The basic idea is to represent each note with a 500-dimension vector that captures the unique medical concepts pertaining to that note by combining these pre-trained vectors. Not all the CUIs returned by the matcher are found in the pre-trained vector list. For those that are not found, I just discard them. This is how the combination is done:\n",
    "1. First the matcher is defined and the note is run through the matcher\n",
    "2. If there are no matches found, then just return a 500-dimension zero vector\n",
    "3. Initialize two dictionaries: \n",
    "    1. to hold the counts of the CUIs found in the matcher (for final weighted averaging) $ngram\\_counts$\n",
    "    2. to hold the average CUI of a given ngram concept $ngram\\_vecs$\n",
    "4. Iterate over the matches and grab the ngram (the outer list)\n",
    "5. If its already present in $ngram\\_vecs$, we've seen it before, so just update the count and continue\n",
    "6. If not, initilize a variable to hold the number of valid cuis $n\\_valid\\_cuis$ (i.e., CUIs for which we have a pre-trained vector available) and 500-dimension zero vector to hold the average $cui\\_avg$\n",
    "7. Iterate of all the matched CUIs (inner list) and check if the current CUI is valid\n",
    "8. If it is then increment $n\\_valid\\_cuis$ and grab the vector from the pre-trained vector for the current CUI and add it to $cui\\_avg$\n",
    "9. If we have valid CUIS, then set the count of the CUI to 1 and compute the average from the sum created in the previous step\n",
    "10. Convert both the counts and average vectors into numpy arrays\n",
    "11. Use numpy's `average` method to compute the weighted average of the concept whereby repeated concepts receive a higher weight (count)\n",
    "12. Return the resulting 500-dimension vector that would represent the note\n",
    "\n",
    "Downfalls:\n",
    "1. Negations are not taken into account. Thus if there are concepts that repeated many times but are negated it will still receive a higher weight which could lead to problems\n",
    "2. Abbr of concepts"
   ]
  },
  {
   "cell_type": "code",
   "execution_count": 4,
   "metadata": {},
   "outputs": [],
   "source": [
    "def get_cuivec(matches):    \n",
    "    if not matches:\n",
    "        return np.zeros(cui_emb_sz)\n",
    "    \n",
    "    ngram_counts = OrderedDict()\n",
    "    ngram_vecs = OrderedDict()\n",
    "\n",
    "    for cs in matches:\n",
    "        ngram = cs[0]['ngram']\n",
    "        if ngram in ngram_vecs:\n",
    "            ngram_counts[ngram] += 1\n",
    "            continue\n",
    "        n_valid_cuis = 0\n",
    "        cui_avg = np.zeros(cui_emb_sz)\n",
    "        for c in cs:\n",
    "            if c['cui'] in cui2idx:\n",
    "                n_valid_cuis += 1\n",
    "                cui_avg += cui_vecs[cui2idx[c['cui']]]\n",
    "        if n_valid_cuis != 0:\n",
    "            ngram_counts[ngram] = 1\n",
    "            ngram_vecs[ngram] = cui_avg / n_valid_cuis\n",
    "    \n",
    "    weights = np.array(list(ngram_counts.values()))\n",
    "    vectors = np.array(list(ngram_vecs.values()))         \n",
    "    return np.average(vectors, axis=0, weights=weights)"
   ]
  },
  {
   "cell_type": "markdown",
   "metadata": {},
   "source": [
    "## Load and save pre-trained CUI Vectors"
   ]
  },
  {
   "cell_type": "code",
   "execution_count": null,
   "metadata": {},
   "outputs": [],
   "source": [
    "cui_vecs_df = pd.read_csv('/storage/pre-trained/cui2vec_pretrained.csv')"
   ]
  },
  {
   "cell_type": "code",
   "execution_count": null,
   "metadata": {},
   "outputs": [],
   "source": [
    "idx2cui = cui_vecs_df['cui'].to_dict()\n",
    "cui_vecs = cui_vecs_df.loc[:, cui_vecs_df.columns != 'cui'].values\n",
    "\n",
    "pickle.dump(idx2cui, open(PATH/'idx2cui.pkl', 'wb'))\n",
    "np.save(PATH/'cui-vecs.npy', cui_vecs)"
   ]
  },
  {
   "cell_type": "markdown",
   "metadata": {},
   "source": [
    "## Extract CUIs"
   ]
  },
  {
   "cell_type": "code",
   "execution_count": 5,
   "metadata": {},
   "outputs": [],
   "source": [
    "idx2cui = pickle.load(open(PATH/'idx2cui.pkl', 'rb'))\n",
    "cui2idx = {c: i for i, c in idx2cui.items()}\n",
    "\n",
    "cui_vecs = np.load(PATH/'cui-vecs.npy')\n",
    "cui_emb_sz = cui_vecs.shape[1]"
   ]
  },
  {
   "cell_type": "code",
   "execution_count": 6,
   "metadata": {},
   "outputs": [
    {
     "data": {
      "text/plain": [
       "(109053, 500)"
      ]
     },
     "execution_count": 6,
     "metadata": {},
     "output_type": "execute_result"
    }
   ],
   "source": [
    "cui_vecs.shape"
   ]
  },
  {
   "cell_type": "code",
   "execution_count": 7,
   "metadata": {},
   "outputs": [],
   "source": [
    "qu = QuickUMLS(QUMLS_PATH, threshold=0.8, similarity_name='cosine')"
   ]
  },
  {
   "cell_type": "code",
   "execution_count": 10,
   "metadata": {},
   "outputs": [],
   "source": [
    "test_note = \"The patient showed symtoms of hypertension. No evidence of heart attack but patient had cardiac arrest. He developed type 2 diabetes. But maybe cardiac arrest later with heart attack.\""
   ]
  },
  {
   "cell_type": "markdown",
   "metadata": {},
   "source": [
    "## Checkpoint"
   ]
  },
  {
   "cell_type": "code",
   "execution_count": 11,
   "metadata": {},
   "outputs": [
    {
     "data": {
      "text/plain": [
       "(9, 27, 3.0)"
      ]
     },
     "execution_count": 11,
     "metadata": {},
     "output_type": "execute_result"
    }
   ],
   "source": [
    "matches = qu.match(test_note, best_match=True, ignore_syntax=False)\n",
    "l = len(matches)\n",
    "tl = total_len(matches)\n",
    "if l:\n",
    "    al = tl/l\n",
    "else:\n",
    "    al = 0\n",
    "l, tl, al"
   ]
  },
  {
   "cell_type": "code",
   "execution_count": 15,
   "metadata": {},
   "outputs": [],
   "source": [
    "vec = get_cuivec(matches)"
   ]
  },
  {
   "cell_type": "code",
   "execution_count": 16,
   "metadata": {},
   "outputs": [
    {
     "data": {
      "text/plain": [
       "array([-7.57007273e-01,  6.71863798e-01, -3.69693365e-16, -5.00752764e-02,\n",
       "       -9.19676868e-02, -6.29506343e-01,  4.44808872e-01, -3.53246215e-01,\n",
       "        1.27697415e-01,  1.50598009e-15,  2.45470032e-01,  7.03252340e-01,\n",
       "        4.78457597e-01,  2.80476852e-01,  5.00623056e-01,  2.45531039e-01,\n",
       "       -3.66515514e-01, -2.68542454e-15, -8.33552089e-02, -2.35558695e-02,\n",
       "        1.25352698e-01,  2.71346140e-01, -2.62270701e-01,  2.16736329e-01,\n",
       "       -2.00664496e-01, -2.09359913e-01, -3.46313511e-02,  5.01525367e-02,\n",
       "       -8.75817999e-02, -5.65761184e-02,  5.38393346e-02, -4.98403242e-02,\n",
       "        3.47047461e-02,  4.92265275e-15,  4.01710784e-01, -1.27221179e-14,\n",
       "        4.60976836e-02, -7.69791479e-02, -4.05641434e-02,  7.44860956e-02,\n",
       "        1.72664587e-02,  3.31663457e-01,  1.12699750e-01, -2.02866187e-02,\n",
       "        1.61576750e-01, -8.20735682e-02, -9.19766585e-02,  1.12554723e-02,\n",
       "        2.42437646e-15,  1.99341909e-02, -1.79586754e-01, -4.58282282e-02,\n",
       "        2.12220085e-13,  1.69771709e-01, -3.35117279e-02,  7.42739330e-02,\n",
       "        1.31576506e-01, -2.56286239e-15, -1.69181036e-01, -5.26885378e-02,\n",
       "        1.54946872e-01,  1.78324995e-02,  1.41768935e-01, -1.67472601e-01,\n",
       "       -2.29636574e-01,  3.90522390e-15,  1.53999457e-01, -3.68557198e-01,\n",
       "       -2.11855225e-01, -5.28439411e-01, -8.68596623e-02, -6.82490594e-02,\n",
       "        2.67038035e-01, -2.50065606e-14, -1.00150486e-01, -3.35198988e-01,\n",
       "       -9.79776479e-02, -1.14675655e-14, -1.39332120e-01,  1.02154536e-01,\n",
       "       -5.61092220e-02,  1.49782000e-01, -2.84625708e-02, -1.47723800e-01,\n",
       "        1.66574762e-01,  1.21961374e-15, -1.77593591e-02, -1.85803528e-15,\n",
       "       -1.30403283e-01, -1.85553852e-01, -2.61784266e-02,  2.53751064e-01,\n",
       "        5.83999428e-03,  3.82144240e-02, -9.38311853e-14, -1.01308099e-01,\n",
       "       -1.86381799e-01, -6.54778410e-15,  1.15907459e-02,  1.35587922e-01,\n",
       "        1.89284417e-01,  1.18472276e-01,  9.37192419e-02,  2.22311416e-14,\n",
       "       -9.86294610e-03,  1.02655514e-01,  3.76539482e-14,  1.70363209e-02,\n",
       "       -1.30256626e-01,  9.25293618e-14,  1.04376331e-01, -2.29144696e-01,\n",
       "        1.17376393e-01,  6.20672723e-02,  9.31932031e-02,  1.06028758e-02,\n",
       "       -1.51728789e-02, -4.15981063e-02,  9.17876128e-02,  4.43596142e-02,\n",
       "       -3.30615410e-01, -4.80645776e-02, -1.67780380e-01,  4.18785449e-13,\n",
       "       -5.78163980e-02,  4.02477059e-02,  2.30103224e-01,  6.47639363e-02,\n",
       "       -8.13409015e-16, -1.07761497e-01, -8.51601591e-02,  3.32569181e-14,\n",
       "       -6.36015314e-02,  1.01491286e-01, -2.26371059e-02, -5.22728033e-02,\n",
       "        1.78082001e-02,  1.05718942e-01,  3.22320082e-14, -3.20716205e-02,\n",
       "       -1.07142034e-01, -4.05347557e-02,  1.08178680e-02,  3.26968762e-02,\n",
       "       -1.88231065e-02,  8.71094822e-02,  1.89452094e-01,  2.93349232e-13,\n",
       "        7.15130816e-02, -1.15094365e-01,  1.10263436e-13, -2.55809986e-01,\n",
       "        5.35143447e-02, -7.34678328e-03,  5.77886006e-13, -8.45936557e-02,\n",
       "        5.50472009e-02,  7.71425835e-03,  2.82829484e-01, -1.36235853e-02,\n",
       "       -1.41877165e-01, -8.54375831e-05,  2.46027655e-13, -1.97568043e-01,\n",
       "       -2.14378565e-01, -8.66725154e-02, -9.51564071e-14,  2.99414008e-02,\n",
       "       -1.20820309e-02, -1.95194743e-02,  9.54669682e-02,  6.04596333e-14,\n",
       "        9.62439833e-02, -5.56136116e-02, -1.78958780e-02, -1.48470295e-15,\n",
       "       -1.28358361e-01,  1.17917496e-02,  1.03416082e-01, -7.60093381e-02,\n",
       "       -8.20778805e-02,  3.03924711e-02,  3.89262058e-02, -6.44956389e-13,\n",
       "        1.11478471e-01,  6.20108630e-02, -8.23530899e-02, -6.48181695e-02,\n",
       "       -8.44564717e-14, -5.05104206e-03,  4.52640256e-02,  3.46636643e-02,\n",
       "       -6.20589697e-02,  7.96516393e-13, -4.42877456e-02,  9.02046209e-02,\n",
       "       -4.51215296e-02, -2.00789983e-01, -1.43956285e-01,  2.92823676e-13,\n",
       "       -5.37596337e-02, -3.43027901e-02, -2.05061826e-02, -1.37408970e-01,\n",
       "       -7.35183051e-02, -3.69876537e-02,  2.85310123e-13,  7.11428645e-02,\n",
       "        1.27634798e-01, -4.91205683e-02,  6.20152013e-02,  1.30786166e-01,\n",
       "       -8.22592442e-02,  1.08423104e-14, -1.68362332e-02,  1.94604123e-13,\n",
       "        3.57038801e-02,  1.40212050e-01, -4.49582693e-13,  7.21761837e-02,\n",
       "       -1.70876231e-03, -5.19517691e-02, -2.72782096e-02,  1.89396886e-02,\n",
       "       -5.00287602e-02, -2.29452228e-13,  3.46134801e-02,  1.28975887e-01,\n",
       "       -2.25822702e-02, -7.40517141e-02,  7.95182585e-14,  6.88511089e-02,\n",
       "       -9.02521281e-02, -1.03188692e-12, -8.27221271e-03, -2.72463991e-02,\n",
       "        1.29744791e-01,  5.83335825e-12, -1.00668225e-01, -5.76152116e-02,\n",
       "       -2.87086236e-13,  1.14465285e-01,  4.66731689e-02, -3.35734689e-02,\n",
       "        2.57519230e-02,  7.85324054e-14,  4.48055155e-02, -2.37229897e-02,\n",
       "        7.31656299e-02, -1.22690189e-02,  6.49074092e-02,  1.55926214e-13,\n",
       "       -8.70579750e-04,  5.38116026e-02,  2.61909059e-13,  8.86083185e-02,\n",
       "        6.45304799e-03,  1.55829421e-02,  2.65862585e-13, -2.96814676e-02,\n",
       "        1.06729590e-01, -1.07873470e-01,  7.65565828e-02, -3.12206927e-02,\n",
       "       -2.48861551e-02,  1.37408417e-02, -1.01536135e-13, -7.24323291e-02,\n",
       "        1.27646109e-13,  4.28790574e-02,  4.26523753e-02,  4.09932262e-13,\n",
       "        3.84218148e-02, -2.97742818e-02, -8.09889427e-03,  7.19186017e-02,\n",
       "        2.67653048e-02,  4.30710680e-02,  3.75673943e-02, -2.20491568e-02,\n",
       "        7.13120257e-15, -1.09233813e-01, -1.11192881e-01, -1.45513622e-01,\n",
       "       -5.64876287e-02,  7.72287407e-02,  9.03560755e-14, -1.65545805e-03,\n",
       "       -3.71516473e-02,  9.66301970e-02, -1.25682675e-02, -4.02112781e-13,\n",
       "       -2.60162156e-02,  2.32935538e-02, -1.01209272e-01,  4.93544025e-02,\n",
       "       -5.39021171e-02, -1.00557931e-12,  5.84470121e-02,  4.76715231e-02,\n",
       "        3.82751907e-02,  4.63257058e-02, -2.46960823e-02,  2.88175066e-02,\n",
       "       -2.38304232e-13, -8.03202812e-02,  1.22563055e-13,  6.02556814e-02,\n",
       "       -1.60090124e-01,  1.86473293e-13,  7.21621425e-02, -1.19773774e-01,\n",
       "       -3.21244501e-02,  1.11728489e-01, -1.40122516e-01,  1.95476676e-02,\n",
       "        8.34992678e-02, -2.94044615e-02, -2.21943958e-02, -4.35945933e-02,\n",
       "        1.90156266e-12, -7.63796563e-02,  2.29642757e-02,  1.68956496e-13,\n",
       "        2.39514597e-02,  5.04348266e-02,  3.18206207e-13,  4.44611377e-02,\n",
       "        9.34511662e-02,  6.83597296e-14,  3.74826710e-02, -4.44940901e-02,\n",
       "       -2.30166055e-02, -4.47585650e-02, -1.25786063e-12,  2.53366835e-01,\n",
       "        1.67035091e-01, -5.19638619e-02,  8.56278276e-02, -3.10070184e-13,\n",
       "        5.72474121e-03, -2.03870679e-13,  2.98529934e-03, -1.13746445e-01,\n",
       "       -4.88701124e-02, -5.42621005e-13, -1.41952613e-01, -6.58822695e-02,\n",
       "        3.91447967e-13,  7.57531111e-03, -5.01777170e-03,  1.24322380e-01,\n",
       "        2.49361668e-05, -9.12033233e-02, -8.28061075e-02,  1.55734974e-02,\n",
       "        7.44924875e-13,  1.30570990e-01,  8.30299508e-02,  6.46561905e-13,\n",
       "        4.96436729e-02,  3.10517091e-11,  1.03637918e-01, -3.83602650e-02,\n",
       "        1.88774960e-02,  6.30047088e-14,  2.59041646e-02, -6.81170817e-02,\n",
       "        6.54800024e-14,  1.32907204e-01, -3.82396891e-02, -6.13205423e-02,\n",
       "        4.95410777e-13,  4.49527119e-02, -1.18999149e-02,  3.17308502e-03,\n",
       "       -5.49122228e-02, -8.29609620e-13, -1.11949490e-01, -7.55700055e-02,\n",
       "        1.49371185e-01, -1.24113326e-01, -1.26170991e-01,  3.08749785e-02,\n",
       "       -1.45672129e-12,  1.40399053e-01, -8.96996850e-02,  1.14612112e-01,\n",
       "        5.09862612e-13,  3.90217303e-02, -3.71591181e-14, -4.76074041e-02,\n",
       "       -1.48708435e-01,  1.16465669e-01,  2.84368896e-01,  8.67155475e-13,\n",
       "       -5.38695764e-02,  9.04829894e-02, -1.70489562e-01,  8.57805354e-03,\n",
       "       -1.42216607e-01,  4.36860287e-13, -6.38201257e-02,  1.32038109e-01,\n",
       "        2.29689720e-13, -8.40803201e-03, -1.08923461e-01,  5.72246514e-12,\n",
       "        4.84662223e-02,  1.14226505e-02,  1.74725209e-02, -6.44501302e-02,\n",
       "       -2.65699120e-03,  3.50127102e-02,  3.07917944e-11, -2.91428642e-02,\n",
       "        3.45536762e-12, -2.48745848e-02, -2.30213026e-11, -3.56660441e-02,\n",
       "       -5.46159018e-02, -2.03896733e-08,  1.38454314e-01,  3.28586035e-02,\n",
       "        2.53134535e-02, -7.60438415e-03,  1.85753549e-06,  1.47143562e-02,\n",
       "       -4.72910148e-02,  4.42100523e-06, -6.02382861e-02, -1.50866714e-01,\n",
       "       -2.85440960e-02,  1.12134484e-01,  8.38005971e-02, -1.34178880e-01,\n",
       "       -9.06599332e-02, -4.73299794e-02,  8.45427396e-02,  6.42773073e-02,\n",
       "        3.27915482e-03, -2.14260360e-02,  5.62551241e-03, -9.72966276e-03,\n",
       "        6.83020741e-02,  3.95154875e-02, -4.51474182e-02,  3.53680412e-02,\n",
       "        3.51428890e-04, -6.60428833e-02,  5.05932794e-03, -1.79224487e-02,\n",
       "       -7.07721099e-03,  1.05908106e-01, -1.64137881e-01,  2.85586123e-02,\n",
       "       -1.33105145e-01, -1.24604888e-01,  3.15759701e-02,  3.47722403e-02,\n",
       "        5.32825775e-02, -7.24212887e-03, -1.15829732e-01, -1.78257374e-02,\n",
       "        5.22640824e-02,  2.42837627e-02, -3.15527675e-02,  1.51165468e-02,\n",
       "       -7.43531110e-02, -1.59391280e-02,  7.81988233e-02,  3.42995292e-02,\n",
       "        3.23573547e-03, -3.95321176e-02, -2.77046617e-03, -1.35503294e-01,\n",
       "        4.95048752e-03, -2.17846751e-02, -5.57773745e-02, -8.07642138e-02,\n",
       "       -1.31028892e-02, -7.94276099e-02, -2.16067454e-02, -4.17696435e-02,\n",
       "        3.97058844e-02,  3.90778274e-02, -7.40341516e-02,  4.60075628e-02,\n",
       "        1.62888484e-02, -5.32104412e-02, -5.79282666e-02,  6.74524686e-02,\n",
       "       -4.69757793e-02,  8.88893762e-02,  1.56455804e-02, -3.50431355e-02,\n",
       "        1.24369420e-01, -2.94546138e-02, -4.36299486e-02,  1.57596678e-01])"
      ]
     },
     "execution_count": 16,
     "metadata": {},
     "output_type": "execute_result"
    }
   ],
   "source": [
    "vec"
   ]
  },
  {
   "cell_type": "code",
   "execution_count": null,
   "metadata": {},
   "outputs": [],
   "source": [
    "test_note = '''\n",
    "Joseph R. Smith\n",
    "\n",
    "1234567-8\n",
    "\n",
    "4/5/2006\n",
    "\n",
    "REASON FOR VISIT:Here to get a new primary care physician.\n",
    "\n",
    "HPI: Mr. Smith is a 56-year-old gentleman formally followed at Carolina Premier who presents to obtain a new primary care physician secondary to insurance changes. He has a past medical history significant for a myocardial infarction in 1994. His cholesterol has been fine. Catheterization showed a possible \"kink\" in one of his vessels and it was thought that he had a possible \"eddy\" of current which led to a clot. He has been on Coumadin since then as well as a calcium channel blocker with the thought that there may have been a superimposed spasm. He has had several unremarkable stress tests since then. He works out on a Nordic-Track three times a week without any chest pain or shortness of breath. He has a history of possible peptic ulcer disease in 1981. He was treated with H2 blockers and his symptoms resolved. He has never had any bleeding to his knowledge. He had a hernia repair bilaterally in 1989 and surgery for a right knee cyst in 1999, all of which went well. He also has about a year long history of right buttock pain. This happens only when he is sitting for some time and does not change position. It does not happen when he is walking or exercising. He wonders if it might be pyriformis syndrome. If he changes positions frequently or stretches his legs, this seems to help. He has no acute complaints today and is here to get plugged into the system. He does wonder if there is anything else that can be done about his buttock pain.\n",
    "\n",
    "PAST MEDICAL HISTORY: As above. In addition, he had a flexible sigmoidoscopy in 2003 which was okay.\n",
    "\n",
    "MEDICATIONS: Tylenol p.r.n., baby aspirin p.o. q.d., Coumadin 3.5 mg p.o. q.d., Adalat Time Released tablets 30 mg one p.o. q.d., multivitamin, glucosamine and chondroitin sulfate.\n",
    "\n",
    "ALLERGIES: No Known Drug Allergies\n",
    "\n",
    "FAMILY HISTORY: His mother had diabetes developed at age 55 and coronary artery disease in her mid sixties. His father had CAD as well but not until his 70s. A paternal aunt had breast cancer. There is no history of colon or prostate cancer.\n",
    "\n",
    "SOCIAL HISTORY: He lives in Durham with his wife and mother. He works for a biotech company. He does not smoke. He drinks two beers per night and reports no trouble with alcohol in the past. No history of drug use.\n",
    "\n",
    "REVIEW OF SYSTEMS: As per his personal health summary and is significant only for his buttock pain as listed above, but is otherwise essentially unremarkable.\n",
    "\n",
    "PHYSICAL EXAM:\n",
    "\n",
    "VITAL SIGNS: Weight 175.2 pounds which is 79.3 kg, blood pressure 142/96 by the nurse, 140/92 by me, pulse is 64.\n",
    "\n",
    "GENERAL: A healthy-appearing middle-aged gentleman.\n",
    "\n",
    "HEENT: Pupils equal, round, reactive to light. Conjunctivaepink. Sclerae anicteric. Tympanic membranes clear. Oropharynx clear.\n",
    "\n",
    "NECK: No lymphadenopathy or thyromegaly or JVD.\n",
    "\n",
    "LUNGS: Clear to auscultation and percussion.\n",
    "\n",
    "HEART: Regular rate and rhythm without murmur, rub, or gallop.\n",
    "\n",
    "ABDOMEN: Normal bowel sounds. Soft, nontender. No hepatosplenomegaly.\n",
    "\n",
    "EXTREMITIES: No cyanosis, clubbing, or edema. 2+ peripheral pulses.\n",
    "\n",
    "NEUROLOGIC: Motor and sensation grossly intact.\n",
    "\n",
    "PSYCHIATRIC: Normal affect and behavior.\n",
    "\n",
    "DERMATOLOGIC: He has a small whitish papule at the upper borderof his mustache on the left.\n",
    "\n",
    "MUSCULOSKELETAL: Full range of motion of his legs and hips bilaterally with no tenderness to palpation over his buttocks.\n",
    "\n",
    "ASSESSMENT/PLAN:\n",
    "\n",
    "Status post myocardial infarction. No evidence for actual CAD. He will continue his aspirin and Coumadin. Unclear to exactly how long he should be on Coumadin or if this is really needed. At some point, may discuss this with cardiology. We will check an INR today and get him plugged into our Coumadin clinic. Check cholesterol.\n",
    "High blood pressure. He will continue with diet and exercise changes. At next visit, may go up on his calcium channel blocker versus add another agent. Check creatinine and potassium today.\n",
    "Buttock pain. Will try some physical therapy.\n",
    "Will send him to dermatology for the papule above his mustache.\n",
    "Possible h/o peptic ulcer disease. As he has not had any known GI bleed, do not feel a need to check H. pylori serology today.\n",
    "Health maintenance. Tetanus shot today. Flex sig as above. Will discuss prostate cancer screening next visit.\n",
    "Return to clinic in four months.\n",
    "John Student, MS3\n",
    "\n",
    "Seen with Joe Doctor, MD\n",
    "'''"
   ]
  },
  {
   "cell_type": "markdown",
   "metadata": {},
   "source": [
    "## Grab sample data from MIMIC"
   ]
  },
  {
   "cell_type": "code",
   "execution_count": null,
   "metadata": {
    "ExecuteTime": {
     "end_time": "2018-03-18T23:05:14.536531Z",
     "start_time": "2018-03-18T23:04:17.500997Z"
    },
    "hidden": true
   },
   "outputs": [],
   "source": [
    "cats = pd.read_csv('cats.csv')\n",
    "max_limit = 5\n",
    "\n",
    "queries = []\n",
    "for category, n_notes in zip(cats['category'], cats['number_of_notes']):\n",
    "    limit = min(max_limit, n_notes) if max_limit > 0 else n_notes\n",
    "    if limit == max_limit:\n",
    "        q = f\"\"\"\n",
    "        select category, text from correctnotes where category=\\'{category}\\' order by random() limit {limit};\n",
    "        \"\"\"\n",
    "    else:\n",
    "        q = f\"\"\"\n",
    "        select category, text from correctnotes where category=\\'{category}\\';\n",
    "        \"\"\"\n",
    "    queries.append(q)\n",
    "\n",
    "dfs = []\n",
    "\n",
    "con = psycopg2.connect(dbname='mimic', user='sudarshan', host='/var/run/postgresql')\n",
    "for q in queries:\n",
    "    df = pd.read_sql_query(q, con)\n",
    "    dfs.append(df)\n",
    "con.close()\n",
    "    \n",
    "df = pd.concat(dfs)\n",
    "# df.set_index('row_id', inplace=True)\n",
    "df.shape"
   ]
  },
  {
   "cell_type": "markdown",
   "metadata": {},
   "source": [
    "## pyContext"
   ]
  },
  {
   "cell_type": "markdown",
   "metadata": {},
   "source": [
    "We need to encode domain knowledge in the modifiers and targets for using pyContext"
   ]
  },
  {
   "cell_type": "code",
   "execution_count": null,
   "metadata": {},
   "outputs": [],
   "source": [
    "import pyConTextNLP.pyConText as pyConText\n",
    "import pyConTextNLP.itemData as itemData\n",
    "import networkx as nx"
   ]
  },
  {
   "cell_type": "code",
   "execution_count": null,
   "metadata": {},
   "outputs": [],
   "source": [
    "modifiers = itemData.get_items(\n",
    "    \"https://raw.githubusercontent.com/chapmanbe/pyConTextNLP/master/KB/lexical_kb_05042016.yml\")\n",
    "targets = itemData.get_items(\n",
    "    \"https://raw.githubusercontent.com/chapmanbe/pyConTextNLP/master/KB/utah_crit.yml\")"
   ]
  },
  {
   "cell_type": "code",
   "execution_count": null,
   "metadata": {},
   "outputs": [],
   "source": [
    "markup = pyConText.ConTextMarkup()"
   ]
  },
  {
   "cell_type": "code",
   "execution_count": null,
   "metadata": {},
   "outputs": [],
   "source": [
    "markup.setRawText(test_note.lower())\n",
    "markup.cleanText()\n",
    "markup.markItems(modifiers, mode='modifier')\n",
    "markup.markItems(targets, mode='target')"
   ]
  },
  {
   "cell_type": "code",
   "execution_count": null,
   "metadata": {},
   "outputs": [],
   "source": [
    "for node in markup.nodes(data=True):\n",
    "    print(node)"
   ]
  }
 ],
 "metadata": {
  "kernelspec": {
   "display_name": "Python 3",
   "language": "python",
   "name": "python3"
  },
  "language_info": {
   "codemirror_mode": {
    "name": "ipython",
    "version": 3
   },
   "file_extension": ".py",
   "mimetype": "text/x-python",
   "name": "python",
   "nbconvert_exporter": "python",
   "pygments_lexer": "ipython3",
   "version": "3.6.6"
  }
 },
 "nbformat": 4,
 "nbformat_minor": 2
}
