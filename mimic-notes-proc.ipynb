{
 "cells": [
  {
   "cell_type": "markdown",
   "metadata": {},
   "source": [
    "# MIMIC Notes Pre-Processing\n",
    "\n",
    "Pre-processing MIMIC notes for language model and CUIs"
   ]
  },
  {
   "cell_type": "markdown",
   "metadata": {},
   "source": [
    "Below is a list of redacted items with an example and the replacement token.\n",
    "\n",
    "Redacted items:\n",
    "* [x] First Name: `[**First Name (Titles) 137**]`, `t_firstname`\n",
    "* [x] Last Name: `[**Last Name (Titles) **]`, `t_lastname`\n",
    "* [x] Initials: `[**Initials (NamePattern4) **]`, `t_initials`\n",
    "* [x] Name: `[**Name (NI) **]`, `t_name`\n",
    "* [x] Doctor First Name: `[**Doctor First Name 1266**]`, `t_doctor_firstname`\n",
    "* [x] Doctor Last Name: `[**Doctor Last Name 1266**]`, `t_doctor_lastname`\n",
    "* [x] Known Last Name: `[**Known lastname 658**]`, `t_lastname`\n",
    "* [x] Hospital: `[**Hospital1 **]`, `t_hospital`\n",
    "* [x] Hospital Unit Name: `**Hospital Unit Name 10**`, `t_hospital`\n",
    "* [x] Company: `[**Company 12924**]`, `t_workplace`\n",
    "* [x] University/College: `[**University/College **]`, `t_workplace`\n",
    "* [x] Date of format YYYY-M-DD: `[**2112-4-18**]`, `t_fulldate`\n",
    "* [x] Year: `[**Year (4 digits) **]`, `t_year`\n",
    "* [x] Year YYYY format: `[**2119**]`, `t_year` - I use a regex `\\b\\d{4}\\b` that will match **any** 4 digits which might be problematic, but for the most part 4 digits by itself seems to indicate a year.\n",
    "* [x] Date of format M-DD: `[**6-12**]`, `[**12/2151**]`, `t_monthday`\n",
    "* [x] Month/Day: `[**Month/Day (2) 509**]`, `t_monthday`\n",
    "* [x] Month (only): `[**Month (only) 51**]`, `t_month`\n",
    "* [x] Holiday: `[**Holiday 3470**]`, `t_month`\n",
    "* [x] Date Range: `[**Date range (1) 7610**]`, `t_daterange`\n",
    "* [x] Country: `[**Country 9958**]`, `t_country`\n",
    "* [x] State: `[**State 3283**]`, `t_state`\n",
    "* [x] Location: `**Location (un) 2432**`, `t_location`\n",
    "* [x] Telephone/Fax: `[**Telephone/Fax (3) 8049**]`, `t_phone`\n",
    "* [x] Clip Number: `[**Clip Number (Radiology) 29923**]`, `t_radclip_id`\n",
    "* [x] Pager Numeric Identifier: `[**Numeric Identifier 6403**]`, `t_pager_id`\n",
    "* [x] Pager Number: `[**Pager number 13866**]`, `t_pager_id`\n",
    "* [x] Social Security Number: `[**Security Number 10198**]`, `t_ssn`\n",
    "* [x] Serial Number: `[**Serial Number 3567**]`, `t_sn`\n",
    "* [x] Medical Record Number: `[**Medical Record Number **]`, `t_mrn`\n",
    "* [x] Provider Number: `[**Provider Number 12521**]`, `t_provider_no`\n",
    "* [x] Age over 90: `[**Age over 90 **]`, `t_oldage`\n",
    "* [x] Time: `12:52 PM`, split into 6 segments by the hour and replace with the following tokens: `midnight, dawn, forenoon, afternoon, dusk, night`\n",
    "* Just numbers: `[** 7901**]`\n",
    "* Wardname\n",
    "* Pharmacy MD Number* "
   ]
  },
  {
   "cell_type": "markdown",
   "metadata": {},
   "source": [
    "## Imports and Inits"
   ]
  },
  {
   "cell_type": "code",
   "execution_count": 1,
   "metadata": {},
   "outputs": [],
   "source": [
    "import pandas as pd\n",
    "import psycopg2\n",
    "import numpy as np\n",
    "import re\n",
    "import random\n",
    "import datetime"
   ]
  },
  {
   "cell_type": "code",
   "execution_count": 2,
   "metadata": {},
   "outputs": [],
   "source": [
    "from process_notes import *"
   ]
  },
  {
   "cell_type": "markdown",
   "metadata": {},
   "source": [
    "## Grab sample data from MIMIC"
   ]
  },
  {
   "cell_type": "code",
   "execution_count": 3,
   "metadata": {
    "ExecuteTime": {
     "end_time": "2018-03-18T23:05:14.536531Z",
     "start_time": "2018-03-18T23:04:17.500997Z"
    },
    "hidden": true
   },
   "outputs": [],
   "source": [
    "cats = pd.read_csv('cats.csv')\n",
    "max_limit = 100\n",
    "\n",
    "queries = []\n",
    "for category, n_notes in zip(cats['category'], cats['number_of_notes']):\n",
    "    limit = min(max_limit, n_notes) if max_limit > 0 else n_notes\n",
    "    if limit == max_limit:\n",
    "        q = f\"\"\"\n",
    "        select category, text from correctnotes where category=\\'{category}\\' order by random() limit {limit};\n",
    "        \"\"\"\n",
    "    else:\n",
    "        q = f\"\"\"\n",
    "        select category, text from correctnotes where category=\\'{category}\\';\n",
    "        \"\"\"\n",
    "    queries.append(q)"
   ]
  },
  {
   "cell_type": "code",
   "execution_count": 4,
   "metadata": {},
   "outputs": [],
   "source": [
    "# limit = 50\n",
    "# queries = [\n",
    "#     f\"\"\"\n",
    "#     select category, text from correctnotes where category=\\'{cats.iloc[7]['category']}\\' order by random() limit {limit}\n",
    "#     \"\"\"\n",
    "# ]"
   ]
  },
  {
   "cell_type": "code",
   "execution_count": 5,
   "metadata": {
    "ExecuteTime": {
     "end_time": "2018-03-18T23:05:14.536531Z",
     "start_time": "2018-03-18T23:04:17.500997Z"
    },
    "hidden": true
   },
   "outputs": [
    {
     "name": "stdout",
     "output_type": "stream",
     "text": [
      "(1398, 2)\n",
      "CPU times: user 33.3 ms, sys: 3.75 ms, total: 37.1 ms\n",
      "Wall time: 3.82 s\n"
     ]
    }
   ],
   "source": [
    "%%time\n",
    "dfs = []\n",
    "\n",
    "con = psycopg2.connect(dbname='mimic', user='sudarshan', host='/var/run/postgresql')\n",
    "for q in queries:\n",
    "    df = pd.read_sql_query(q, con)\n",
    "    dfs.append(df)\n",
    "con.close()\n",
    "    \n",
    "df = pd.concat(dfs)\n",
    "df.reset_index(inplace=True, drop=True)\n",
    "# df.set_index('row_id', inplace=True)\n",
    "print(df.shape)"
   ]
  },
  {
   "cell_type": "code",
   "execution_count": 6,
   "metadata": {},
   "outputs": [],
   "source": [
    "pat = re.compile(r'\\[\\*\\*(.*?)\\*\\*\\]', re.IGNORECASE)\n",
    "tpat = re.compile(r'\\[\\*\\*(\\d{2})\\*\\*\\] \\b[a|p].?m.?\\b', re.IGNORECASE)\n",
    "ypat = re.compile(r'-?\\byears? ?-?old\\b|\\by(?:o|r)*[ ./-]*o(?:ld)?\\b', re.IGNORECASE)"
   ]
  },
  {
   "cell_type": "code",
   "execution_count": 7,
   "metadata": {},
   "outputs": [
    {
     "name": "stdout",
     "output_type": "stream",
     "text": [
      "CPU times: user 968 ms, sys: 0 ns, total: 968 ms\n",
      "Wall time: 967 ms\n"
     ]
    }
   ],
   "source": [
    "%%time\n",
    "df['scrubbed'] = df['text'].apply(process_note)"
   ]
  },
  {
   "cell_type": "code",
   "execution_count": 14,
   "metadata": {},
   "outputs": [
    {
     "ename": "SyntaxError",
     "evalue": "invalid syntax (<ipython-input-14-6f5c0a147a5c>, line 1)",
     "output_type": "error",
     "traceback": [
      "\u001b[0;36m  File \u001b[0;32m\"<ipython-input-14-6f5c0a147a5c>\"\u001b[0;36m, line \u001b[0;32m1\u001b[0m\n\u001b[0;31m    test = df.iloc[13text']\u001b[0m\n\u001b[0m                        ^\u001b[0m\n\u001b[0;31mSyntaxError\u001b[0m\u001b[0;31m:\u001b[0m invalid syntax\n"
     ]
    }
   ],
   "source": [
    "test = df.iloc[13text']\n",
    "# for m in tpat.finditer(test):\n",
    "#     print(m)\n",
    "\n",
    "print(test)"
   ]
  },
  {
   "cell_type": "code",
   "execution_count": null,
   "metadata": {},
   "outputs": [],
   "source": [
    "out = process_note(test)\n",
    "for m in ypat.finditer(out):\n",
    "    print(m)\n",
    "\n",
    "print(out)"
   ]
  },
  {
   "cell_type": "code",
   "execution_count": null,
   "metadata": {},
   "outputs": [],
   "source": [
    "for i, row in df.iterrows():\n",
    "    if len(tpat.findall(row['text'])) != 0:\n",
    "        print(i, tpat.findall(row['text']))"
   ]
  },
  {
   "cell_type": "code",
   "execution_count": null,
   "metadata": {},
   "outputs": [],
   "source": [
    "for i, row in df.iterrows():\n",
    "    if len(tpat.findall(row['scrubbed'])) != 0:\n",
    "        print(i, tpat.findall(row['scrubbed']))"
   ]
  },
  {
   "cell_type": "code",
   "execution_count": 8,
   "metadata": {},
   "outputs": [
    {
     "name": "stdout",
     "output_type": "stream",
     "text": [
      "439 ['90']\n",
      "618 [' 193']\n",
      "629 [' 25']\n",
      "632 [' 34']\n",
      "634 [' 502']\n",
      "640 [' 103']\n",
      "661 [' 8', ' 8']\n",
      "675 [' 8']\n",
      "693 [' 18', ' 29']\n",
      "792 ['62']\n",
      "914 ['26']\n",
      "960 ['99']\n",
      "1098 ['71', '81', '88']\n",
      "1107 ['23']\n",
      "1108 ['47']\n",
      "1160 ['17', '98']\n",
      "1168 ['23', '91']\n",
      "1182 ['38']\n",
      "1183 ['62', '65']\n",
      "1193 ['67', '68', '69', '72', '73']\n",
      "1335 ['83']\n",
      "1347 ['91']\n",
      "1351 ['47']\n",
      "1356 ['47']\n"
     ]
    }
   ],
   "source": [
    "for i, row in df.iterrows():\n",
    "    if len(pat.findall(row['scrubbed'])) != 0:\n",
    "        print(i, pat.findall(row['scrubbed']))"
   ]
  }
 ],
 "metadata": {
  "kernelspec": {
   "display_name": "Python 3",
   "language": "python",
   "name": "python3"
  },
  "language_info": {
   "codemirror_mode": {
    "name": "ipython",
    "version": 3
   },
   "file_extension": ".py",
   "mimetype": "text/x-python",
   "name": "python",
   "nbconvert_exporter": "python",
   "pygments_lexer": "ipython3",
   "version": "3.6.6"
  }
 },
 "nbformat": 4,
 "nbformat_minor": 2
}
