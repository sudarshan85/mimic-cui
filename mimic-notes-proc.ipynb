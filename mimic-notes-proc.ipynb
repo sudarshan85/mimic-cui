{
 "cells": [
  {
   "cell_type": "markdown",
   "metadata": {},
   "source": [
    "# MIMIC Notes Pre-Processing\n",
    "\n",
    "Pre-processing MIMIC notes for language model and CUIs"
   ]
  },
  {
   "cell_type": "markdown",
   "metadata": {},
   "source": [
    "## Imports and Inits"
   ]
  },
  {
   "cell_type": "code",
   "execution_count": 1,
   "metadata": {},
   "outputs": [],
   "source": [
    "import pandas as pd\n",
    "import psycopg2\n",
    "import numpy as np\n",
    "import re\n",
    "import random\n",
    "import datetime\n",
    "\n",
    "from pathlib import Path"
   ]
  },
  {
   "cell_type": "code",
   "execution_count": 2,
   "metadata": {},
   "outputs": [],
   "source": [
    "from process_notes import *"
   ]
  },
  {
   "cell_type": "code",
   "execution_count": 3,
   "metadata": {},
   "outputs": [],
   "source": [
    "PATH = Path('data')"
   ]
  },
  {
   "cell_type": "markdown",
   "metadata": {},
   "source": [
    "## Functions"
   ]
  },
  {
   "cell_type": "markdown",
   "metadata": {},
   "source": [
    "## Grab sample data from MIMIC"
   ]
  },
  {
   "cell_type": "code",
   "execution_count": 4,
   "metadata": {
    "ExecuteTime": {
     "end_time": "2018-03-18T23:05:14.536531Z",
     "start_time": "2018-03-18T23:04:17.500997Z"
    },
    "hidden": true
   },
   "outputs": [],
   "source": [
    "cats = pd.read_csv('cats.csv')\n",
    "max_limit = 100\n",
    "\n",
    "queries = []\n",
    "for category, n_notes in zip(cats['category'], cats['number_of_notes']):\n",
    "    limit = min(max_limit, n_notes) if max_limit > 0 else n_notes\n",
    "    if limit == max_limit:\n",
    "        q = f\"\"\"\n",
    "        select category, text from correctnotes where category=\\'{category}\\' order by random() limit {limit};\n",
    "        \"\"\"\n",
    "    else:\n",
    "        q = f\"\"\"\n",
    "        select category, text from correctnotes where category=\\'{category}\\';\n",
    "        \"\"\"\n",
    "    queries.append(q)"
   ]
  },
  {
   "cell_type": "code",
   "execution_count": 5,
   "metadata": {},
   "outputs": [],
   "source": [
    "# limit = 50\n",
    "# queries = [\n",
    "#     f\"\"\"\n",
    "#     select category, text from correctnotes where category=\\'{cats.iloc[7]['category']}\\' order by random() limit {limit}\n",
    "#     \"\"\"\n",
    "# ]"
   ]
  },
  {
   "cell_type": "code",
   "execution_count": 6,
   "metadata": {
    "ExecuteTime": {
     "end_time": "2018-03-18T23:05:14.536531Z",
     "start_time": "2018-03-18T23:04:17.500997Z"
    },
    "hidden": true
   },
   "outputs": [
    {
     "name": "stdout",
     "output_type": "stream",
     "text": [
      "(1398, 2)\n",
      "CPU times: user 21.9 ms, sys: 11.9 ms, total: 33.8 ms\n",
      "Wall time: 3.05 s\n"
     ]
    }
   ],
   "source": [
    "%%time\n",
    "dfs = []\n",
    "\n",
    "con = psycopg2.connect(dbname='mimic', user='sudarshan', host='/var/run/postgresql')\n",
    "for q in queries:\n",
    "    df = pd.read_sql_query(q, con)\n",
    "    dfs.append(df)\n",
    "con.close()\n",
    "    \n",
    "df = pd.concat(dfs)\n",
    "df.reset_index(inplace=True, drop=True)\n",
    "# df.set_index('row_id', inplace=True)\n",
    "print(df.shape)"
   ]
  },
  {
   "cell_type": "markdown",
   "metadata": {},
   "source": [
    "1. Get list of redacted types using `re`\n",
    "2. replace it with appropriate holder tokens"
   ]
  },
  {
   "cell_type": "markdown",
   "metadata": {},
   "source": [
    "Below is a list of redacted items with an example and the replacement token.\n",
    "\n",
    "Redacted items:\n",
    "* [x] First Name: `[**First Name (Titles) 137**]`, `t_firstname`\n",
    "* [x] Last Name: `[**Last Name (Titles) **]`, `t_lastname`\n",
    "* [x] Initials: `[**Initials (NamePattern4) **]`, `t_initials`\n",
    "* [x] Name: `[**Name (NI) **]`, `t_name`\n",
    "* [x] Doctor First Name: `[**Doctor First Name 1266**]`, `t_doctor_firstname`\n",
    "* [x] Doctor Last Name: `[**Doctor Last Name 1266**]`, `t_doctor_lastname`\n",
    "* [x] Known Last Name: `[**Known lastname 658**]`, `t_lastname`\n",
    "* [x] Hospital: `[**Hospital1 **]`, `t_hospital`\n",
    "* [x] Hospital Unit Name: `**Hospital Unit Name 10**`, `t_hospital`\n",
    "* [x] Company: `[**Company 12924**]`, `t_workplace`\n",
    "* [x] University/College: `[**University/College **]`, `t_workplace`\n",
    "* [x] Date of format YYYY-M-DD: `[**2112-4-18**]`, `t_fulldate`\n",
    "* [x] Year: `[**Year (4 digits) **]`, `t_year`\n",
    "* [x] Year YYYY format: `[**2119**]`, `t_year` - I use a regex `\\b\\d{4}\\b` that will match **any** 4 digits which might be problematic, but for the most part 4 digits by itself seems to indicate a year.\n",
    "* [x] Date of format M-DD: `[**6-12**]`, `[**12/2151**]`, `t_monthday`\n",
    "* [x] Month/Day: `[**Month/Day (2) 509**]`, `t_monthday`\n",
    "* [x] Month (only): `[**Month (only) 51**]`, `t_month`\n",
    "* [x] Holiday: `[**Holiday 3470**]`, `t_month`\n",
    "* [x] Date Range: `[**Date range (1) 7610**]`, `t_daterange`\n",
    "* [x] Country: `[**Country 9958**]`, `t_country`\n",
    "* [x] State: `[**State 3283**]`, `t_state`\n",
    "* [x] Location: `**Location (un) 2432**`, `t_location`\n",
    "* [x] Telephone/Fax: `[**Telephone/Fax (3) 8049**]`, `t_phone`\n",
    "* [x] Clip Number: `[**Clip Number (Radiology) 29923**]`, `t_radclip_id`\n",
    "* [x] Pager Numeric Identifier: `[**Numeric Identifier 6403**]`, `t_pager_id`\n",
    "* [x] Pager Number: `[**Pager number 13866**]`, `t_pager_id`\n",
    "* [x] Social Security Number: `[**Security Number 10198**]`, `t_ssn`\n",
    "* [x] Serial Number: `[**Serial Number 3567**]`, `t_sn`\n",
    "* [x] Medical Record Number: `[**Medical Record Number **]`, `t_mrn`\n",
    "* [x] Provider Number: `[**Provider Number 12521**]`, `t_provider_no`\n",
    "* [x] Age over 90: `[**Age over 90 **]`, `t_oldage`\n",
    "* [x] Time: `12:52 PM`, split into 6 segments by the hour and replace with the following tokens: `midnight, dawn, forenoon, afternoon, dusk, night`\n",
    "* Just numbers: `[** 7901**]`\n",
    "* Wardname\n",
    "* Pharmacy MD Number* "
   ]
  },
  {
   "cell_type": "code",
   "execution_count": 9,
   "metadata": {},
   "outputs": [],
   "source": [
    "pat = re.compile(r'\\[\\*\\*(.*?)\\*\\*\\]', re.IGNORECASE)"
   ]
  },
  {
   "cell_type": "code",
   "execution_count": 10,
   "metadata": {},
   "outputs": [],
   "source": [
    "tpat = re.compile(r'\\[\\*\\*(\\d{2})\\*\\*\\] \\b[A|P].?M.?\\b', re.IGNORECASE)"
   ]
  },
  {
   "cell_type": "code",
   "execution_count": 7,
   "metadata": {},
   "outputs": [
    {
     "name": "stdout",
     "output_type": "stream",
     "text": [
      "CPU times: user 757 ms, sys: 0 ns, total: 757 ms\n",
      "Wall time: 756 ms\n"
     ]
    }
   ],
   "source": [
    "%%time\n",
    "df['scrubbed'] = df['text'].apply(process_note)"
   ]
  },
  {
   "cell_type": "code",
   "execution_count": null,
   "metadata": {},
   "outputs": [],
   "source": [
    "for i, row in df.iterrows():\n",
    "    if len(pat.findall(row['scrubbed'])) != 0:\n",
    "        print(i, pat.findall(row['scrubbed']))"
   ]
  },
  {
   "cell_type": "code",
   "execution_count": 12,
   "metadata": {},
   "outputs": [
    {
     "name": "stdout",
     "output_type": "stream",
     "text": [
      "[**2107-1-22**] 11:31 AM\n",
      " UNILAT LOWER EXT VEINS LEFT PORT                                Clip # [**Clip Number (Radiology) 52556**]\n",
      " Reason: please evaluate for DVT focusing on Left lower extremity.\n",
      " Admitting Diagnosis: CRF/SDA\n",
      " ______________________________________________________________________________\n",
      " [**Hospital 4**] MEDICAL CONDITION:\n",
      "  47 year old woman s/p renal transplant now with HUS/TTP now with edema LLE.\n",
      " REASON FOR THIS EXAMINATION:\n",
      "  please evaluate for DVT focusing on Left lower extremity.\n",
      " ______________________________________________________________________________\n",
      "                                 FINAL REPORT\n",
      " INDICATION:  47-year-old, post-renal transplant with left lower extremity\n",
      " edema.\n",
      "\n",
      " Grayscale and pulse color Doppler images of the left common femoral,\n",
      " superficial femoral, popliteal, and greater saphenous veins was performed.\n",
      " The examination was somewhat technically difficult due to patient's leg\n",
      " swelling.  There is however normal compressibility, color flow, waveforms, and\n",
      " augmentation.\n",
      "\n",
      " IMPRESSION:\n",
      " No DVT in the left lower extremity.  This was discussed with Dr. [**Last Name (STitle) 10262**] at\n",
      " the completion of the study.\n",
      "\n",
      "\n",
      "\n"
     ]
    }
   ],
   "source": [
    "test = df.iloc[1049]['text']\n",
    "# for m in pat.finditer(test):\n",
    "#     print(m)\n",
    "\n",
    "print(test)"
   ]
  },
  {
   "cell_type": "code",
   "execution_count": 14,
   "metadata": {},
   "outputs": [
    {
     "name": "stdout",
     "output_type": "stream",
     "text": [
      "t_fulldate t_forenoon\n",
      " UNILAT LOWER EXT VEINS LEFT PORT                                Clip # t_radclip_id\n",
      " Reason: please evaluate for DVT focusing on Left lower extremity.\n",
      " Admitting Diagnosis: CRF/SDA\n",
      " ______________________________________________________________________________\n",
      " t_hospital MEDICAL CONDITION:\n",
      "  47 t_year_old woman s/p renal transplant now with HUS/TTP now with edema LLE.\n",
      " REASON FOR THIS EXAMINATION:\n",
      "  please evaluate for DVT focusing on Left lower extremity.\n",
      " ______________________________________________________________________________\n",
      "                                 FINAL REPORT\n",
      " INDICATION:  47-year-old, post-renal transplant with left lower extremity\n",
      " edema.\n",
      "\n",
      " Grayscale and pulse color Doppler images of the left common femoral,\n",
      " superficial femoral, popliteal, and greater saphenous veins was performed.\n",
      " The examination was somewhat technically difficult due to patient's leg\n",
      " swelling.  There is however normal compressibility, color flow, waveforms, and\n",
      " augmentation.\n",
      "\n",
      " IMPRESSION:\n",
      " No DVT in the left lower extremity.  This was discussed with Dr. t_lastname at\n",
      " the completion of the study.\n",
      "\n",
      "\n",
      "\n"
     ]
    }
   ],
   "source": [
    "out = process_note(test)\n",
    "# for m in pat.finditer(out):\n",
    "#     print(m)\n",
    "\n",
    "print(out)"
   ]
  },
  {
   "cell_type": "code",
   "execution_count": null,
   "metadata": {},
   "outputs": [],
   "source": [
    "for i, row in df.iterrows():\n",
    "    if len(tpat.findall(row['text'])) != 0:\n",
    "        print(i, tpat.findall(row['text']))"
   ]
  },
  {
   "cell_type": "code",
   "execution_count": null,
   "metadata": {},
   "outputs": [],
   "source": [
    "for i, row in df.iterrows():\n",
    "    if len(tpat.findall(row['scrubbed'])) != 0:\n",
    "        print(i, tpat.findall(row['scrubbed']))"
   ]
  },
  {
   "cell_type": "code",
   "execution_count": null,
   "metadata": {},
   "outputs": [],
   "source": [
    "def redacorator(func):\n",
    "    def replace(match):\n",
    "        ori = match.group()\n",
    "        text = match.group().lower()\n",
    "        if set(ori) == set(' *]['):\n",
    "            ori = ''\n",
    "        return func(text, ori)\n",
    "    return replace\n",
    "\n",
    "@redacorator\n",
    "def replace_name(text, ori):\n",
    "    r = ori\n",
    "    if 'name' in text:\n",
    "        r = 't_name'\n",
    "        if 'last' in text:\n",
    "            if 'doctor' in text:\n",
    "                r = 't_doctor_lastname'\n",
    "            else:\n",
    "                r = 't_lastname'\n",
    "        elif 'first' in text:\n",
    "            if 'doctor' in text:\n",
    "                r = 't_doctor_firstname'\n",
    "            else:\n",
    "                r = 't_firstname'\n",
    "        elif 'initials' in text:\n",
    "            r = 't_initials'\n",
    "    return r\n",
    "\n",
    "@redacorator\n",
    "def replace_place(text, ori):\n",
    "    r = ori\n",
    "    if 'hospital' in text:\n",
    "        r = 't_hospital'\n",
    "    elif ('company' in text) or ('university/college' in text):\n",
    "        r = 't_workplace'\n",
    "    elif 'location' in text:\n",
    "        r = 't_location'\n",
    "    elif 'country' in text:\n",
    "        r = 't_country'\n",
    "    elif 'state' in text:\n",
    "        r = 't_state'\n",
    "    elif ('address' in text) or ('po box' in text):\n",
    "        r = 't_address'\n",
    "    return r\n",
    "\n",
    "@redacorator\n",
    "def replace_dates(text, ori):\n",
    "    r = ori\n",
    "    if re.search(r'\\d{4}-\\d{0,2}-\\d{0,2}', text):\n",
    "        r = 't_fulldate'\n",
    "    elif (re.search(r'\\d{0,2}-\\d{0,2}', text)) or (re.search(r'\\d{0,2}\\/\\d{0,2}', text)) or ('month/day' in text):\n",
    "        r = 't_monthday'        \n",
    "    elif 'year' in text or re.search(r'\\b\\d{4}\\b', text):\n",
    "        r = 't_year'\n",
    "    elif 'month' in text:\n",
    "        r = 't_month'\n",
    "    elif 'holiday' in text:\n",
    "        r = 't_holiday'\n",
    "    elif 'date range' in text:\n",
    "        r = 't_daterange'\n",
    "    return r\n",
    "\n",
    "@redacorator\n",
    "def replace_identifiers(text, ori):\n",
    "    r = ori\n",
    "    if ('numeric identifier' in text) or ('pager number' in text):\n",
    "        r = 't_pager_id'\n",
    "    elif '(radiology)' in text:\n",
    "        r = 't_radclip_id'\n",
    "    elif 'social security number' in text:\n",
    "        r = 't_ssn'\n",
    "    elif 'medical record number' in text:\n",
    "        r = 't_mrn'\n",
    "    elif 'age over 90' in text:\n",
    "        r = 't_oldage'\n",
    "    elif 'serial number' in text:\n",
    "        r = 't_sn'\n",
    "    elif 'unit number' in text:\n",
    "        r = 't_unit_no'\n",
    "    elif 'md number' in text:\n",
    "        r = 't_md_no'\n",
    "    elif 'telephone/fax' in text:\n",
    "        r = 't_phone'\n",
    "    elif 'provider number' in text:\n",
    "        r = 't_provider_no'\n",
    "    elif 'contact info' in text:\n",
    "        r = 't_contact_info'\n",
    "    return r\n",
    "\n",
    "def replace_redacted(text):    \n",
    "    pat = re.compile(r'\\[\\*\\*(.*?)\\*\\*\\]', re.IGNORECASE)\n",
    "    \n",
    "    # replace name types\n",
    "    text = pat.sub(replace_name, text)\n",
    "    \n",
    "    # replace place types\n",
    "    text = pat.sub(replace_place, text)\n",
    "    \n",
    "    # replace date types\n",
    "    text = pat.sub(replace_dates, text)\n",
    "\n",
    "    # replace person identifier types\n",
    "    text = pat.sub(replace_identifiers, text)\n",
    "    \n",
    "    text = re.sub(r'\\[\\*\\*(\\d{2})\\*\\*\\] \\b[A|P].?M.?\\b', 't_hour', text, re.IGNORECASE)    \n",
    "    return text\n",
    "\n",
    "def replace_time(match):\n",
    "    try:\n",
    "        time = match.group().strip().lower()\n",
    "\n",
    "        # handle exceptions with custom rules\n",
    "        f, s = time.split()\n",
    "        s = 'am' if s[0] == 'a' else 'pm'\n",
    "        l, r = f.split(':')\n",
    "        if l == '' or l == '00':\n",
    "            if r == '':\n",
    "                r = str(0).zfill(2)\n",
    "            l = str(12)\n",
    "        if int(l) > 12:\n",
    "            l = str(int(l) % 12)\n",
    "        f = ':'.join([l, r])\n",
    "        time = ' '.join([f, s])\n",
    "        \n",
    "        d = datetime.datetime.strptime(time, '%I:%M %p')\n",
    "        if d.hour >= 0 and d.hour < 4:\n",
    "            time = 't_midnight'\n",
    "        elif d.hour >= 4 and d.hour < 8:\n",
    "            time = 't_dawn'\n",
    "        elif d.hour >= 8 and d.hour < 12:\n",
    "            time = 't_forenoon'\n",
    "        elif d.hour >= 12 and d.hour < 16:\n",
    "            time = 't_afternoon'\n",
    "        elif d.hour >=16 and d.hour <20:\n",
    "            time = 't_dusk'\n",
    "        else:\n",
    "            time = 't_night'\n",
    "    except ValueError:\n",
    "        time = match.group()\n",
    "    return time\n",
    "\n",
    "def misc_scrub(text):\n",
    "    # replace different types of \"year old\" with year_old\n",
    "    # matches: y.o., y/o, years old. year old, yearold\n",
    "    text = re.sub(r'\\byears? ?old\\b|\\by(?:o|r)*[ ./-]*o(?:ld)?\\b', 't_year_old',\n",
    "               text, flags=re.IGNORECASE)\n",
    "    \n",
    "    # replaces yr, yr's, yrs with years\n",
    "    text = re.sub(r'\\byr[\\'s]*\\b', 'years', text, re.IGNORECASE)\n",
    "    \n",
    "    # replace Pt and pt with patient, and IN/OUT/OT PT with patient\n",
    "    # Note: PT also refers to physical therapy and physical therapist\n",
    "    text = re.sub(r'\\b[P|p]t.?|\\b(IN|OU?T) PT\\b', 'patient', text)\n",
    "    \n",
    "    text = re.sub(r'\\d{0,2}:\\d{0,2} \\b[A|P]\\.?M\\.?\\b', replace_time, text, flags=re.IGNORECASE)\n",
    "    return text\n",
    "\n",
    "def scrub_text(text):      \n",
    "    # replace redacted info with tokens\n",
    "    text = replace_redacted(text)\n",
    "    \n",
    "    # misc scrubbing\n",
    "    text = misc_scrub(text)    \n",
    "    return text"
   ]
  }
 ],
 "metadata": {
  "kernelspec": {
   "display_name": "Python 3",
   "language": "python",
   "name": "python3"
  },
  "language_info": {
   "codemirror_mode": {
    "name": "ipython",
    "version": 3
   },
   "file_extension": ".py",
   "mimetype": "text/x-python",
   "name": "python",
   "nbconvert_exporter": "python",
   "pygments_lexer": "ipython3",
   "version": "3.6.6"
  }
 },
 "nbformat": 4,
 "nbformat_minor": 2
}
