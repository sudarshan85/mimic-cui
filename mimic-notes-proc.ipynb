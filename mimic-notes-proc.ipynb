{
 "cells": [
  {
   "cell_type": "markdown",
   "metadata": {},
   "source": [
    "# MIMIC Notes Pre-Processing\n",
    "\n",
    "Pre-processing MIMIC notes for language model and CUIs"
   ]
  },
  {
   "cell_type": "markdown",
   "metadata": {},
   "source": [
    "## Imports and Inits"
   ]
  },
  {
   "cell_type": "code",
   "execution_count": 1,
   "metadata": {},
   "outputs": [],
   "source": [
    "import pandas as pd\n",
    "import psycopg2\n",
    "import numpy as np\n",
    "import re\n",
    "import random\n",
    "\n",
    "from pathlib import Path"
   ]
  },
  {
   "cell_type": "code",
   "execution_count": 2,
   "metadata": {},
   "outputs": [],
   "source": [
    "PATH = Path('data')"
   ]
  },
  {
   "cell_type": "markdown",
   "metadata": {},
   "source": [
    "## Functions"
   ]
  },
  {
   "cell_type": "markdown",
   "metadata": {},
   "source": [
    "## Grab sample data from MIMIC"
   ]
  },
  {
   "cell_type": "code",
   "execution_count": 3,
   "metadata": {
    "ExecuteTime": {
     "end_time": "2018-03-18T23:05:14.536531Z",
     "start_time": "2018-03-18T23:04:17.500997Z"
    },
    "hidden": true
   },
   "outputs": [],
   "source": [
    "cats = pd.read_csv('cats.csv')\n",
    "max_limit = 10\n",
    "\n",
    "queries = []\n",
    "for category, n_notes in zip(cats['category'], cats['number_of_notes']):\n",
    "    limit = min(max_limit, n_notes) if max_limit > 0 else n_notes\n",
    "    if limit == max_limit:\n",
    "        q = f\"\"\"\n",
    "        select category, text from correctnotes where category=\\'{category}\\' order by random() limit {limit};\n",
    "        \"\"\"\n",
    "    else:\n",
    "        q = f\"\"\"\n",
    "        select category, text from correctnotes where category=\\'{category}\\';\n",
    "        \"\"\"\n",
    "    queries.append(q)"
   ]
  },
  {
   "cell_type": "code",
   "execution_count": 4,
   "metadata": {},
   "outputs": [],
   "source": [
    "# limit = 50\n",
    "# queries = [\n",
    "#     f\"\"\"\n",
    "#     select category, text from correctnotes where category=\\'{cats.iloc[7]['category']}\\' order by random() limit {limit}\n",
    "#     \"\"\"\n",
    "# ]"
   ]
  },
  {
   "cell_type": "code",
   "execution_count": 5,
   "metadata": {
    "ExecuteTime": {
     "end_time": "2018-03-18T23:05:14.536531Z",
     "start_time": "2018-03-18T23:04:17.500997Z"
    },
    "hidden": true
   },
   "outputs": [
    {
     "name": "stdout",
     "output_type": "stream",
     "text": [
      "(140, 2)\n",
      "CPU times: user 26.1 ms, sys: 644 µs, total: 26.7 ms\n",
      "Wall time: 2.09 s\n"
     ]
    }
   ],
   "source": [
    "%%time\n",
    "dfs = []\n",
    "\n",
    "con = psycopg2.connect(dbname='mimic', user='sudarshan', host='/var/run/postgresql')\n",
    "for q in queries:\n",
    "    df = pd.read_sql_query(q, con)\n",
    "    dfs.append(df)\n",
    "con.close()\n",
    "    \n",
    "df = pd.concat(dfs)\n",
    "# df.set_index('row_id', inplace=True)\n",
    "print(df.shape)"
   ]
  },
  {
   "cell_type": "markdown",
   "metadata": {},
   "source": [
    "1. Get list of redacted types using `re`\n",
    "2. replace it with appropriate holder tokens"
   ]
  },
  {
   "cell_type": "markdown",
   "metadata": {},
   "source": [
    "Redacted items:\n",
    "* [x] First Name: `[**First Name (Titles) 137**]`, `t_firstname`\n",
    "* [x] Last Name: `[**Last Name (Titles) **]`, `t_lastname`\n",
    "* [x] Initials: `[**Initials (NamePattern4) **]`, `t_initials`\n",
    "* [x] Name: `[**Name (NI) **]`, `t_name`\n",
    "* [x] Doctor First Name: `[**Doctor First Name 1266**]`, `t_doctor_firstname`\n",
    "* [x] Doctor Last Name: `[**Doctor Last Name 1266**]`, `t_doctor_lastname`\n",
    "* [x] Known Last Name: `[**Known lastname 658**]`, `t_lastname`\n",
    "* [x] Hospital: `[**Hospital1 **]`, `t_hospital`\n",
    "* [x] Company: `[**Company 12924**]`, `t_workplace`\n",
    "* [x] Date of format YYYY-M-DD: `[**2112-4-18**]`, `t_fulldate`\n",
    "* [x] Year: `[**Year (4 digits) **]`, `t_year`\n",
    "* [x] Date of format M-DD: `[**6-12**]`, `t_monthday`\n",
    "* [x] Month/Day: `[**Month/Day (2) 509**]`, `t_monthday`\n",
    "* [x] Month (only): `[**Month (only) 51**]`, `t_month`\n",
    "* [x] Country: `[**Country 9958**]`, `t_country`\n",
    "* [x] Location: `**Location (un) 2432**`, `t_location`\n",
    "* [x] Telephone/Fax: `[**Telephone/Fax (3) 8049**]`, `t_phone`\n",
    "* [x] Clip Number: `[**Clip Number (Radiology) 29923**]`, `t_radclip_id`\n",
    "* [x] Pager Numeric Identifier: `**Numeric Identifier 6403**`, `t_pager_id`\n",
    "* Just numbers: `[** 7901**]`\n",
    "* Wardname\n",
    "* Pharmacy MD Number* \n",
    "* Age over: `**Age over 90 212**`\n",
    "* NULL"
   ]
  },
  {
   "cell_type": "code",
   "execution_count": 171,
   "metadata": {},
   "outputs": [],
   "source": [
    "def redacorator(func):\n",
    "    def replace(match):\n",
    "        ori = match.group()\n",
    "        text = match.group().lower()\n",
    "        return func(text, ori)\n",
    "    return replace\n",
    "\n",
    "@redacorator\n",
    "def replace_name(text, ori):\n",
    "    r = ori\n",
    "    if 'name' in text:\n",
    "        r = 't_name'\n",
    "        if 'last' in text:\n",
    "            if 'doctor' in text:\n",
    "                r = 't_doctor_lastname'\n",
    "            else:\n",
    "                r = 't_lastname'\n",
    "        elif 'first' in text:\n",
    "            if 'doctor' in text:\n",
    "                r = 't_doctor_firstname'\n",
    "            else:\n",
    "                r = 't_firstname'\n",
    "        elif 'initials' in text:\n",
    "            r = 't_initials'\n",
    "    return r\n",
    "\n",
    "@redacorator\n",
    "def replace_place(text, ori):\n",
    "    r = ori\n",
    "    if 'hospital' in text:\n",
    "        r = 't_hospital'\n",
    "    elif 'company' in text:\n",
    "        r = 't_workplace'\n",
    "    elif 'location' in text:\n",
    "        r = 't_location'\n",
    "    elif 'country' in text:\n",
    "        r = 't_country'\n",
    "    elif 'street address' in text:\n",
    "        r = 't_address'\n",
    "    return r\n",
    "\n",
    "@redacorator\n",
    "def replace_dates(text, ori):\n",
    "    r = ori\n",
    "    if 'year' in text:\n",
    "        r = 't_year'\n",
    "    elif re.search(r'\\d{4}-\\d{0,2}-\\d{0,2}', text):\n",
    "        r = 't_fulldate'        \n",
    "    elif re.search(r'\\d{0,2}-\\d{0,2}', text) or 'month/day' in text:\n",
    "        r = 't_monthday'\n",
    "    elif 'month' in text:\n",
    "        r = 't_month'        \n",
    "    return r\n",
    "\n",
    "@redacorator\n",
    "def replace_comm(text, ori):\n",
    "    r = ori\n",
    "    if 'telephone/fax' in text:\n",
    "        r = 't_phone'\n",
    "    return r\n",
    "\n",
    "@redacorator\n",
    "def replace_ids(text, ori):\n",
    "    r = ori\n",
    "    if 'numeric identifier' in text:\n",
    "        r = 't_pager_id'\n",
    "    elif '(radiology)' in text:\n",
    "        r = 't_radclip_id'\n",
    "    return r"
   ]
  },
  {
   "cell_type": "code",
   "execution_count": 185,
   "metadata": {},
   "outputs": [],
   "source": [
    "def replace_redacted(text):\n",
    "    pat = re.compile(r'\\[\\*\\*(.*?)\\*\\*\\]', re.IGNORECASE)\n",
    "    \n",
    "    # replace name types\n",
    "    text = pat.sub(replace_name, text)\n",
    "    \n",
    "    # replace place types\n",
    "    text = pat.sub(replace_place, text)\n",
    "    \n",
    "    # replace date types\n",
    "    text = pat.sub(replace_dates, text)\n",
    "\n",
    "    # replace communication types\n",
    "    text = pat.sub(replace_comm, text)\n",
    "    \n",
    "    # replace id types\n",
    "    text = pat.sub(replace_ids, text)\n",
    "    \n",
    "    return text\n",
    "\n",
    "def misc_scrub(text):\n",
    "    # replace different types of \"year old\" with year_old\n",
    "    # matches: y.o., y/o, years old. year old, yearold\n",
    "    text = re.sub(r'\\byears? ?old\\b|\\by(?:o|r)*[ ./-]*o(?:ld)?\\b', 'year_old',\n",
    "               text, flags=re.IGNORECASE)\n",
    "    \n",
    "    # replaces yr, yr's, yrs with years\n",
    "    text = re.sub(r'\\byr[\\'s]*\\b', 'years', text, re.IGNORECASE)\n",
    "    \n",
    "    # replace Pt and pt with patient, and IN/OUT/OT PT with patient\n",
    "    # Note: PT also refers to physical therapy and physical therapist\n",
    "    text = re.sub(r'\\b[P|p]t.?|\\b(IN|OU?T) PT\\b', 'patient', text)\n",
    "    \n",
    "    return text"
   ]
  },
  {
   "cell_type": "code",
   "execution_count": 181,
   "metadata": {},
   "outputs": [],
   "source": [
    "def scrub_text(text):\n",
    "    # replace redacted info with tokens\n",
    "    text = replace_redacted(text)\n",
    "    \n",
    "    # misc scrubbing\n",
    "    text = misc_scrub(text)\n",
    "    \n",
    "    return text"
   ]
  },
  {
   "cell_type": "code",
   "execution_count": null,
   "metadata": {},
   "outputs": [],
   "source": [
    "pat = re.compile(r'\\[\\*\\*(.*?)\\*\\*\\]', re.IGNORECASE)"
   ]
  },
  {
   "cell_type": "code",
   "execution_count": 239,
   "metadata": {},
   "outputs": [
    {
     "name": "stdout",
     "output_type": "stream",
     "text": [
      "<_sre.SRE_Match object; span=(38, 58), match='[**Hospital3 6401**]'>\n",
      "<_sre.SRE_Match object; span=(62, 86), match='[**Location (un) 3356**]'>\n",
      "<_sre.SRE_Match object; span=(231, 242), match='[**10-29**]'>\n",
      "<_sre.SRE_Match object; span=(244, 254), match='[**11-2**]'>\n",
      "<_sre.SRE_Match object; span=(258, 293), match='[**First Name8 (NamePattern2) 16**]'>\n",
      "<_sre.SRE_Match object; span=(297, 328), match='[**Last Name (NamePattern1) **]'>\n",
      "<_sre.SRE_Match object; span=(329, 360), match='[**Last Name (Prefixes) 6402**]'>\n",
      "<_sre.SRE_Match object; span=(385, 398), match='[**1-/7436**]'>\n",
      "<_sre.SRE_Match object; span=(408, 437), match='[**Numeric Identifier 6403**]'>\n"
     ]
    }
   ],
   "source": [
    "test = df.iloc[random.randint(0, 140)]['text']\n",
    "for m in pat.finditer(test):\n",
    "    print(m)"
   ]
  },
  {
   "cell_type": "code",
   "execution_count": 233,
   "metadata": {},
   "outputs": [
    {
     "name": "stdout",
     "output_type": "stream",
     "text": [
      "<_sre.SRE_Match object; span=(47, 58), match='[** 7901**]'>\n"
     ]
    }
   ],
   "source": [
    "# out = pat_all.sub(replace_name, test)\n",
    "out = scrub_text(test)\n",
    "for m in pat.finditer(out):\n",
    "    print(m)"
   ]
  },
  {
   "cell_type": "code",
   "execution_count": 234,
   "metadata": {},
   "outputs": [
    {
     "name": "stdout",
     "output_type": "stream",
     "text": [
      "Family meeting held again today with pt\n",
      "s [** 7901**] [**Name (NI) 11659**] and\n",
      "   [**Name (NI) 11660**].  SICU and neurology teams updated family on pt\n",
      "s condition\n",
      "   and asked for their direction in terms of moving forward.  [**Name (NI) **]\n",
      "   will discuss today\n",
      "s meeting with the extended family, pt has never\n",
      "   talked about end of life issue\n",
      "s with her [**Name (NI) 7901**].    [**Name (NI) **]\n",
      "   appropriately tearful, asking good questions for clarification and\n",
      "   working well with the teams.\n",
      "\n"
     ]
    }
   ],
   "source": [
    "print(test)"
   ]
  },
  {
   "cell_type": "code",
   "execution_count": 235,
   "metadata": {},
   "outputs": [
    {
     "name": "stdout",
     "output_type": "stream",
     "text": [
      "Family meeting held again today with patient\n",
      "s [** 7901**] t_name and\n",
      "   t_name.  SICU and neurology teams updated family on patient\n",
      "s condition\n",
      "   and asked for their direction in terms of moving forward.  t_name\n",
      "   will discuss today\n",
      "s meeting with the extended family, patienthas never\n",
      "   talked about end of life issue\n",
      "s with her t_name.    t_name\n",
      "   appropriately tearful, asking good questions for clarification and\n",
      "   working well with the teams.\n",
      "\n"
     ]
    }
   ],
   "source": [
    "print(out)"
   ]
  },
  {
   "cell_type": "code",
   "execution_count": null,
   "metadata": {},
   "outputs": [],
   "source": [
    "df['scrubbed'] = df['text'].apply(replace_redacted)"
   ]
  },
  {
   "cell_type": "code",
   "execution_count": null,
   "metadata": {},
   "outputs": [],
   "source": [
    "pat_name = re.compile(r'(\\[\\*\\*(?:(?!\\[\\*\\*).)*?name.*?\\*\\*\\])', re.IGNORECASE)\n",
    "print(np.all(df['scrubbed'].apply(lambda t: len(pat_name.findall(t))).values == 0))\n",
    "\n",
    "# pat_hos = re.compile(r'(\\[\\*\\*(?:(?!\\[\\*\\*).)*?hospital.*?\\*\\*\\])', re.IGNORECASE)\n",
    "# print(np.all(df['scrubbed'].apply(lambda t: len(pat_hos.findall(t))).values == 0))"
   ]
  },
  {
   "cell_type": "code",
   "execution_count": null,
   "metadata": {},
   "outputs": [],
   "source": [
    "for _, row in df.iterrows():\n",
    "    if len(pat_name.findall(row['scrubbed'])) != 0:\n",
    "        print(pat_name.findall(row['scrubbed']))"
   ]
  },
  {
   "cell_type": "code",
   "execution_count": 58,
   "metadata": {},
   "outputs": [],
   "source": [
    "x = \"2118-4-18\""
   ]
  },
  {
   "cell_type": "code",
   "execution_count": 60,
   "metadata": {},
   "outputs": [
    {
     "data": {
      "text/plain": [
       "<_sre.SRE_Match object; span=(0, 9), match='2118-4-18'>"
      ]
     },
     "execution_count": 60,
     "metadata": {},
     "output_type": "execute_result"
    }
   ],
   "source": [
    "re.search(r'\\d{4}-\\d{0,2}-\\d{0,2}', x, re.IGNORECASE)"
   ]
  }
 ],
 "metadata": {
  "kernelspec": {
   "display_name": "Python 3",
   "language": "python",
   "name": "python3"
  },
  "language_info": {
   "codemirror_mode": {
    "name": "ipython",
    "version": 3
   },
   "file_extension": ".py",
   "mimetype": "text/x-python",
   "name": "python",
   "nbconvert_exporter": "python",
   "pygments_lexer": "ipython3",
   "version": "3.6.6"
  }
 },
 "nbformat": 4,
 "nbformat_minor": 2
}
