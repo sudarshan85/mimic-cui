{
 "cells": [
  {
   "cell_type": "markdown",
   "metadata": {},
   "source": [
    "# MIMIC Notes Pre-Processing\n",
    "\n",
    "Pre-processing MIMIC notes for language model and CUIs"
   ]
  },
  {
   "cell_type": "markdown",
   "metadata": {},
   "source": [
    "## Imports and Inits"
   ]
  },
  {
   "cell_type": "code",
   "execution_count": 1,
   "metadata": {},
   "outputs": [],
   "source": [
    "import pandas as pd\n",
    "import psycopg2\n",
    "import numpy as np\n",
    "\n",
    "from pathlib import Path"
   ]
  },
  {
   "cell_type": "code",
   "execution_count": 2,
   "metadata": {},
   "outputs": [],
   "source": [
    "PATH = Path('data')"
   ]
  },
  {
   "cell_type": "markdown",
   "metadata": {},
   "source": [
    "## Functions"
   ]
  },
  {
   "cell_type": "markdown",
   "metadata": {},
   "source": [
    "## Grab sample data from MIMIC"
   ]
  },
  {
   "cell_type": "code",
   "execution_count": 3,
   "metadata": {},
   "outputs": [],
   "source": [
    "cats = pd.read_csv('cats.csv')\n",
    "cats.sort_values('number_of_notes', ascending=False)"
   ]
  },
  {
   "cell_type": "code",
   "execution_count": 11,
   "metadata": {
    "ExecuteTime": {
     "end_time": "2018-03-18T23:05:14.536531Z",
     "start_time": "2018-03-18T23:04:17.500997Z"
    },
    "hidden": true
   },
   "outputs": [],
   "source": [
    "cats = pd.read_csv('cats.csv')\n",
    "max_limit = 4\n",
    "\n",
    "queries = []\n",
    "for category, n_notes in zip(cats['category'], cats['number_of_notes']):\n",
    "    limit = min(max_limit, n_notes) if max_limit > 0 else n_notes\n",
    "    if limit == max_limit:\n",
    "        q = f\"\"\"\n",
    "        select category, text from correctnotes where category=\\'{category}\\' order by random() limit {limit};\n",
    "        \"\"\"\n",
    "    else:\n",
    "        q = f\"\"\"\n",
    "        select category, text from correctnotes where category=\\'{category}\\';\n",
    "        \"\"\"\n",
    "    queries.append(q)"
   ]
  },
  {
   "cell_type": "code",
   "execution_count": null,
   "metadata": {},
   "outputs": [],
   "source": [
    "# limit = 50\n",
    "# queries = [\n",
    "#     f\"\"\"\n",
    "#     select category, text from correctnotes where category=\\'{cats.iloc[7]['category']}\\' order by random() limit {limit}\n",
    "#     \"\"\"\n",
    "# ]"
   ]
  },
  {
   "cell_type": "code",
   "execution_count": 12,
   "metadata": {
    "ExecuteTime": {
     "end_time": "2018-03-18T23:05:14.536531Z",
     "start_time": "2018-03-18T23:04:17.500997Z"
    },
    "hidden": true
   },
   "outputs": [
    {
     "data": {
      "text/plain": [
       "(56, 2)"
      ]
     },
     "execution_count": 12,
     "metadata": {},
     "output_type": "execute_result"
    }
   ],
   "source": [
    "dfs = []\n",
    "\n",
    "con = psycopg2.connect(dbname='mimic', user='sudarshan', host='/var/run/postgresql')\n",
    "for q in queries:\n",
    "    df = pd.read_sql_query(q, con)\n",
    "    dfs.append(df)\n",
    "con.close()\n",
    "    \n",
    "df = pd.concat(dfs)\n",
    "# df.set_index('row_id', inplace=True)\n",
    "df.shape"
   ]
  },
  {
   "cell_type": "markdown",
   "metadata": {},
   "source": [
    "1. Get list of redacted types using `re`\n",
    "2. replace it with appropriate holder tokens"
   ]
  },
  {
   "cell_type": "markdown",
   "metadata": {},
   "source": [
    "Redacted items:\n",
    "* ~~First Name~~\n",
    "* ~~Last Name~~\n",
    "* Hospital\n",
    "* Date of format M-DD\n",
    "* Date of format YYYY-M-DD\n",
    "* ~~Name~~\n",
    "* NULL\n",
    "* ~~Known lastname~~\n",
    "* ~~Doctor First Name~~\n",
    "* Doctor Last Name\n",
    "* Month (only)\n",
    "* Just numbers\n",
    "* Location\n",
    "* Month/Day\n",
    "* Telephone/Fax\n",
    "* Wardname\n",
    "* Numeric Identifier"
   ]
  },
  {
   "cell_type": "code",
   "execution_count": 13,
   "metadata": {},
   "outputs": [],
   "source": [
    "import re\n",
    "import random"
   ]
  },
  {
   "cell_type": "code",
   "execution_count": 31,
   "metadata": {},
   "outputs": [
    {
     "name": "stdout",
     "output_type": "stream",
     "text": [
      "Pharmacy Note\n",
      " Sedation\n",
      "   Assessment:\n",
      "   Day 19 of continuous sedation; Currently on midazolam 3 mg/hr (low dose\n",
      "   compared to previous doses this stay); currently no pain medications;\n",
      "   currently no antipsychotic medications; [**Last Name (un) 550**] 5 (agitated);  Has been\n",
      "   on continuous pentobarbital, fentanyl, propofol, midazolam and\n",
      "   intermittent methadone this stay.\n",
      "   Recommendation:\n",
      "          Continue midazolam as is and wean as tolerated 25 to 50% per\n",
      "   day.  Given the extended duration of exposure to sedatives, a schedule\n",
      "   of lorazepam 2 mg q6h may be required to avoid benzodiazepine\n",
      "   withdrawal once the versed drip is completely discontinued; would\n",
      "   schedule the lorazepam and taper to off over a 5 to 7 day period (2 mg\n",
      "   q6h x 2 days, 2 mg q8h x 3 days, then 2 mg [**Hospital1 **] x 2 days then only as\n",
      "   needed.  Supplemental pain medication may also be required to avoid\n",
      "   agitation when removing the benzodiazepine.\n",
      "          Consider supplementing haloperidol 5 mg q6h or q4h for\n",
      "   agitation.  Obtain baseline and daily QTc and hold if QTc widens >\n",
      "   20%.  Alternatively, olanzepine may be used with the same dose and\n",
      "   frequency to minimize the risk of QTc prolongation\n",
      " olanzepine brings\n",
      "   the lowest risk of QTc prolongation of all antipsychotics.  Haldol or\n",
      "   Zyprexa should only be required during the approach to wean and just\n",
      "   after to ensure stabilization through the wean and when off the\n",
      "   ventilator.\n",
      "   [**Initials (NamePattern4) **] [**Last Name (NamePattern4) **], PharmD\n",
      "   Pager [**Numeric Identifier 499**]\n",
      "\n"
     ]
    }
   ],
   "source": [
    "test = df.iloc[random.randint(0, 50)]['text']\n",
    "print(test)"
   ]
  },
  {
   "cell_type": "code",
   "execution_count": 32,
   "metadata": {},
   "outputs": [
    {
     "name": "stdout",
     "output_type": "stream",
     "text": [
      "<_sre.SRE_Match object; span=(230, 254), match='[**Last Name (un) 550**]'>\n",
      "<_sre.SRE_Match object; span=(800, 816), match='[**Hospital1 **]'>\n",
      "<_sre.SRE_Match object; span=(1465, 1495), match='[**Initials (NamePattern4) **]'>\n",
      "<_sre.SRE_Match object; span=(1496, 1527), match='[**Last Name (NamePattern4) **]'>\n",
      "<_sre.SRE_Match object; span=(1545, 1573), match='[**Numeric Identifier 499**]'>\n"
     ]
    }
   ],
   "source": [
    "pat_all = re.compile(r'\\[\\*\\*(.*?)\\*\\*\\]', re.IGNORECASE)\n",
    "\n",
    "for m in pat_all.finditer(test):\n",
    "    print(m)"
   ]
  },
  {
   "cell_type": "code",
   "execution_count": 33,
   "metadata": {},
   "outputs": [
    {
     "name": "stdout",
     "output_type": "stream",
     "text": [
      "<_sre.SRE_Match object; span=(230, 254), match='[**Last Name (un) 550**]'>\n",
      "<_sre.SRE_Match object; span=(1465, 1495), match='[**Initials (NamePattern4) **]'>\n",
      "<_sre.SRE_Match object; span=(1496, 1527), match='[**Last Name (NamePattern4) **]'>\n"
     ]
    }
   ],
   "source": [
    "pat_name = re.compile(r'\\[\\*\\*(.*?Name.*?)\\*\\*\\]', re.IGNORECASE)\n",
    "\n",
    "for m in pat_name.finditer(test):\n",
    "    print(m)"
   ]
  },
  {
   "cell_type": "code",
   "execution_count": 34,
   "metadata": {},
   "outputs": [],
   "source": [
    "def replace_name(m):\n",
    "    r = 't_name'\n",
    "    if 'Last' in m.group() or 'last' in m.group():\n",
    "        if 'Doctor' in m.group():\n",
    "            r = 't_doc_ln'\n",
    "        else:\n",
    "            r = 't_ln'\n",
    "    elif 'First' in m.group() or 'first' in m.group():\n",
    "        if 'Doctor' in m.group():\n",
    "            r = 't_doc_fn'\n",
    "        else:\n",
    "            r = 't_fn'\n",
    "    return r"
   ]
  },
  {
   "cell_type": "code",
   "execution_count": 35,
   "metadata": {},
   "outputs": [],
   "source": [
    "out = pat_name.sub(replace_name, test)"
   ]
  },
  {
   "cell_type": "code",
   "execution_count": 36,
   "metadata": {},
   "outputs": [
    {
     "name": "stdout",
     "output_type": "stream",
     "text": [
      "Pharmacy Note\n",
      " Sedation\n",
      "   Assessment:\n",
      "   Day 19 of continuous sedation; Currently on midazolam 3 mg/hr (low dose\n",
      "   compared to previous doses this stay); currently no pain medications;\n",
      "   currently no antipsychotic medications; t_ln 5 (agitated);  Has been\n",
      "   on continuous pentobarbital, fentanyl, propofol, midazolam and\n",
      "   intermittent methadone this stay.\n",
      "   Recommendation:\n",
      "          Continue midazolam as is and wean as tolerated 25 to 50% per\n",
      "   day.  Given the extended duration of exposure to sedatives, a schedule\n",
      "   of lorazepam 2 mg q6h may be required to avoid benzodiazepine\n",
      "   withdrawal once the versed drip is completely discontinued; would\n",
      "   schedule the lorazepam and taper to off over a 5 to 7 day period (2 mg\n",
      "   q6h x 2 days, 2 mg q8h x 3 days, then 2 mg [**Hospital1 **] x 2 days then only as\n",
      "   needed.  Supplemental pain medication may also be required to avoid\n",
      "   agitation when removing the benzodiazepine.\n",
      "          Consider supplementing haloperidol 5 mg q6h or q4h for\n",
      "   agitation.  Obtain baseline and daily QTc and hold if QTc widens >\n",
      "   20%.  Alternatively, olanzepine may be used with the same dose and\n",
      "   frequency to minimize the risk of QTc prolongation\n",
      " olanzepine brings\n",
      "   the lowest risk of QTc prolongation of all antipsychotics.  Haldol or\n",
      "   Zyprexa should only be required during the approach to wean and just\n",
      "   after to ensure stabilization through the wean and when off the\n",
      "   ventilator.\n",
      "   t_name t_ln, PharmD\n",
      "   Pager [**Numeric Identifier 499**]\n",
      "\n"
     ]
    }
   ],
   "source": [
    "for m in pat_name.finditer(out):\n",
    "    print(m)\n",
    "\n",
    "print(out)"
   ]
  }
 ],
 "metadata": {
  "kernelspec": {
   "display_name": "Python 3",
   "language": "python",
   "name": "python3"
  },
  "language_info": {
   "codemirror_mode": {
    "name": "ipython",
    "version": 3
   },
   "file_extension": ".py",
   "mimetype": "text/x-python",
   "name": "python",
   "nbconvert_exporter": "python",
   "pygments_lexer": "ipython3",
   "version": "3.6.6"
  }
 },
 "nbformat": 4,
 "nbformat_minor": 2
}
