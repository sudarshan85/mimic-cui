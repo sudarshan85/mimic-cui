{
 "cells": [
  {
   "cell_type": "markdown",
   "metadata": {},
   "source": [
    "# MIMIC Notes Pre-Processing\n",
    "\n",
    "Pre-processing MIMIC notes for language model and CUIs"
   ]
  },
  {
   "cell_type": "markdown",
   "metadata": {},
   "source": [
    "## Imports and Inits"
   ]
  },
  {
   "cell_type": "code",
   "execution_count": null,
   "metadata": {},
   "outputs": [],
   "source": [
    "import pandas as pd\n",
    "import psycopg2\n",
    "import numpy as np\n",
    "import re\n",
    "import random\n",
    "\n",
    "from pathlib import Path"
   ]
  },
  {
   "cell_type": "code",
   "execution_count": null,
   "metadata": {},
   "outputs": [],
   "source": [
    "PATH = Path('data')"
   ]
  },
  {
   "cell_type": "markdown",
   "metadata": {},
   "source": [
    "## Functions"
   ]
  },
  {
   "cell_type": "markdown",
   "metadata": {},
   "source": [
    "## Grab sample data from MIMIC"
   ]
  },
  {
   "cell_type": "code",
   "execution_count": null,
   "metadata": {
    "ExecuteTime": {
     "end_time": "2018-03-18T23:05:14.536531Z",
     "start_time": "2018-03-18T23:04:17.500997Z"
    },
    "hidden": true
   },
   "outputs": [],
   "source": [
    "cats = pd.read_csv('cats.csv')\n",
    "max_limit = 10\n",
    "\n",
    "queries = []\n",
    "for category, n_notes in zip(cats['category'], cats['number_of_notes']):\n",
    "    limit = min(max_limit, n_notes) if max_limit > 0 else n_notes\n",
    "    if limit == max_limit:\n",
    "        q = f\"\"\"\n",
    "        select category, text from correctnotes where category=\\'{category}\\' order by random() limit {limit};\n",
    "        \"\"\"\n",
    "    else:\n",
    "        q = f\"\"\"\n",
    "        select category, text from correctnotes where category=\\'{category}\\';\n",
    "        \"\"\"\n",
    "    queries.append(q)"
   ]
  },
  {
   "cell_type": "code",
   "execution_count": null,
   "metadata": {},
   "outputs": [],
   "source": [
    "# limit = 50\n",
    "# queries = [\n",
    "#     f\"\"\"\n",
    "#     select category, text from correctnotes where category=\\'{cats.iloc[7]['category']}\\' order by random() limit {limit}\n",
    "#     \"\"\"\n",
    "# ]"
   ]
  },
  {
   "cell_type": "code",
   "execution_count": null,
   "metadata": {
    "ExecuteTime": {
     "end_time": "2018-03-18T23:05:14.536531Z",
     "start_time": "2018-03-18T23:04:17.500997Z"
    },
    "hidden": true
   },
   "outputs": [],
   "source": [
    "%%time\n",
    "dfs = []\n",
    "\n",
    "con = psycopg2.connect(dbname='mimic', user='sudarshan', host='/var/run/postgresql')\n",
    "for q in queries:\n",
    "    df = pd.read_sql_query(q, con)\n",
    "    dfs.append(df)\n",
    "con.close()\n",
    "    \n",
    "df = pd.concat(dfs)\n",
    "# df.set_index('row_id', inplace=True)\n",
    "print(df.shape)"
   ]
  },
  {
   "cell_type": "markdown",
   "metadata": {},
   "source": [
    "1. Get list of redacted types using `re`\n",
    "2. replace it with appropriate holder tokens"
   ]
  },
  {
   "cell_type": "markdown",
   "metadata": {},
   "source": [
    "Redacted items:\n",
    "* ~~First Name~~\n",
    "* ~~Last Name~~\n",
    "* Hospital\n",
    "* Date of format M-DD\n",
    "* Date of format YYYY-M-DD\n",
    "* ~~Initials~~\n",
    "* ~~Name~~\n",
    "* NULL\n",
    "* ~~Known lastname~~\n",
    "* ~~Doctor First Name~~\n",
    "* Doctor Last Name\n",
    "* Month (only)\n",
    "* Just numbers\n",
    "* Location\n",
    "* Month/Day\n",
    "* Telephone/Fax\n",
    "* Wardname\n",
    "* Pager Numeric Identifier\n",
    "* Pharmacy MD Number"
   ]
  },
  {
   "cell_type": "markdown",
   "metadata": {},
   "source": [
    "Redacted items:\n",
    "* `[**First Name (Titles) 137**]`\n",
    "* `[**Last Name (Titles) **]`\n",
    "* `[**Initials (NamePattern4) **]`\n",
    "* `[**Name (NI) **]`\n",
    "* `[**Doctor Last Name 1266**]`\n",
    "* `[**Doctor Last Name 1266**]`\n",
    "* `[**Known lastname 658**]`\n",
    "* Hospital\n",
    "* Date of format M-DD\n",
    "* Date of format YYYY-M-DD\n",
    "* NULL\n",
    "* Month (only)\n",
    "* Just numbers\n",
    "* Location\n",
    "* Month/Day\n",
    "* Telephone/Fax\n",
    "* Wardname\n",
    "* Pager Numeric Identifier\n",
    "* Pharmacy MD Number"
   ]
  },
  {
   "cell_type": "code",
   "execution_count": 44,
   "metadata": {},
   "outputs": [
    {
     "name": "stdout",
     "output_type": "stream",
     "text": [
      "Planned Discharge Date: [**2138-3-21**]\n",
      "   Insurance Update\n",
      "   Primary insurance / reviewer: Not [**Hospital 8**]\n",
      "   Hospital days authorized to:\n",
      "   Current Discharge Plan: Home with services\n",
      "   A family has been held and it was determined Mr. [**Known lastname 658**] wishes to go\n",
      "   home to [**Location (un) 784**] with hospice care. Mrs [**Known lastname 658**] did not have a\n",
      "   preference on which agency was called to provide care for her husband.\n",
      "   [**Name (NI) 7**](s) To Discharge:\n",
      "   Family Meeting: Yes\n",
      "   Referrals:\n",
      "   1)       VNA of [**Location (un) 785**] East [**Telephone/Fax (1) 786**]  Fax: [**Telephone/Fax (1) 786**]\n",
      "   Narrative / Plan:\n",
      "   The VNA of [**Location (un) 785**] has nursing availablity on Sunday. The equipment:\n",
      "   bed, mattress, wheelchair have been ordered and will be delievered on\n",
      "   Saturday. I have relayed this information to the team. Once the\n",
      "   equipment is delivered on Saturday Mr. [**Known lastname 658**] could go home and have\n",
      "   the Hospice visit on Sunday.\n",
      "\n"
     ]
    }
   ],
   "source": [
    "test = df.iloc[random.randint(0, 50)]['text']\n",
    "print(test)"
   ]
  },
  {
   "cell_type": "code",
   "execution_count": 45,
   "metadata": {},
   "outputs": [
    {
     "name": "stdout",
     "output_type": "stream",
     "text": [
      "<_sre.SRE_Match object; span=(24, 39), match='[**2138-3-21**]'>\n",
      "<_sre.SRE_Match object; span=(97, 113), match='[**Hospital 8**]'>\n",
      "<_sre.SRE_Match object; span=(244, 268), match='[**Known lastname 658**]'>\n",
      "<_sre.SRE_Match object; span=(293, 316), match='[**Location (un) 784**]'>\n",
      "<_sre.SRE_Match object; span=(340, 364), match='[**Known lastname 658**]'>\n",
      "<_sre.SRE_Match object; span=(457, 474), match='[**Name (NI) 7**]'>\n",
      "<_sre.SRE_Match object; span=(548, 571), match='[**Location (un) 785**]'>\n",
      "<_sre.SRE_Match object; span=(577, 604), match='[**Telephone/Fax (1) 786**]'>\n",
      "<_sre.SRE_Match object; span=(611, 638), match='[**Telephone/Fax (1) 786**]'>\n",
      "<_sre.SRE_Match object; span=(674, 697), match='[**Location (un) 785**]'>\n",
      "<_sre.SRE_Match object; span=(930, 954), match='[**Known lastname 658**]'>\n"
     ]
    }
   ],
   "source": [
    "pat_all = re.compile(r'\\[\\*\\*(.*?)\\*\\*\\]', re.IGNORECASE)\n",
    "\n",
    "for m in pat_all.finditer(test):\n",
    "    print(m)"
   ]
  },
  {
   "cell_type": "code",
   "execution_count": 48,
   "metadata": {},
   "outputs": [],
   "source": [
    "pat_name = re.compile(r'(\\[\\*\\*(?:(?!\\[\\*\\*).)*?name.*?\\*\\*\\])', re.IGNORECASE)"
   ]
  },
  {
   "cell_type": "code",
   "execution_count": 49,
   "metadata": {},
   "outputs": [
    {
     "name": "stdout",
     "output_type": "stream",
     "text": [
      "<_sre.SRE_Match object; span=(244, 268), match='[**Known lastname 658**]'>\n",
      "<_sre.SRE_Match object; span=(340, 364), match='[**Known lastname 658**]'>\n",
      "<_sre.SRE_Match object; span=(457, 474), match='[**Name (NI) 7**]'>\n",
      "<_sre.SRE_Match object; span=(930, 954), match='[**Known lastname 658**]'>\n"
     ]
    }
   ],
   "source": [
    "pat = pat_name\n",
    "for m in pat.finditer(test):\n",
    "    print(m)"
   ]
  },
  {
   "cell_type": "code",
   "execution_count": null,
   "metadata": {},
   "outputs": [],
   "source": [
    "out = replace_redacted(test)"
   ]
  },
  {
   "cell_type": "code",
   "execution_count": null,
   "metadata": {},
   "outputs": [],
   "source": [
    "print(out)"
   ]
  },
  {
   "cell_type": "code",
   "execution_count": null,
   "metadata": {},
   "outputs": [],
   "source": [
    "def replace_name(match):\n",
    "    r = 't_name'\n",
    "    if 'Last' in match.group() or 'last' in match.group():\n",
    "        if 'Doctor' in match.group():\n",
    "            r = 't_name_doc_last'\n",
    "        else:\n",
    "            r = 't_name_last'\n",
    "    elif 'First' in match.group() or 'first' in match.group():\n",
    "        if 'Doctor' in match.group():\n",
    "            r = 't_name_doc_first'\n",
    "        else:\n",
    "            r = 't_name_first'\n",
    "    elif 'Initials' in match.group():\n",
    "        r = 't_name_inits'\n",
    "    return r"
   ]
  },
  {
   "cell_type": "code",
   "execution_count": null,
   "metadata": {},
   "outputs": [],
   "source": [
    "def replace_redacted(text):\n",
    "    # replace name types with unique tokens\n",
    "    pat_name = re.compile(r'\\[\\*\\*(.*?Name.*?)\\*\\*\\]', re.IGNORECASE) \n",
    "    text = pat_name.sub(replace_name, text)\n",
    "    \n",
    "    return text"
   ]
  },
  {
   "cell_type": "code",
   "execution_count": null,
   "metadata": {},
   "outputs": [],
   "source": [
    "df['scrubbed'] = df['text'].apply(replace_redacted)"
   ]
  },
  {
   "cell_type": "code",
   "execution_count": null,
   "metadata": {},
   "outputs": [],
   "source": [
    "pat_name = re.compile(r'\\[\\*\\*(.*?Name.*?)\\*\\*\\]', re.IGNORECASE)"
   ]
  },
  {
   "cell_type": "code",
   "execution_count": null,
   "metadata": {},
   "outputs": [],
   "source": [
    "np.all(df['scrubbed'].apply(lambda t: len(pat_name.findall(t))).values == 0)"
   ]
  },
  {
   "cell_type": "code",
   "execution_count": null,
   "metadata": {},
   "outputs": [],
   "source": [
    "for _, row in df.iterrows():\n",
    "    print(len(pat_name.findall(row['scrubbed'])))"
   ]
  },
  {
   "cell_type": "code",
   "execution_count": null,
   "metadata": {},
   "outputs": [],
   "source": [
    "# out = pat_name.sub(replace_name, test)\n",
    "out = replace_redacted(test)"
   ]
  },
  {
   "cell_type": "code",
   "execution_count": null,
   "metadata": {},
   "outputs": [],
   "source": [
    "for m in pat_name.finditer(out):\n",
    "    print(m)\n",
    "\n",
    "print(out)"
   ]
  }
 ],
 "metadata": {
  "kernelspec": {
   "display_name": "Python 3",
   "language": "python",
   "name": "python3"
  },
  "language_info": {
   "codemirror_mode": {
    "name": "ipython",
    "version": 3
   },
   "file_extension": ".py",
   "mimetype": "text/x-python",
   "name": "python",
   "nbconvert_exporter": "python",
   "pygments_lexer": "ipython3",
   "version": "3.6.6"
  }
 },
 "nbformat": 4,
 "nbformat_minor": 2
}
