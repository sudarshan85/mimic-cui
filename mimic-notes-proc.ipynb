{
 "cells": [
  {
   "cell_type": "markdown",
   "metadata": {},
   "source": [
    "# MIMIC Notes Pre-Processing\n",
    "\n",
    "Pre-processing MIMIC notes for language model and CUIs"
   ]
  },
  {
   "cell_type": "markdown",
   "metadata": {},
   "source": [
    "## Imports and Inits"
   ]
  },
  {
   "cell_type": "code",
   "execution_count": 1,
   "metadata": {},
   "outputs": [],
   "source": [
    "import pandas as pd\n",
    "import psycopg2\n",
    "import numpy as np\n",
    "import re\n",
    "import random\n",
    "\n",
    "from pathlib import Path"
   ]
  },
  {
   "cell_type": "code",
   "execution_count": 2,
   "metadata": {},
   "outputs": [],
   "source": [
    "PATH = Path('data')"
   ]
  },
  {
   "cell_type": "markdown",
   "metadata": {},
   "source": [
    "## Functions"
   ]
  },
  {
   "cell_type": "markdown",
   "metadata": {},
   "source": [
    "## Grab sample data from MIMIC"
   ]
  },
  {
   "cell_type": "code",
   "execution_count": 3,
   "metadata": {
    "ExecuteTime": {
     "end_time": "2018-03-18T23:05:14.536531Z",
     "start_time": "2018-03-18T23:04:17.500997Z"
    },
    "hidden": true
   },
   "outputs": [],
   "source": [
    "cats = pd.read_csv('cats.csv')\n",
    "max_limit = 4\n",
    "\n",
    "queries = []\n",
    "for category, n_notes in zip(cats['category'], cats['number_of_notes']):\n",
    "    limit = min(max_limit, n_notes) if max_limit > 0 else n_notes\n",
    "    if limit == max_limit:\n",
    "        q = f\"\"\"\n",
    "        select category, text from correctnotes where category=\\'{category}\\' order by random() limit {limit};\n",
    "        \"\"\"\n",
    "    else:\n",
    "        q = f\"\"\"\n",
    "        select category, text from correctnotes where category=\\'{category}\\';\n",
    "        \"\"\"\n",
    "    queries.append(q)"
   ]
  },
  {
   "cell_type": "code",
   "execution_count": 4,
   "metadata": {},
   "outputs": [],
   "source": [
    "# limit = 50\n",
    "# queries = [\n",
    "#     f\"\"\"\n",
    "#     select category, text from correctnotes where category=\\'{cats.iloc[7]['category']}\\' order by random() limit {limit}\n",
    "#     \"\"\"\n",
    "# ]"
   ]
  },
  {
   "cell_type": "code",
   "execution_count": 5,
   "metadata": {
    "ExecuteTime": {
     "end_time": "2018-03-18T23:05:14.536531Z",
     "start_time": "2018-03-18T23:04:17.500997Z"
    },
    "hidden": true
   },
   "outputs": [
    {
     "data": {
      "text/plain": [
       "(56, 2)"
      ]
     },
     "execution_count": 5,
     "metadata": {},
     "output_type": "execute_result"
    }
   ],
   "source": [
    "dfs = []\n",
    "\n",
    "con = psycopg2.connect(dbname='mimic', user='sudarshan', host='/var/run/postgresql')\n",
    "for q in queries:\n",
    "    df = pd.read_sql_query(q, con)\n",
    "    dfs.append(df)\n",
    "con.close()\n",
    "    \n",
    "df = pd.concat(dfs)\n",
    "# df.set_index('row_id', inplace=True)\n",
    "df.shape"
   ]
  },
  {
   "cell_type": "markdown",
   "metadata": {},
   "source": [
    "1. Get list of redacted types using `re`\n",
    "2. replace it with appropriate holder tokens"
   ]
  },
  {
   "cell_type": "markdown",
   "metadata": {},
   "source": [
    "Redacted items:\n",
    "* ~~First Name~~\n",
    "* ~~Last Name~~\n",
    "* Hospital\n",
    "* Date of format M-DD\n",
    "* Date of format YYYY-M-DD\n",
    "* ~~Initials~~\n",
    "* ~~Name~~\n",
    "* NULL\n",
    "* ~~Known lastname~~\n",
    "* ~~Doctor First Name~~\n",
    "* Doctor Last Name\n",
    "* Month (only)\n",
    "* Just numbers\n",
    "* Location\n",
    "* Month/Day\n",
    "* Telephone/Fax\n",
    "* Wardname\n",
    "* Pager Numeric Identifier\n",
    "* Pharmacy MD Number"
   ]
  },
  {
   "cell_type": "code",
   "execution_count": 27,
   "metadata": {},
   "outputs": [
    {
     "name": "stdout",
     "output_type": "stream",
     "text": [
      "Chief Complaint:\n",
      "   24 Hour Events:\n",
      "   - increased lamivudine to 150mg [**Hospital1 7**] (appropriate for his CrCl)\n",
      "   - diet advanced to clears\n",
      "   - called out to medical floor, but then called back in for\n",
      "   bradycardia/hypotension\n",
      "   - given one dose of nadolol 20mg at 5pm, then HRs decreasing to high\n",
      "   40s-50s, SBP decreased to 70s, nadolol discontinued, given 1L NS bolus\n",
      "   without response in BP so started on low dose levophed, BCx drawn. Hct\n",
      "   down from 25-27 range down to 23.9 -> 1 unit pRBCs\n",
      "   History obtained from Patient\n",
      "   Allergies:\n",
      "   History obtained from PatientSulfa (Sulfonamide Antibiotics)\n",
      "   Rash;\n",
      "   Penicillins\n",
      "   Unknown;\n",
      "   Last dose of Antibiotics:\n",
      "   Ciprofloxacin - [**2200-3-18**] 06:41 PM\n",
      "   Ceftriaxone - [**2200-3-19**] 08:11 AM\n",
      "   Infusions:\n",
      "   Norepinephrine - 0.06 mcg/Kg/min\n",
      "   Other ICU medications:\n",
      "   Pantoprazole (Protonix) - [**2200-3-19**] 08:00 PM\n",
      "   Other medications:\n",
      "   Changes to medical and family history:\n",
      "   Review of systems is unchanged from admission except as noted below\n",
      "   Review of systems:\n",
      "   Flowsheet Data as of  [**2200-3-20**] 06:10 AM\n",
      "   Vital signs\n",
      "   Hemodynamic monitoring\n",
      "   Fluid balance\n",
      "                                                                  24 hours\n",
      "                                                               Since [**01**] AM\n",
      "   Tmax: 37.1\n",
      "C (98.7\n",
      "   Tcurrent: 36.3\n",
      "C (97.4\n",
      "   HR: 46 (46 - 76) bpm\n",
      "   BP: 100/39(54) {76/35(46) - 130/61(77)} mmHg\n",
      "   RR: 12 (12 - 22) insp/min\n",
      "   SpO2: 93%\n",
      "   Heart rhythm: SB (Sinus Bradycardia)\n",
      "   Height: 66 Inch\n",
      "           Total In:\n",
      "                                                                  1,501 mL\n",
      "                                                                  1,296 mL\n",
      "   PO:\n",
      "                                                                    580 mL\n",
      "           TF:\n",
      "   IVF:\n",
      "                                                                    921 mL\n",
      "                                                                  1,016 mL\n",
      "   Blood products:\n",
      "   280 mL\n",
      "   Total out:\n",
      "                                                                  1,810 mL\n",
      "                                                                    115 mL\n",
      "   Urine:\n",
      "                                                                  1,810 mL\n",
      "                                                                    115 mL\n",
      "   NG:\n",
      "   Stool:\n",
      "   Drains:\n",
      "   Balance:\n",
      "                                                                   -309 mL\n",
      "                                                                  1,181 mL\n",
      "   Respiratory support\n",
      "   O2 Delivery Device: Nasal cannula\n",
      "   SpO2: 93%\n",
      "   ABG: ///25/\n",
      "   Physical Examination\n",
      "   General Cachectic, no acute distress\n",
      "   HEENT anicteric\n",
      "   Pulm lungs with occasional expiratory wheezes\n",
      "   CV regular S1 S2 III/VI systolic murmur throughout precordium\n",
      "   Abd soft mildly distended but soft and nontender +bowel sounds,\n",
      "   ecchymoses on right lower abdomen unchanged\n",
      "   Extrem warm no edema palpable distal pulses\n",
      "   Neuro alert and answering appropriately\n",
      "   Derm multiple tattoos, no jaundice\n",
      "   Peripheral Vascular: (Right radial pulse: Not assessed), (Left radial\n",
      "   pulse: Not assessed), (Right DP pulse: Not assessed), (Left DP pulse:\n",
      "   Not assessed)\n",
      "   Skin:  Not assessed\n",
      "   Neurologic: Responds to: Not assessed, Movement: Not assessed, Tone:\n",
      "   Not assessed\n",
      "   Labs / Radiology\n",
      "   191 K/uL\n",
      "   7.9 g/dL\n",
      "   109 mg/dL\n",
      "   1.2 mg/dL\n",
      "   25 mEq/L\n",
      "   3.5 mEq/L\n",
      "   15 mg/dL\n",
      "   110 mEq/L\n",
      "   141 mEq/L\n",
      "   23.9 %\n",
      "   8.2 K/uL\n",
      "         [image002.jpg]\n",
      "                             [**2200-3-18**]  01:59 PM\n",
      "                             [**2200-3-18**]  05:35 PM\n",
      "                             [**2200-3-18**]  09:59 PM\n",
      "                             [**2200-3-19**]  03:13 AM\n",
      "                             [**2200-3-19**]  09:32 AM\n",
      "                             [**2200-3-19**]  04:47 PM\n",
      "                             [**2200-3-19**]  10:03 PM\n",
      "                             [**2200-3-20**]  02:45 AM\n",
      "   WBC\n",
      "   4.6\n",
      "   9.1\n",
      "   9.7\n",
      "   10.8\n",
      "   8.2\n",
      "   Hct\n",
      "   18.1\n",
      "   25.9\n",
      "   27.6\n",
      "   27.0\n",
      "   26.5\n",
      "   25.4\n",
      "   27.9\n",
      "   23.9\n",
      "   Plt\n",
      "   144\n",
      "   157\n",
      "   174\n",
      "   234\n",
      "   191\n",
      "   Cr\n",
      "   1.1\n",
      "   1.1\n",
      "   1.2\n",
      "   TropT\n",
      "   <0.01\n",
      "   <0.01\n",
      "   Glucose\n",
      "   141\n",
      "   95\n",
      "   109\n",
      "   Other labs: PT / PTT / INR:14.5/26.9/1.3, CK / CKMB /\n",
      "   Troponin-T:101/3/<0.01, ALT / AST:46/61, Alk Phos / T Bili:139/1.5,\n",
      "   Lactic Acid:1.5 mmol/L, Albumin:2.3 g/dL, LDH:183 IU/L, Ca++:7.0 mg/dL,\n",
      "   Mg++:1.8 mg/dL, PO4:2.0 mg/dL\n",
      "   Assessment and Plan\n",
      "   This 64M with HIV/AIDS on HAART, HBV, cirrhosis c/b esophageal and\n",
      "   gastric varices s/p TIPS for variceal bleed with bradycardia and\n",
      "   hypotension overnight.\n",
      "   # Bradycardia\n",
      "   .\n",
      "   * UGIB: s/p TIPS and octreotide gtt, Hct decreased overnight, given 1\n",
      "   unit of pRBCs\n",
      "   - Continue [**Hospital1 7**] IV PPI\n",
      "   - 5d course of ceftriaxone\n",
      "   - Follow Hcts [**Hospital1 7**], transfuse Hct>25 or active bleed\n",
      "   - RUQ u/s to check TIPS 1 week\n",
      "   - Liver recs appreciated\n",
      "   .\n",
      "   * Cirrhosis: Etiology is being worked up in the outpatient setting.\n",
      "   Most likely hepatitis B related. Patient states he has been seeing Dr.\n",
      "   [**Last Name (STitle) 1174**].  Per records, Hep B serologies are consistent with cleared\n",
      "   hepatitis B. He also had prior CMV viral inclusions on biopsies.Workup\n",
      "   to date includes negative AMA, negative ANCA and negative Alpha 1\n",
      "   antitrypsin. Ferritin not indicative of hemachromatosis and recent\n",
      "   ceruloplasmin labs still pending.\n",
      "   - will check HBV and HCV viral loads as serologies may be falsely\n",
      "   negative in setting of advanced immunosuppression (pt has AIDS by CD4)\n",
      "   - f/up ceruloplasmin, A1AT\n",
      "   - f/up liver recs\n",
      "   . .\n",
      "   * HIV/AIDS: Contact[**Name (NI) **] patient's outpatient ID physician [**Last Name (NamePattern4) **]. [**Last Name (STitle) 2956**] to\n",
      "   verify HAART regimen above. She states he has had recent undetectable\n",
      "   viral load on current combination of medications. Unclear how patient\n",
      "   contracted virus, possible sexual contact vs. tattoos. Denies h/o IVDU.\n",
      "   - continue outpatient HAART with boosted darunavir and lamivudine\n",
      "   (should be 150mg [**Hospital1 7**] given CrCl)\n",
      "   - continue dapsone prophylaxis\n",
      "   .\n",
      "   * HTN: Well controlled now and normotensive with SBPs 110-130s, recent\n",
      "   low BPs in setting of GIB however\n",
      "   - can restart on nadolol today\n",
      "   ICU Care\n",
      "   Nutrition: Advanced to clears overnight\n",
      "   Glycemic Control:\n",
      "   Lines:\n",
      "   18 Gauge - [**2200-3-18**] 02:00 PM\n",
      "   20 Gauge - [**2200-3-18**] 02:00 PM\n",
      "   16 Gauge - [**2200-3-18**] 02:00 PM\n",
      "   Prophylaxis:\n",
      "   DVT: Pneumoboots\n",
      "   Stress ulcer: PPI\n",
      "   VAP:\n",
      "   Comments:\n",
      "   Communication:  Comments: son [**Name (NI) 135**] [**Name (NI) **] [**Name (NI) 151**]. # [**Telephone/Fax (1) 14677**]\n",
      "   Code status: Full code\n",
      "   Disposition: ICU\n",
      "\n"
     ]
    }
   ],
   "source": [
    "test = df.iloc[random.randint(0, 50)]['text']\n",
    "print(test)"
   ]
  },
  {
   "cell_type": "code",
   "execution_count": 28,
   "metadata": {},
   "outputs": [
    {
     "name": "stdout",
     "output_type": "stream",
     "text": [
      "<_sre.SRE_Match object; span=(71, 88), match='[**Hospital1 7**]'>\n",
      "<_sre.SRE_Match object; span=(703, 718), match='[**2200-3-18**]'>\n",
      "<_sre.SRE_Match object; span=(745, 760), match='[**2200-3-19**]'>\n",
      "<_sre.SRE_Match object; span=(875, 890), match='[**2200-3-19**]'>\n",
      "<_sre.SRE_Match object; span=(1082, 1097), match='[**2200-3-20**]'>\n",
      "<_sre.SRE_Match object; span=(1309, 1317), match='[**01**]'>\n",
      "<_sre.SRE_Match object; span=(3520, 3535), match='[**2200-3-18**]'>\n",
      "<_sre.SRE_Match object; span=(3575, 3590), match='[**2200-3-18**]'>\n",
      "<_sre.SRE_Match object; span=(3630, 3645), match='[**2200-3-18**]'>\n",
      "<_sre.SRE_Match object; span=(3685, 3700), match='[**2200-3-19**]'>\n",
      "<_sre.SRE_Match object; span=(3740, 3755), match='[**2200-3-19**]'>\n",
      "<_sre.SRE_Match object; span=(3795, 3810), match='[**2200-3-19**]'>\n",
      "<_sre.SRE_Match object; span=(3850, 3865), match='[**2200-3-19**]'>\n",
      "<_sre.SRE_Match object; span=(3905, 3920), match='[**2200-3-20**]'>\n",
      "<_sre.SRE_Match object; span=(4721, 4738), match='[**Hospital1 7**]'>\n",
      "<_sre.SRE_Match object; span=(4793, 4810), match='[**Hospital1 7**]'>\n",
      "<_sre.SRE_Match object; span=(5060, 5089), match='[**Last Name (STitle) 1174**]'>\n",
      "<_sre.SRE_Match object; span=(5623, 5639), match='[**Name (NI) **]'>\n",
      "<_sre.SRE_Match object; span=(5674, 5705), match='[**Last Name (NamePattern4) **]'>\n",
      "<_sre.SRE_Match object; span=(5707, 5736), match='[**Last Name (STitle) 2956**]'>\n",
      "<_sre.SRE_Match object; span=(6050, 6067), match='[**Hospital1 7**]'>\n",
      "<_sre.SRE_Match object; span=(6364, 6379), match='[**2200-3-18**]'>\n",
      "<_sre.SRE_Match object; span=(6403, 6418), match='[**2200-3-18**]'>\n",
      "<_sre.SRE_Match object; span=(6442, 6457), match='[**2200-3-18**]'>\n",
      "<_sre.SRE_Match object; span=(6578, 6597), match='[**Name (NI) 135**]'>\n",
      "<_sre.SRE_Match object; span=(6598, 6614), match='[**Name (NI) **]'>\n",
      "<_sre.SRE_Match object; span=(6615, 6634), match='[**Name (NI) 151**]'>\n",
      "<_sre.SRE_Match object; span=(6638, 6667), match='[**Telephone/Fax (1) 14677**]'>\n"
     ]
    }
   ],
   "source": [
    "pat_all = re.compile(r'\\[\\*\\*(.*?)\\*\\*\\]', re.IGNORECASE)\n",
    "\n",
    "for m in pat_all.finditer(test):\n",
    "    print(m)"
   ]
  },
  {
   "cell_type": "code",
   "execution_count": 29,
   "metadata": {},
   "outputs": [
    {
     "name": "stdout",
     "output_type": "stream",
     "text": [
      "<_sre.SRE_Match object; span=(5060, 5089), match='[**Last Name (STitle) 1174**]'>\n",
      "<_sre.SRE_Match object; span=(5623, 5639), match='[**Name (NI) **]'>\n",
      "<_sre.SRE_Match object; span=(5674, 5705), match='[**Last Name (NamePattern4) **]'>\n",
      "<_sre.SRE_Match object; span=(5707, 5736), match='[**Last Name (STitle) 2956**]'>\n",
      "<_sre.SRE_Match object; span=(6578, 6597), match='[**Name (NI) 135**]'>\n",
      "<_sre.SRE_Match object; span=(6598, 6614), match='[**Name (NI) **]'>\n",
      "<_sre.SRE_Match object; span=(6615, 6634), match='[**Name (NI) 151**]'>\n"
     ]
    }
   ],
   "source": [
    "pat_name = re.compile(r'\\[\\*\\*(.*?Name.*?)\\*\\*\\]', re.IGNORECASE)\n",
    "\n",
    "for m in pat_name.finditer(test):\n",
    "    print(m)"
   ]
  },
  {
   "cell_type": "code",
   "execution_count": 6,
   "metadata": {},
   "outputs": [],
   "source": [
    "def replace_name(match):\n",
    "    r = 't_name'\n",
    "    if 'Last' in match.group() or 'last' in match.group():\n",
    "        if 'Doctor' in match.group():\n",
    "            r = 't_name_doc_last'\n",
    "        else:\n",
    "            r = 't_name_last'\n",
    "    elif 'First' in match.group() or 'first' in match.group():\n",
    "        if 'Doctor' in match.group():\n",
    "            r = 't_name_doc_first'\n",
    "        else:\n",
    "            r = 't_name_first'\n",
    "    elif 'Initials' in match.group():\n",
    "        r = 't_name_inits'\n",
    "    return r"
   ]
  },
  {
   "cell_type": "code",
   "execution_count": 7,
   "metadata": {},
   "outputs": [],
   "source": [
    "def replace_redacted(text):\n",
    "    # replace name types with unique tokens\n",
    "    pat_name = re.compile(r'\\[\\*\\*(.*?Name.*?)\\*\\*\\]', re.IGNORECASE) \n",
    "    text = pat_name.sub(replace_name, text)\n",
    "    \n",
    "    return text"
   ]
  },
  {
   "cell_type": "code",
   "execution_count": 15,
   "metadata": {},
   "outputs": [],
   "source": [
    "df['scrubbed'] = df['text'].apply(replace_redacted)"
   ]
  },
  {
   "cell_type": "code",
   "execution_count": 32,
   "metadata": {},
   "outputs": [],
   "source": [
    "pat_name = re.compile(r'\\[\\*\\*(.*?Name.*?)\\*\\*\\]', re.IGNORECASE)"
   ]
  },
  {
   "cell_type": "code",
   "execution_count": 34,
   "metadata": {},
   "outputs": [
    {
     "name": "stdout",
     "output_type": "stream",
     "text": [
      "0\n",
      "0\n",
      "0\n",
      "0\n",
      "0\n",
      "0\n",
      "0\n",
      "0\n",
      "0\n",
      "0\n",
      "0\n",
      "0\n",
      "0\n",
      "0\n",
      "0\n",
      "0\n",
      "0\n",
      "0\n",
      "0\n",
      "0\n",
      "0\n",
      "0\n",
      "0\n",
      "0\n",
      "0\n",
      "0\n",
      "0\n",
      "0\n",
      "0\n",
      "0\n",
      "0\n",
      "0\n",
      "0\n",
      "0\n",
      "0\n",
      "0\n",
      "0\n",
      "0\n",
      "0\n",
      "0\n",
      "0\n",
      "0\n",
      "0\n",
      "0\n",
      "0\n",
      "0\n",
      "0\n",
      "0\n",
      "0\n",
      "0\n",
      "0\n",
      "0\n",
      "0\n",
      "0\n",
      "0\n",
      "0\n"
     ]
    }
   ],
   "source": [
    "for _, row in df.iterrows():\n",
    "    print(len(pat_name.findall(row['scrubbed'])))"
   ]
  },
  {
   "cell_type": "code",
   "execution_count": null,
   "metadata": {},
   "outputs": [],
   "source": [
    "# out = pat_name.sub(replace_name, test)\n",
    "out = replace_redacted(test)"
   ]
  },
  {
   "cell_type": "code",
   "execution_count": null,
   "metadata": {},
   "outputs": [],
   "source": [
    "for m in pat_name.finditer(out):\n",
    "    print(m)\n",
    "\n",
    "print(out)"
   ]
  }
 ],
 "metadata": {
  "kernelspec": {
   "display_name": "Python 3",
   "language": "python",
   "name": "python3"
  },
  "language_info": {
   "codemirror_mode": {
    "name": "ipython",
    "version": 3
   },
   "file_extension": ".py",
   "mimetype": "text/x-python",
   "name": "python",
   "nbconvert_exporter": "python",
   "pygments_lexer": "ipython3",
   "version": "3.6.6"
  }
 },
 "nbformat": 4,
 "nbformat_minor": 2
}
