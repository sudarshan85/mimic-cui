{
 "cells": [
  {
   "cell_type": "markdown",
   "metadata": {},
   "source": [
    "# QuickUMLS and cui2vec\n",
    "\n",
    "Using [QuickUMLS ](https://github.com/Georgetown-IR-Lab/QuickUMLS) and use the [pre-trained CUI embeddings](https://figshare.com/s/00d69861786cd0156d81) to get an embedding that represents a clinical note."
   ]
  },
  {
   "cell_type": "markdown",
   "metadata": {},
   "source": [
    "## Imports and Inits"
   ]
  },
  {
   "cell_type": "code",
   "execution_count": 1,
   "metadata": {},
   "outputs": [],
   "source": [
    "import pandas as pd\n",
    "import numpy as np\n",
    "import pickle\n",
    "\n",
    "from collections import OrderedDict\n",
    "from pathlib import Path\n",
    "\n",
    "from QuickUMLS.quickumls import QuickUMLS"
   ]
  },
  {
   "cell_type": "code",
   "execution_count": 2,
   "metadata": {},
   "outputs": [],
   "source": [
    "PATH = Path('data')\n",
    "QUMLS_PATH = Path('/storage/UMLS-Storage/quickumls')"
   ]
  },
  {
   "cell_type": "markdown",
   "metadata": {},
   "source": [
    "## Functions"
   ]
  },
  {
   "cell_type": "code",
   "execution_count": null,
   "metadata": {},
   "outputs": [],
   "source": [
    "def total_len(l):\n",
    "    return sum([len(sl) for sl in l])"
   ]
  },
  {
   "cell_type": "markdown",
   "metadata": {},
   "source": [
    "`QuickUMLS` returns a **list of list of dicts**:\n",
    "1. Outer list holds all the concepts that were found in the note\n",
    "2. Interlist contains all the *variations* of a single concept that QuickUMLS found\n",
    "3. Each dictionary contains information about the concept itself with the following keys:\n",
    "    * start: starting position of the concept in the note\n",
    "    * end: ending position of the concept in the note\n",
    "    * ngram: the group of words that were used to identify the concept. This value is <= $window_size$ param of the matcher. **All the dictionary within an innerlist have the same ngram**.\n",
    "    * term: all the variations within the ngram words that are individual medical concepts with their own CUIs. For example with ngram \"type 2 diabetes\" we get terms \"type 2 diabetes\" and \"type diabetes\" each with its own CUI. **The innerlist contains dicts with different term keys**.\n",
    "    * cui: The CUI of the concept\n",
    "    * similarity: Similarity measure based on metric of the matcher (jaccard, dice, cosine). This value is >= $threshold$ param of the matcher\n",
    "    * semtypes\n",
    "    * preferred\n",
    "\n",
    "The pre-trained CUI vectors are of size 500. The basic idea is to represent each note with a 500-dimension vector that captures the unique medical concepts pertaining to that note by combining these pre-trained vectors. Not all the CUIs returned by the matcher are found in the pre-trained vector list. For those that are not found, I just discard them. This is how the combination is done:\n",
    "1. First the matcher is defined and the note is run through the matcher\n",
    "2. If there are no matches found, then just return a 500-dimension zero vector\n",
    "3. Initialize two dictionaries: \n",
    "    1. to hold the counts of the CUIs found in the matcher (for final weighted averaging) $ngram\\_counts$\n",
    "    2. to hold the average CUI of a given ngram concept $ngram\\_vecs$\n",
    "4. Iterate over the matches and grab the ngram (the outer list)\n",
    "5. If its already present in $ngram\\_vecs$, we've seen it before, so just update the count and continue\n",
    "6. If not, initilize a variable to hold the number of valid cuis $n\\_valid\\_cuis$ (i.e., CUIs for which we have a pre-trained vector available) and 500-dimension zero vector to hold the average $cui\\_avg$\n",
    "7. Iterate of all the matched CUIs (inner list) and check if the current CUI is valid\n",
    "8. If it is then increment $n\\_valid\\_cuis$ and grab the vector from the pre-trained vector for the current CUI and add it to $cui\\_avg$\n",
    "9. If we have valid CUIS, then set the count of the CUI to 1 and compute the average from the sum created in the previous step\n",
    "10. Convert both the counts and average vectors into numpy arrays\n",
    "11. Use numpy's `average` method to compute the weighted average of the concept whereby repeated concepts receive a higher weight (count)\n",
    "12. Return the resulting 500-dimension vector that would represent the note\n",
    "\n",
    "Downfalls:\n",
    "1. Negations are not taken into account. Thus if there are concepts that repeated many times but are negated it will still receive a higher weight which could lead to problems\n",
    "2. Abbr of concepts"
   ]
  },
  {
   "cell_type": "code",
   "execution_count": null,
   "metadata": {},
   "outputs": [],
   "source": [
    "def cui_repr(matches):    \n",
    "    if not matches:\n",
    "        return np.zeros(cui_emb_sz)\n",
    "    \n",
    "    ngram_counts = OrderedDict()\n",
    "    ngram_avgvecs = OrderedDict()\n",
    "\n",
    "    for cs in matches:\n",
    "        ngram = cs[0]['ngram']\n",
    "        if ngram in ngram_avgvecs:\n",
    "            ngram_counts[ngram] += 1\n",
    "            continue\n",
    "        n_valid_cuis = 0\n",
    "        cui_avgvec = np.zeros(cui_emb_sz)\n",
    "        for c in cs:\n",
    "            if c['cui'] in cui2idx:\n",
    "                n_valid_cuis += 1\n",
    "                cui_avgvec += pretrained_cuis[cui2idx[c['cui']]]\n",
    "        if n_valid_cuis != 0:\n",
    "            ngram_counts[ngram] = 1\n",
    "            ngram_avgvecs[ngram] = cui_avgvec / n_valid_cuis\n",
    "    \n",
    "    weights = np.array(list(ngram_counts.values()))\n",
    "    vectors = np.array(list(ngram_avgvecs.values()))\n",
    "    \n",
    "    return ngram_counts, np.average(vectors, axis=0, weights=weights)"
   ]
  },
  {
   "cell_type": "markdown",
   "metadata": {},
   "source": [
    "## Load and save pre-trained CUI Vectors"
   ]
  },
  {
   "cell_type": "code",
   "execution_count": 3,
   "metadata": {},
   "outputs": [
    {
     "data": {
      "text/html": [
       "<div>\n",
       "<style scoped>\n",
       "    .dataframe tbody tr th:only-of-type {\n",
       "        vertical-align: middle;\n",
       "    }\n",
       "\n",
       "    .dataframe tbody tr th {\n",
       "        vertical-align: top;\n",
       "    }\n",
       "\n",
       "    .dataframe thead th {\n",
       "        text-align: right;\n",
       "    }\n",
       "</style>\n",
       "<table border=\"1\" class=\"dataframe\">\n",
       "  <thead>\n",
       "    <tr style=\"text-align: right;\">\n",
       "      <th></th>\n",
       "      <th>cui</th>\n",
       "      <th>V1</th>\n",
       "      <th>V2</th>\n",
       "      <th>V3</th>\n",
       "      <th>V4</th>\n",
       "      <th>V5</th>\n",
       "      <th>V6</th>\n",
       "      <th>V7</th>\n",
       "      <th>V8</th>\n",
       "      <th>V9</th>\n",
       "      <th>...</th>\n",
       "      <th>V491</th>\n",
       "      <th>V492</th>\n",
       "      <th>V493</th>\n",
       "      <th>V494</th>\n",
       "      <th>V495</th>\n",
       "      <th>V496</th>\n",
       "      <th>V497</th>\n",
       "      <th>V498</th>\n",
       "      <th>V499</th>\n",
       "      <th>V500</th>\n",
       "    </tr>\n",
       "  </thead>\n",
       "  <tbody>\n",
       "    <tr>\n",
       "      <th>0</th>\n",
       "      <td>C0000052</td>\n",
       "      <td>-0.004071</td>\n",
       "      <td>0.002169</td>\n",
       "      <td>-4.466913e-17</td>\n",
       "      <td>-0.006110</td>\n",
       "      <td>-0.001187</td>\n",
       "      <td>0.000047</td>\n",
       "      <td>0.007681</td>\n",
       "      <td>-0.002564</td>\n",
       "      <td>0.012169</td>\n",
       "      <td>...</td>\n",
       "      <td>-0.000316</td>\n",
       "      <td>-0.049984</td>\n",
       "      <td>-0.022582</td>\n",
       "      <td>-0.041039</td>\n",
       "      <td>0.003112</td>\n",
       "      <td>0.025915</td>\n",
       "      <td>-0.065661</td>\n",
       "      <td>0.004741</td>\n",
       "      <td>-0.004502</td>\n",
       "      <td>-0.029053</td>\n",
       "    </tr>\n",
       "    <tr>\n",
       "      <th>1</th>\n",
       "      <td>C0000163</td>\n",
       "      <td>-0.008389</td>\n",
       "      <td>0.002486</td>\n",
       "      <td>-3.816392e-17</td>\n",
       "      <td>-0.004083</td>\n",
       "      <td>-0.002875</td>\n",
       "      <td>0.001207</td>\n",
       "      <td>0.005683</td>\n",
       "      <td>0.002054</td>\n",
       "      <td>0.007849</td>\n",
       "      <td>...</td>\n",
       "      <td>0.053730</td>\n",
       "      <td>0.048069</td>\n",
       "      <td>-0.058616</td>\n",
       "      <td>-0.013041</td>\n",
       "      <td>-0.005875</td>\n",
       "      <td>-0.000951</td>\n",
       "      <td>-0.007084</td>\n",
       "      <td>0.057521</td>\n",
       "      <td>-0.008791</td>\n",
       "      <td>0.001159</td>\n",
       "    </tr>\n",
       "    <tr>\n",
       "      <th>2</th>\n",
       "      <td>C0000167</td>\n",
       "      <td>-0.008328</td>\n",
       "      <td>0.002697</td>\n",
       "      <td>-5.811324e-17</td>\n",
       "      <td>-0.014372</td>\n",
       "      <td>0.004227</td>\n",
       "      <td>0.008176</td>\n",
       "      <td>0.007521</td>\n",
       "      <td>-0.000114</td>\n",
       "      <td>0.012576</td>\n",
       "      <td>...</td>\n",
       "      <td>0.031376</td>\n",
       "      <td>0.026515</td>\n",
       "      <td>-0.064476</td>\n",
       "      <td>0.040333</td>\n",
       "      <td>-0.005710</td>\n",
       "      <td>-0.027542</td>\n",
       "      <td>0.003274</td>\n",
       "      <td>0.062406</td>\n",
       "      <td>0.020109</td>\n",
       "      <td>-0.014616</td>\n",
       "    </tr>\n",
       "    <tr>\n",
       "      <th>3</th>\n",
       "      <td>C0000172</td>\n",
       "      <td>-0.008589</td>\n",
       "      <td>0.002666</td>\n",
       "      <td>-1.734723e-17</td>\n",
       "      <td>-0.001215</td>\n",
       "      <td>-0.001841</td>\n",
       "      <td>-0.001273</td>\n",
       "      <td>0.002268</td>\n",
       "      <td>-0.000551</td>\n",
       "      <td>0.003284</td>\n",
       "      <td>...</td>\n",
       "      <td>0.007605</td>\n",
       "      <td>0.009991</td>\n",
       "      <td>-0.035895</td>\n",
       "      <td>-0.014936</td>\n",
       "      <td>0.003336</td>\n",
       "      <td>0.001816</td>\n",
       "      <td>-0.007257</td>\n",
       "      <td>0.014691</td>\n",
       "      <td>0.001276</td>\n",
       "      <td>0.001881</td>\n",
       "    </tr>\n",
       "    <tr>\n",
       "      <th>4</th>\n",
       "      <td>C0000215</td>\n",
       "      <td>-0.001324</td>\n",
       "      <td>-0.000040</td>\n",
       "      <td>-1.561251e-17</td>\n",
       "      <td>-0.002030</td>\n",
       "      <td>-0.000095</td>\n",
       "      <td>0.000728</td>\n",
       "      <td>0.003543</td>\n",
       "      <td>-0.001463</td>\n",
       "      <td>0.003100</td>\n",
       "      <td>...</td>\n",
       "      <td>-0.012399</td>\n",
       "      <td>-0.002617</td>\n",
       "      <td>-0.020168</td>\n",
       "      <td>0.027851</td>\n",
       "      <td>0.002107</td>\n",
       "      <td>-0.013557</td>\n",
       "      <td>0.019516</td>\n",
       "      <td>-0.000823</td>\n",
       "      <td>0.025063</td>\n",
       "      <td>-0.002061</td>\n",
       "    </tr>\n",
       "  </tbody>\n",
       "</table>\n",
       "<p>5 rows × 501 columns</p>\n",
       "</div>"
      ],
      "text/plain": [
       "        cui        V1        V2            V3        V4        V5        V6  \\\n",
       "0  C0000052 -0.004071  0.002169 -4.466913e-17 -0.006110 -0.001187  0.000047   \n",
       "1  C0000163 -0.008389  0.002486 -3.816392e-17 -0.004083 -0.002875  0.001207   \n",
       "2  C0000167 -0.008328  0.002697 -5.811324e-17 -0.014372  0.004227  0.008176   \n",
       "3  C0000172 -0.008589  0.002666 -1.734723e-17 -0.001215 -0.001841 -0.001273   \n",
       "4  C0000215 -0.001324 -0.000040 -1.561251e-17 -0.002030 -0.000095  0.000728   \n",
       "\n",
       "         V7        V8        V9    ...         V491      V492      V493  \\\n",
       "0  0.007681 -0.002564  0.012169    ...    -0.000316 -0.049984 -0.022582   \n",
       "1  0.005683  0.002054  0.007849    ...     0.053730  0.048069 -0.058616   \n",
       "2  0.007521 -0.000114  0.012576    ...     0.031376  0.026515 -0.064476   \n",
       "3  0.002268 -0.000551  0.003284    ...     0.007605  0.009991 -0.035895   \n",
       "4  0.003543 -0.001463  0.003100    ...    -0.012399 -0.002617 -0.020168   \n",
       "\n",
       "       V494      V495      V496      V497      V498      V499      V500  \n",
       "0 -0.041039  0.003112  0.025915 -0.065661  0.004741 -0.004502 -0.029053  \n",
       "1 -0.013041 -0.005875 -0.000951 -0.007084  0.057521 -0.008791  0.001159  \n",
       "2  0.040333 -0.005710 -0.027542  0.003274  0.062406  0.020109 -0.014616  \n",
       "3 -0.014936  0.003336  0.001816 -0.007257  0.014691  0.001276  0.001881  \n",
       "4  0.027851  0.002107 -0.013557  0.019516 -0.000823  0.025063 -0.002061  \n",
       "\n",
       "[5 rows x 501 columns]"
      ]
     },
     "execution_count": 3,
     "metadata": {},
     "output_type": "execute_result"
    }
   ],
   "source": [
    "cui_vecs_df = pd.read_csv('/storage/models/cui2vec_pretrained.csv')\n",
    "cui_vecs_df.head()"
   ]
  },
  {
   "cell_type": "code",
   "execution_count": 6,
   "metadata": {},
   "outputs": [],
   "source": [
    "idx2cui = cui_vecs_df['cui'].tolist()\n",
    "pretrained_cuis = cui_vecs_df.loc[:, cui_vecs_df.columns != 'cui'].values\n",
    "cui2idx = {c: i for i, c in enumerate(idx2cui)}"
   ]
  },
  {
   "cell_type": "code",
   "execution_count": 7,
   "metadata": {},
   "outputs": [
    {
     "data": {
      "text/html": [
       "<div>\n",
       "<style scoped>\n",
       "    .dataframe tbody tr th:only-of-type {\n",
       "        vertical-align: middle;\n",
       "    }\n",
       "\n",
       "    .dataframe tbody tr th {\n",
       "        vertical-align: top;\n",
       "    }\n",
       "\n",
       "    .dataframe thead th {\n",
       "        text-align: right;\n",
       "    }\n",
       "</style>\n",
       "<table border=\"1\" class=\"dataframe\">\n",
       "  <thead>\n",
       "    <tr style=\"text-align: right;\">\n",
       "      <th></th>\n",
       "      <th>cui</th>\n",
       "      <th>V1</th>\n",
       "      <th>V2</th>\n",
       "      <th>V3</th>\n",
       "      <th>V4</th>\n",
       "      <th>V5</th>\n",
       "      <th>V6</th>\n",
       "      <th>V7</th>\n",
       "      <th>V8</th>\n",
       "      <th>V9</th>\n",
       "      <th>...</th>\n",
       "      <th>V491</th>\n",
       "      <th>V492</th>\n",
       "      <th>V493</th>\n",
       "      <th>V494</th>\n",
       "      <th>V495</th>\n",
       "      <th>V496</th>\n",
       "      <th>V497</th>\n",
       "      <th>V498</th>\n",
       "      <th>V499</th>\n",
       "      <th>V500</th>\n",
       "    </tr>\n",
       "  </thead>\n",
       "  <tbody>\n",
       "    <tr>\n",
       "      <th>19770</th>\n",
       "      <td>C0159338</td>\n",
       "      <td>-0.3621</td>\n",
       "      <td>0.363463</td>\n",
       "      <td>-2.498002e-16</td>\n",
       "      <td>0.327774</td>\n",
       "      <td>0.49258</td>\n",
       "      <td>-0.216885</td>\n",
       "      <td>-0.483378</td>\n",
       "      <td>-0.864171</td>\n",
       "      <td>0.088446</td>\n",
       "      <td>...</td>\n",
       "      <td>0.072565</td>\n",
       "      <td>-0.080358</td>\n",
       "      <td>-0.155276</td>\n",
       "      <td>-0.129864</td>\n",
       "      <td>-0.04445</td>\n",
       "      <td>-0.064033</td>\n",
       "      <td>-0.057892</td>\n",
       "      <td>-0.104746</td>\n",
       "      <td>-0.041605</td>\n",
       "      <td>0.149236</td>\n",
       "    </tr>\n",
       "  </tbody>\n",
       "</table>\n",
       "<p>1 rows × 501 columns</p>\n",
       "</div>"
      ],
      "text/plain": [
       "            cui      V1        V2            V3        V4       V5        V6  \\\n",
       "19770  C0159338 -0.3621  0.363463 -2.498002e-16  0.327774  0.49258 -0.216885   \n",
       "\n",
       "             V7        V8        V9    ...         V491      V492      V493  \\\n",
       "19770 -0.483378 -0.864171  0.088446    ...     0.072565 -0.080358 -0.155276   \n",
       "\n",
       "           V494     V495      V496      V497      V498      V499      V500  \n",
       "19770 -0.129864 -0.04445 -0.064033 -0.057892 -0.104746 -0.041605  0.149236  \n",
       "\n",
       "[1 rows x 501 columns]"
      ]
     },
     "execution_count": 7,
     "metadata": {},
     "output_type": "execute_result"
    }
   ],
   "source": [
    "cui_vecs_df.sample()"
   ]
  },
  {
   "cell_type": "code",
   "execution_count": 8,
   "metadata": {},
   "outputs": [
    {
     "data": {
      "text/plain": [
       "19770"
      ]
     },
     "execution_count": 8,
     "metadata": {},
     "output_type": "execute_result"
    }
   ],
   "source": [
    "cui2idx['C0159338']"
   ]
  },
  {
   "cell_type": "code",
   "execution_count": 9,
   "metadata": {},
   "outputs": [],
   "source": [
    "pickle.dump(idx2cui, open(PATH/'idx2cui.pkl', 'wb'))\n",
    "np.save(PATH/'pretrained_cuis.npy', pretrained_cuis)"
   ]
  },
  {
   "cell_type": "markdown",
   "metadata": {},
   "source": [
    "## Extract CUIs"
   ]
  },
  {
   "cell_type": "code",
   "execution_count": null,
   "metadata": {},
   "outputs": [],
   "source": [
    "idx2cui = pickle.load(open(PATH/'idx2cui.pkl', 'rb'))\n",
    "cui2idx = {c: i for i, c in idx2cui.items()}\n",
    "\n",
    "pretrained_cuis = np.load(PATH/'pretrained_cuis.npy')\n",
    "cui_emb_sz = pretrained_cuis.shape[1]"
   ]
  },
  {
   "cell_type": "code",
   "execution_count": null,
   "metadata": {},
   "outputs": [],
   "source": [
    "if 'qu' in globals():\n",
    "    del qu\n",
    "qu = QuickUMLS(QUMLS_PATH, threshold=0.85, similarity_name='jaccard', window=5, overlapping_criteria='score')"
   ]
  },
  {
   "cell_type": "code",
   "execution_count": null,
   "metadata": {},
   "outputs": [],
   "source": [
    "test_note = '''\n",
    "Joseph R. Smith\n",
    "\n",
    "1234567-8\n",
    "\n",
    "4/5/2006\n",
    "\n",
    "REASON FOR VISIT:Here to get a new primary care physician.\n",
    "\n",
    "HPI: Mr. Smith is a 56-year-old gentleman formally followed at Carolina Premier who presents to obtain a new primary care physician secondary to insurance changes. He has a past medical history significant for a myocardial infarction in 1994. His cholesterol has been fine. Catheterization showed a possible \"kink\" in one of his vessels and it was thought that he had a possible \"eddy\" of current which led to a clot. He has been on Coumadin since then as well as a calcium channel blocker with the thought that there may have been a superimposed spasm. He has had several unremarkable stress tests since then. He works out on a Nordic-Track three times a week without any chest pain or shortness of breath. He has a history of possible peptic ulcer disease in 1981. He was treated with H2 blockers and his symptoms resolved. He has never had any bleeding to his knowledge. He had a hernia repair bilaterally in 1989 and surgery for a right knee cyst in 1999, all of which went well. He also has about a year long history of right buttock pain. This happens only when he is sitting for some time and does not change position. It does not happen when he is walking or exercising. He wonders if it might be pyriformis syndrome. If he changes positions frequently or stretches his legs, this seems to help. He has no acute complaints today and is here to get plugged into the system. He does wonder if there is anything else that can be done about his buttock pain.\n",
    "\n",
    "PAST MEDICAL HISTORY: As above. In addition, he had a flexible sigmoidoscopy in 2003 which was okay.\n",
    "\n",
    "MEDICATIONS: Tylenol p.r.n., baby aspirin p.o. q.d., Coumadin 3.5 mg p.o. q.d., Adalat Time Released tablets 30 mg one p.o. q.d., multivitamin, glucosamine and chondroitin sulfate.\n",
    "\n",
    "ALLERGIES: No Known Drug Allergies\n",
    "\n",
    "FAMILY HISTORY: His mother had diabetes developed at age 55 and coronary artery disease in her mid sixties. His father had CAD as well but not until his 70s. A paternal aunt had breast cancer. There is no history of colon or prostate cancer.\n",
    "\n",
    "SOCIAL HISTORY: He lives in Durham with his wife and mother. He works for a biotech company. He does not smoke. He drinks two beers per night and reports no trouble with alcohol in the past. No history of drug use.\n",
    "\n",
    "REVIEW OF SYSTEMS: As per his personal health summary and is significant only for his buttock pain as listed above, but is otherwise essentially unremarkable.\n",
    "\n",
    "PHYSICAL EXAM:\n",
    "\n",
    "VITAL SIGNS: Weight 175.2 pounds which is 79.3 kg, blood pressure 142/96 by the nurse, 140/92 by me, pulse is 64.\n",
    "\n",
    "GENERAL: A healthy-appearing middle-aged gentleman.\n",
    "\n",
    "HEENT: Pupils equal, round, reactive to light. Conjunctivaepink. Sclerae anicteric. Tympanic membranes clear. Oropharynx clear.\n",
    "\n",
    "NECK: No lymphadenopathy or thyromegaly or JVD.\n",
    "\n",
    "LUNGS: Clear to auscultation and percussion.\n",
    "\n",
    "HEART: Regular rate and rhythm without murmur, rub, or gallop.\n",
    "\n",
    "ABDOMEN: Normal bowel sounds. Soft, nontender. No hepatosplenomegaly.\n",
    "\n",
    "EXTREMITIES: No cyanosis, clubbing, or edema. 2+ peripheral pulses.\n",
    "\n",
    "NEUROLOGIC: Motor and sensation grossly intact.\n",
    "\n",
    "PSYCHIATRIC: Normal affect and behavior.\n",
    "\n",
    "DERMATOLOGIC: He has a small whitish papule at the upper borderof his mustache on the left.\n",
    "\n",
    "MUSCULOSKELETAL: Full range of motion of his legs and hips bilaterally with no tenderness to palpation over his buttocks.\n",
    "\n",
    "ASSESSMENT/PLAN:\n",
    "\n",
    "Status post myocardial infarction. No evidence for actual CAD. He will continue his aspirin and Coumadin. Unclear to exactly how long he should be on Coumadin or if this is really needed. At some point, may discuss this with cardiology. We will check an INR today and get him plugged into our Coumadin clinic. Check cholesterol.\n",
    "High blood pressure. He will continue with diet and exercise changes. At next visit, may go up on his calcium channel blocker versus add another agent. Check creatinine and potassium today.\n",
    "Buttock pain. Will try some physical therapy.\n",
    "Will send him to dermatology for the papule above his mustache.\n",
    "Possible h/o peptic ulcer disease. As he has not had any known GI bleed, do not feel a need to check H. pylori serology today.\n",
    "Health maintenance. Tetanus shot today. Flex sig as above. Will discuss prostate cancer screening next visit.\n",
    "Return to clinic in four months.\n",
    "John Student, MS3\n",
    "\n",
    "Seen with Joe Doctor, MD\n",
    "'''"
   ]
  },
  {
   "cell_type": "code",
   "execution_count": null,
   "metadata": {},
   "outputs": [],
   "source": [
    "%%time\n",
    "matches = qu.match(test_note, best_match=True, ignore_syntax=False)\n",
    "l = len(matches)\n",
    "tl = total_len(matches)\n",
    "if l:\n",
    "    al = tl/l\n",
    "else:\n",
    "    al = 0\n",
    "print(l, tl, al)"
   ]
  },
  {
   "cell_type": "code",
   "execution_count": null,
   "metadata": {},
   "outputs": [],
   "source": [
    "counts, note_vector = cui_repr(matches)"
   ]
  },
  {
   "cell_type": "code",
   "execution_count": null,
   "metadata": {},
   "outputs": [],
   "source": [
    "counts"
   ]
  },
  {
   "cell_type": "markdown",
   "metadata": {},
   "source": [
    "## Grab sample data from MIMIC"
   ]
  },
  {
   "cell_type": "code",
   "execution_count": null,
   "metadata": {
    "ExecuteTime": {
     "end_time": "2018-03-18T23:05:14.536531Z",
     "start_time": "2018-03-18T23:04:17.500997Z"
    },
    "hidden": true
   },
   "outputs": [],
   "source": [
    "cats = pd.read_csv('cats.csv')\n",
    "max_limit = 5\n",
    "\n",
    "queries = []\n",
    "for category, n_notes in zip(cats['category'], cats['number_of_notes']):\n",
    "    limit = min(max_limit, n_notes) if max_limit > 0 else n_notes\n",
    "    if limit == max_limit:\n",
    "        q = f\"\"\"\n",
    "        select category, text from correctnotes where category=\\'{category}\\' order by random() limit {limit};\n",
    "        \"\"\"\n",
    "    else:\n",
    "        q = f\"\"\"\n",
    "        select category, text from correctnotes where category=\\'{category}\\';\n",
    "        \"\"\"\n",
    "    queries.append(q)\n",
    "\n",
    "dfs = []\n",
    "\n",
    "con = psycopg2.connect(dbname='mimic', user='sudarshan', host='/var/run/postgresql')\n",
    "for q in queries:\n",
    "    df = pd.read_sql_query(q, con)\n",
    "    dfs.append(df)\n",
    "con.close()\n",
    "    \n",
    "df = pd.concat(dfs)\n",
    "# df.set_index('row_id', inplace=True)\n",
    "df.shape"
   ]
  },
  {
   "cell_type": "code",
   "execution_count": null,
   "metadata": {},
   "outputs": [],
   "source": [
    "test_note = df['text'].iloc[3]\n",
    "print(test_note)"
   ]
  },
  {
   "cell_type": "code",
   "execution_count": null,
   "metadata": {},
   "outputs": [],
   "source": [
    "%%time\n",
    "matches = qu.match(test_note, best_match=True, ignore_syntax=False)\n",
    "l = len(matches)\n",
    "tl = total_len(matches)\n",
    "if l:\n",
    "    al = tl/l\n",
    "else:\n",
    "    al = 0\n",
    "print(l, tl, al)"
   ]
  },
  {
   "cell_type": "code",
   "execution_count": null,
   "metadata": {},
   "outputs": [],
   "source": [
    "counts, note_vector = cui_repr(matches)\n",
    "OrderedDict(sorted(counts.items(), key=lambda x: x[1], reverse=True))"
   ]
  },
  {
   "cell_type": "markdown",
   "metadata": {},
   "source": [
    "## pyContext"
   ]
  },
  {
   "cell_type": "markdown",
   "metadata": {},
   "source": [
    "We need to encode domain knowledge in the modifiers and targets for using pyContext"
   ]
  },
  {
   "cell_type": "code",
   "execution_count": null,
   "metadata": {},
   "outputs": [],
   "source": [
    "import networkx as nx\n",
    "from pyConTextNLP.pyConTextNLP import pyConText\n",
    "from pyConTextNLP.pyConTextNLP import itemData"
   ]
  },
  {
   "cell_type": "code",
   "execution_count": null,
   "metadata": {},
   "outputs": [],
   "source": [
    "modifiers = itemData.get_items(\n",
    "    \"https://raw.githubusercontent.com/chapmanbe/pyConTextNLP/master/KB/lexical_kb_05042016.yml\")\n",
    "targets = itemData.get_items(\n",
    "    \"https://raw.githubusercontent.com/chapmanbe/pyConTextNLP/master/KB/utah_crit.yml\")"
   ]
  },
  {
   "cell_type": "code",
   "execution_count": null,
   "metadata": {},
   "outputs": [],
   "source": [
    "markup = pyConText.ConTextMarkup()"
   ]
  },
  {
   "cell_type": "code",
   "execution_count": null,
   "metadata": {},
   "outputs": [],
   "source": [
    "markup.setRawText(test_note.lower())\n",
    "markup.cleanText()\n",
    "markup.markItems(modifiers, mode='modifier')\n",
    "markup.markItems(targets, mode='target')"
   ]
  },
  {
   "cell_type": "code",
   "execution_count": null,
   "metadata": {},
   "outputs": [],
   "source": [
    "for node in markup.nodes(data=True):\n",
    "    print(node)"
   ]
  }
 ],
 "metadata": {
  "kernelspec": {
   "display_name": "Python 3",
   "language": "python",
   "name": "python3"
  },
  "language_info": {
   "codemirror_mode": {
    "name": "ipython",
    "version": 3
   },
   "file_extension": ".py",
   "mimetype": "text/x-python",
   "name": "python",
   "nbconvert_exporter": "python",
   "pygments_lexer": "ipython3",
   "version": "3.6.6"
  }
 },
 "nbformat": 4,
 "nbformat_minor": 2
}
