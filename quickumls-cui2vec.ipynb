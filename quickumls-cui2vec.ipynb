{
 "cells": [
  {
   "cell_type": "markdown",
   "metadata": {},
   "source": [
    "# QuickUMLS and cui2vec\n",
    "\n",
    "Using [QuickUMLS ](https://github.com/Georgetown-IR-Lab/QuickUMLS) and use the [pre-trained CUI embeddings](https://figshare.com/s/00d69861786cd0156d81) to get an embedding that represents a clinical note."
   ]
  },
  {
   "cell_type": "markdown",
   "metadata": {},
   "source": [
    "## Imports and Inits"
   ]
  },
  {
   "cell_type": "code",
   "execution_count": 1,
   "metadata": {},
   "outputs": [],
   "source": [
    "import pandas as pd\n",
    "import numpy as np\n",
    "import pickle\n",
    "\n",
    "from collections import OrderedDict\n",
    "from pathlib import Path\n",
    "\n",
    "from QuickUMLS.quickumls import QuickUMLS"
   ]
  },
  {
   "cell_type": "code",
   "execution_count": 2,
   "metadata": {},
   "outputs": [],
   "source": [
    "PATH = Path('data')\n",
    "QUMLS_PATH = Path('/storage/UMLS-Storage/quickumls')"
   ]
  },
  {
   "cell_type": "markdown",
   "metadata": {},
   "source": [
    "## Functions"
   ]
  },
  {
   "cell_type": "code",
   "execution_count": 3,
   "metadata": {},
   "outputs": [],
   "source": [
    "def total_len(l):\n",
    "    return sum([len(sl) for sl in l])"
   ]
  },
  {
   "cell_type": "markdown",
   "metadata": {},
   "source": [
    "`QuickUMLS` returns a **list of list of dicts**:\n",
    "1. Outer list holds all the concepts that were found in the note\n",
    "2. Interlist contains all the *variations* of a single concept that QuickUMLS found\n",
    "3. Each dictionary contains information about the concept itself with the following keys:\n",
    "    * start: starting position of the concept in the note\n",
    "    * end: ending position of the concept in the note\n",
    "    * ngram: the group of words that were used to identify the concept. This value is <= $window_size$ param of the matcher. **All the dictionary within an innerlist have the same ngram**.\n",
    "    * term: all the variations within the ngram words that are individual medical concepts with their own CUIs. For example with ngram \"type 2 diabetes\" we get terms \"type 2 diabetes\" and \"type diabetes\" each with its own CUI. **The innerlist contains dicts with different term keys**.\n",
    "    * cui: The CUI of the concept\n",
    "    * similarity: Similarity measure based on metric of the matcher (jaccard, dice, cosine). This value is >= $threshold$ param of the matcher\n",
    "    * semtypes\n",
    "    * preferred\n",
    "\n",
    "The pre-trained CUI vectors are of size 500. The basic idea is to represent each note with a 500-dimension vector that captures the unique medical concepts pertaining to that note by combining these pre-trained vectors. Not all the CUIs returned by the matcher are found in the pre-trained vector list. For those that are not found, I just discard them. This is how the combination is done:\n",
    "1. First the matcher is defined and the note is run through the matcher\n",
    "2. If there are no matches found, then just return a 500-dimension zero vector\n",
    "3. Initialize two dictionaries: \n",
    "    1. to hold the counts of the CUIs found in the matcher (for final weighted averaging) $ngram\\_counts$\n",
    "    2. to hold the average CUI of a given ngram concept $ngram\\_vecs$\n",
    "4. Iterate over the matches and grab the ngram (the outer list)\n",
    "5. If its already present in $ngram\\_vecs$, we've seen it before, so just update the count and continue\n",
    "6. If not, initilize a variable to hold the number of valid cuis $n\\_valid\\_cuis$ (i.e., CUIs for which we have a pre-trained vector available) and 500-dimension zero vector to hold the average $cui\\_avg$\n",
    "7. Iterate of all the matched CUIs (inner list) and check if the current CUI is valid\n",
    "8. If it is then increment $n\\_valid\\_cuis$ and grab the vector from the pre-trained vector for the current CUI and add it to $cui\\_avg$\n",
    "9. If we have valid CUIS, then set the count of the CUI to 1 and compute the average from the sum created in the previous step\n",
    "10. Convert both the counts and average vectors into numpy arrays\n",
    "11. Use numpy's `average` method to compute the weighted average of the concept whereby repeated concepts receive a higher weight (count)\n",
    "12. Return the resulting 500-dimension vector that would represent the note\n",
    "\n",
    "Downfalls:\n",
    "1. Negations are not taken into account. Thus if there are concepts that repeated many times but are negated it will still receive a higher weight which could lead to problems\n",
    "2. Abbr of concepts"
   ]
  },
  {
   "cell_type": "code",
   "execution_count": 4,
   "metadata": {},
   "outputs": [],
   "source": [
    "def cui_repr(matches):    \n",
    "    if not matches:\n",
    "        return np.zeros(cui_emb_sz)\n",
    "    \n",
    "    ngram_counts = OrderedDict()\n",
    "    ngram_avgvecs = OrderedDict()\n",
    "\n",
    "    for cs in matches:\n",
    "        ngram = cs[0]['ngram']\n",
    "        if ngram in ngram_avgvecs:\n",
    "            ngram_counts[ngram] += 1\n",
    "            continue\n",
    "        n_valid_cuis = 0\n",
    "        cui_avgvec = np.zeros(cui_emb_sz)\n",
    "        for c in cs:\n",
    "            if c['cui'] in cui2idx:\n",
    "                n_valid_cuis += 1\n",
    "                cui_avgvec += pretrained_cuis[cui2idx[c['cui']]]\n",
    "        if n_valid_cuis != 0:\n",
    "            ngram_counts[ngram] = 1\n",
    "            ngram_avgvecs[ngram] = cui_avgvec / n_valid_cuis\n",
    "    \n",
    "    weights = np.array(list(ngram_counts.values()))\n",
    "    vectors = np.array(list(ngram_avgvecs.values()))\n",
    "    \n",
    "    return ngram_counts, np.average(vectors, axis=0, weights=weights)"
   ]
  },
  {
   "cell_type": "markdown",
   "metadata": {},
   "source": [
    "## Load and save pre-trained CUI Vectors"
   ]
  },
  {
   "cell_type": "code",
   "execution_count": null,
   "metadata": {},
   "outputs": [],
   "source": [
    "cui_vecs_df = pd.read_csv('/storage/pre-trained/cui2vec_pretrained.csv')\n",
    "cui_vecs_df.head()"
   ]
  },
  {
   "cell_type": "code",
   "execution_count": null,
   "metadata": {},
   "outputs": [],
   "source": [
    "idx2cui = cui_vecs_df['cui'].to_dict()\n",
    "pretrained_cuis = cui_vecs_df.loc[:, cui_vecs_df.columns != 'cui'].values\n",
    "cui2idx = {c: i for i, c in idx2cui.items()}"
   ]
  },
  {
   "cell_type": "code",
   "execution_count": null,
   "metadata": {},
   "outputs": [],
   "source": [
    "cui_vecs_df.sample()"
   ]
  },
  {
   "cell_type": "code",
   "execution_count": null,
   "metadata": {},
   "outputs": [],
   "source": [
    "cui2idx['C2895975']"
   ]
  },
  {
   "cell_type": "code",
   "execution_count": null,
   "metadata": {},
   "outputs": [],
   "source": [
    "pickle.dump(idx2cui, open(PATH/'idx2cui.pkl', 'wb'))\n",
    "np.save(PATH/'pretrained_cuis.npy', pretrained_cuis)"
   ]
  },
  {
   "cell_type": "markdown",
   "metadata": {},
   "source": [
    "## Extract CUIs"
   ]
  },
  {
   "cell_type": "code",
   "execution_count": 5,
   "metadata": {},
   "outputs": [],
   "source": [
    "idx2cui = pickle.load(open(PATH/'idx2cui.pkl', 'rb'))\n",
    "cui2idx = {c: i for i, c in idx2cui.items()}\n",
    "\n",
    "pretrained_cuis = np.load(PATH/'pretrained_cuis.npy')\n",
    "cui_emb_sz = pretrained_cuis.shape[1]"
   ]
  },
  {
   "cell_type": "code",
   "execution_count": 6,
   "metadata": {},
   "outputs": [],
   "source": [
    "if 'qu' in globals():\n",
    "    del qu\n",
    "qu = QuickUMLS(QUMLS_PATH, threshold=0.85, similarity_name='jaccard', window=5, overlapping_criteria='score')"
   ]
  },
  {
   "cell_type": "code",
   "execution_count": 7,
   "metadata": {},
   "outputs": [],
   "source": [
    "test_note = '''\n",
    "Joseph R. Smith\n",
    "\n",
    "1234567-8\n",
    "\n",
    "4/5/2006\n",
    "\n",
    "REASON FOR VISIT:Here to get a new primary care physician.\n",
    "\n",
    "HPI: Mr. Smith is a 56-year-old gentleman formally followed at Carolina Premier who presents to obtain a new primary care physician secondary to insurance changes. He has a past medical history significant for a myocardial infarction in 1994. His cholesterol has been fine. Catheterization showed a possible \"kink\" in one of his vessels and it was thought that he had a possible \"eddy\" of current which led to a clot. He has been on Coumadin since then as well as a calcium channel blocker with the thought that there may have been a superimposed spasm. He has had several unremarkable stress tests since then. He works out on a Nordic-Track three times a week without any chest pain or shortness of breath. He has a history of possible peptic ulcer disease in 1981. He was treated with H2 blockers and his symptoms resolved. He has never had any bleeding to his knowledge. He had a hernia repair bilaterally in 1989 and surgery for a right knee cyst in 1999, all of which went well. He also has about a year long history of right buttock pain. This happens only when he is sitting for some time and does not change position. It does not happen when he is walking or exercising. He wonders if it might be pyriformis syndrome. If he changes positions frequently or stretches his legs, this seems to help. He has no acute complaints today and is here to get plugged into the system. He does wonder if there is anything else that can be done about his buttock pain.\n",
    "\n",
    "PAST MEDICAL HISTORY: As above. In addition, he had a flexible sigmoidoscopy in 2003 which was okay.\n",
    "\n",
    "MEDICATIONS: Tylenol p.r.n., baby aspirin p.o. q.d., Coumadin 3.5 mg p.o. q.d., Adalat Time Released tablets 30 mg one p.o. q.d., multivitamin, glucosamine and chondroitin sulfate.\n",
    "\n",
    "ALLERGIES: No Known Drug Allergies\n",
    "\n",
    "FAMILY HISTORY: His mother had diabetes developed at age 55 and coronary artery disease in her mid sixties. His father had CAD as well but not until his 70s. A paternal aunt had breast cancer. There is no history of colon or prostate cancer.\n",
    "\n",
    "SOCIAL HISTORY: He lives in Durham with his wife and mother. He works for a biotech company. He does not smoke. He drinks two beers per night and reports no trouble with alcohol in the past. No history of drug use.\n",
    "\n",
    "REVIEW OF SYSTEMS: As per his personal health summary and is significant only for his buttock pain as listed above, but is otherwise essentially unremarkable.\n",
    "\n",
    "PHYSICAL EXAM:\n",
    "\n",
    "VITAL SIGNS: Weight 175.2 pounds which is 79.3 kg, blood pressure 142/96 by the nurse, 140/92 by me, pulse is 64.\n",
    "\n",
    "GENERAL: A healthy-appearing middle-aged gentleman.\n",
    "\n",
    "HEENT: Pupils equal, round, reactive to light. Conjunctivaepink. Sclerae anicteric. Tympanic membranes clear. Oropharynx clear.\n",
    "\n",
    "NECK: No lymphadenopathy or thyromegaly or JVD.\n",
    "\n",
    "LUNGS: Clear to auscultation and percussion.\n",
    "\n",
    "HEART: Regular rate and rhythm without murmur, rub, or gallop.\n",
    "\n",
    "ABDOMEN: Normal bowel sounds. Soft, nontender. No hepatosplenomegaly.\n",
    "\n",
    "EXTREMITIES: No cyanosis, clubbing, or edema. 2+ peripheral pulses.\n",
    "\n",
    "NEUROLOGIC: Motor and sensation grossly intact.\n",
    "\n",
    "PSYCHIATRIC: Normal affect and behavior.\n",
    "\n",
    "DERMATOLOGIC: He has a small whitish papule at the upper borderof his mustache on the left.\n",
    "\n",
    "MUSCULOSKELETAL: Full range of motion of his legs and hips bilaterally with no tenderness to palpation over his buttocks.\n",
    "\n",
    "ASSESSMENT/PLAN:\n",
    "\n",
    "Status post myocardial infarction. No evidence for actual CAD. He will continue his aspirin and Coumadin. Unclear to exactly how long he should be on Coumadin or if this is really needed. At some point, may discuss this with cardiology. We will check an INR today and get him plugged into our Coumadin clinic. Check cholesterol.\n",
    "High blood pressure. He will continue with diet and exercise changes. At next visit, may go up on his calcium channel blocker versus add another agent. Check creatinine and potassium today.\n",
    "Buttock pain. Will try some physical therapy.\n",
    "Will send him to dermatology for the papule above his mustache.\n",
    "Possible h/o peptic ulcer disease. As he has not had any known GI bleed, do not feel a need to check H. pylori serology today.\n",
    "Health maintenance. Tetanus shot today. Flex sig as above. Will discuss prostate cancer screening next visit.\n",
    "Return to clinic in four months.\n",
    "John Student, MS3\n",
    "\n",
    "Seen with Joe Doctor, MD\n",
    "'''"
   ]
  },
  {
   "cell_type": "code",
   "execution_count": 8,
   "metadata": {},
   "outputs": [
    {
     "name": "stdout",
     "output_type": "stream",
     "text": [
      "146 200 1.36986301369863\n",
      "CPU times: user 1.14 s, sys: 92.4 ms, total: 1.24 s\n",
      "Wall time: 341 ms\n"
     ]
    }
   ],
   "source": [
    "%%time\n",
    "matches = qu.match(test_note, best_match=True, ignore_syntax=False)\n",
    "l = len(matches)\n",
    "tl = total_len(matches)\n",
    "if l:\n",
    "    al = tl/l\n",
    "else:\n",
    "    al = 0\n",
    "print(l, tl, al)"
   ]
  },
  {
   "cell_type": "code",
   "execution_count": 9,
   "metadata": {},
   "outputs": [],
   "source": [
    "counts, note_vector = cui_repr(matches)"
   ]
  },
  {
   "cell_type": "code",
   "execution_count": 11,
   "metadata": {},
   "outputs": [
    {
     "data": {
      "text/plain": [
       "OrderedDict([('calcium channel blocker', 2),\n",
       "             ('coronary artery disease', 1),\n",
       "             ('flexible sigmoidoscopy', 1),\n",
       "             ('myocardial infarction', 2),\n",
       "             ('past medical history', 1),\n",
       "             ('peptic ulcer disease', 2),\n",
       "             ('PAST MEDICAL HISTORY', 1),\n",
       "             ('shortness of breath', 1),\n",
       "             ('chondroitin sulfate', 1),\n",
       "             ('Normal bowel sounds', 1),\n",
       "             ('High blood pressure', 1),\n",
       "             ('hepatosplenomegaly', 1),\n",
       "             ('REVIEW OF SYSTEMS', 1),\n",
       "             ('REASON FOR VISIT', 1),\n",
       "             ('physical therapy', 1),\n",
       "             ('Catheterization', 1),\n",
       "             ('change position', 1),\n",
       "             ('prostate cancer', 1),\n",
       "             ('lymphadenopathy', 1),\n",
       "             ('range of motion', 1),\n",
       "             ('Drug Allergies', 1),\n",
       "             ('FAMILY HISTORY', 1),\n",
       "             ('blood pressure', 1),\n",
       "             ('hernia repair', 1),\n",
       "             ('breast cancer', 1),\n",
       "             ('PHYSICAL EXAM', 1),\n",
       "             ('stress tests', 1),\n",
       "             ('buttock pain', 2),\n",
       "             ('multivitamin', 1),\n",
       "             ('Pupils equal', 1),\n",
       "             ('auscultation', 1),\n",
       "             ('Buttock pain', 1),\n",
       "             ('MEDICATIONS', 1),\n",
       "             ('glucosamine', 1),\n",
       "             ('VITAL SIGNS', 1),\n",
       "             ('thyromegaly', 1),\n",
       "             ('EXTREMITIES', 1),\n",
       "             ('chest pain', 1),\n",
       "             ('right knee', 1),\n",
       "             ('complaints', 1),\n",
       "             ('Oropharynx', 1),\n",
       "             ('percussion', 1),\n",
       "             ('tenderness', 1),\n",
       "             ('ASSESSMENT', 1),\n",
       "             ('secondary', 1),\n",
       "             ('stretches', 1),\n",
       "             ('ALLERGIES', 1),\n",
       "             ('anicteric', 1),\n",
       "             ('palpation', 1),\n",
       "             ('potassium', 1),\n",
       "             ('Coumadin', 5),\n",
       "             ('symptoms', 1),\n",
       "             ('bleeding', 1),\n",
       "             ('syndrome', 1),\n",
       "             ('diabetes', 1),\n",
       "             ('drug use', 1),\n",
       "             ('cyanosis', 1),\n",
       "             ('clubbing', 1),\n",
       "             ('mustache', 2),\n",
       "             ('buttocks', 1),\n",
       "             ('serology', 1),\n",
       "             ('vessels', 1),\n",
       "             ('history', 4),\n",
       "             ('surgery', 1),\n",
       "             ('sitting', 1),\n",
       "             ('Tylenol', 1),\n",
       "             ('aspirin', 2),\n",
       "             ('reports', 1),\n",
       "             ('alcohol', 1),\n",
       "             ('ABDOMEN', 1),\n",
       "             ('Tetanus', 1),\n",
       "             ('Adalat', 1),\n",
       "             ('murmur', 1),\n",
       "             ('Normal', 1),\n",
       "             ('affect', 1),\n",
       "             ('papule', 2),\n",
       "             ('spasm', 1),\n",
       "             ('colon', 1),\n",
       "             ('lives', 1),\n",
       "             ('pulse', 1),\n",
       "             ('LUNGS', 1),\n",
       "             ('Clear', 1),\n",
       "             ('HEART', 1),\n",
       "             ('edema', 1),\n",
       "             ('bleed', 1),\n",
       "             ('clot', 1),\n",
       "             ('cyst', 1),\n",
       "             ('legs', 2),\n",
       "             ('NECK', 1),\n",
       "             ('hips', 1),\n",
       "             ('Will', 3),\n",
       "             ('feel', 1),\n",
       "             ('HPI', 1),\n",
       "             ('His', 3),\n",
       "             ('CAD', 2),\n",
       "             ('JVD', 1),\n",
       "             ('Tympanic membranes', 1),\n",
       "             ('changes positions', 1)])"
      ]
     },
     "execution_count": 11,
     "metadata": {},
     "output_type": "execute_result"
    }
   ],
   "source": [
    "counts"
   ]
  },
  {
   "cell_type": "markdown",
   "metadata": {},
   "source": [
    "## Grab sample data from MIMIC"
   ]
  },
  {
   "cell_type": "code",
   "execution_count": 11,
   "metadata": {
    "ExecuteTime": {
     "end_time": "2018-03-18T23:05:14.536531Z",
     "start_time": "2018-03-18T23:04:17.500997Z"
    },
    "hidden": true
   },
   "outputs": [
    {
     "data": {
      "text/plain": [
       "(70, 2)"
      ]
     },
     "execution_count": 11,
     "metadata": {},
     "output_type": "execute_result"
    }
   ],
   "source": [
    "cats = pd.read_csv('cats.csv')\n",
    "max_limit = 5\n",
    "\n",
    "queries = []\n",
    "for category, n_notes in zip(cats['category'], cats['number_of_notes']):\n",
    "    limit = min(max_limit, n_notes) if max_limit > 0 else n_notes\n",
    "    if limit == max_limit:\n",
    "        q = f\"\"\"\n",
    "        select category, text from correctnotes where category=\\'{category}\\' order by random() limit {limit};\n",
    "        \"\"\"\n",
    "    else:\n",
    "        q = f\"\"\"\n",
    "        select category, text from correctnotes where category=\\'{category}\\';\n",
    "        \"\"\"\n",
    "    queries.append(q)\n",
    "\n",
    "dfs = []\n",
    "\n",
    "con = psycopg2.connect(dbname='mimic', user='sudarshan', host='/var/run/postgresql')\n",
    "for q in queries:\n",
    "    df = pd.read_sql_query(q, con)\n",
    "    dfs.append(df)\n",
    "con.close()\n",
    "    \n",
    "df = pd.concat(dfs)\n",
    "# df.set_index('row_id', inplace=True)\n",
    "df.shape"
   ]
  },
  {
   "cell_type": "code",
   "execution_count": 55,
   "metadata": {},
   "outputs": [
    {
     "name": "stdout",
     "output_type": "stream",
     "text": [
      "TITLE:  Case Management Initial Assessment\n",
      "   The patient is a 24 yo female with h/o SLE, ESRD on HD, malignant HTN,\n",
      "   h/o SVC syndrome, PRES, prior ICH, and recent SBO, initially admitted\n",
      "   with dyspnea, and hypertensive urgency and called out to medicine, now\n",
      "   readmitted to the ICU with stridor and dyspnea.\n",
      "   The patient is well known to this NCM from multiple previous [**Hospital1 54**]\n",
      "   admissions.  She is known to several home care agencies, most recently\n",
      "   receiving services from the VNA of [**Location (un) 223**].   The patient also is\n",
      "   scheduled for hemodialysis T-Th-Sat at [**Location (un) **], though she does not\n",
      "   always keep her scheduled appointments.  Transportation has long been\n",
      "   arranged for these dialysis appointments and is not a barrier to the\n",
      "   patient attending them.\n",
      "   This NCM had a long conversation with [**First Name8 (NamePattern2) **] [**Doctor Last Name **], the liaison nurse from\n",
      "   the VNA of [**Location (un) 223**] (VNAB) who knows the patient well.   The VNAB has\n",
      "   discharged the patient after many attempts to engage the patient in her\n",
      "   care and assist her in managing her health care needs better.  The\n",
      "   patient frequently misses scheduled visits with the VNA after she has\n",
      "   chosen the date/time for those visits.  There have been a number of\n",
      "   times when the patient will not allow the VNA nurse into the home when\n",
      "   she has arrived for a visit.  In addition, per [**Hospital1 54**] social work notes,\n",
      "   the patient has missed a number of appointments with the social worker\n",
      "   at her HD center.  The patient also does not regularly keep scheduled\n",
      "   physician [**Name Initial (PRE) 9000**].\n",
      "   Though the patient\n",
      "s post-acute care needs are not completely known at\n",
      "   this time, it would appear that home care services have not been able\n",
      "   to effect any meaningful change in the patient\n",
      "s behavior leading to\n",
      "   any improvement or stabilization in her medical condition at home, and\n",
      "   will likely not be helpful at discharge this time.\n",
      "   NCM will follow to assist in discharge planning as needed.  Please\n",
      "   call/page with any questions.\n",
      "   [**First Name11 (Name Pattern1) 361**] [**Last Name (NamePattern4) 5752**], RN, BSN\n",
      "   MICU Service Case Manager\n",
      "   Phone:  ([**Telephone/Fax (1) 9536**]\n",
      "   Pager:  ([**Telephone/Fax (1) 9537**] beeper [**Numeric Identifier 5753**]\n",
      "\n"
     ]
    }
   ],
   "source": [
    "test_note = df['text'].iloc[3]\n",
    "print(test_note)"
   ]
  },
  {
   "cell_type": "code",
   "execution_count": 56,
   "metadata": {},
   "outputs": [
    {
     "name": "stdout",
     "output_type": "stream",
     "text": [
      "49 89 1.816326530612245\n",
      "CPU times: user 923 ms, sys: 56.1 ms, total: 980 ms\n",
      "Wall time: 344 ms\n"
     ]
    }
   ],
   "source": [
    "%%time\n",
    "matches = qu.match(test_note, best_match=True, ignore_syntax=False)\n",
    "l = len(matches)\n",
    "tl = total_len(matches)\n",
    "if l:\n",
    "    al = tl/l\n",
    "else:\n",
    "    al = 0\n",
    "print(l, tl, al)"
   ]
  },
  {
   "cell_type": "code",
   "execution_count": 57,
   "metadata": {},
   "outputs": [
    {
     "data": {
      "text/plain": [
       "OrderedDict([('Last Name', 2),\n",
       "             ('dyspnea', 2),\n",
       "             ('assist', 2),\n",
       "             ('hypertensive urgency', 1),\n",
       "             ('discharge planning', 1),\n",
       "             ('Case Management', 1),\n",
       "             ('stabilization', 1),\n",
       "             ('SVC syndrome', 1),\n",
       "             ('hemodialysis', 1),\n",
       "             ('Assessment', 1),\n",
       "             ('admissions', 1),\n",
       "             ('Identifier', 1),\n",
       "             ('condition', 1),\n",
       "             ('discharge', 1),\n",
       "             ('admitted', 1),\n",
       "             ('dialysis', 1),\n",
       "             ('stridor', 1),\n",
       "             ('likely', 1),\n",
       "             ('ESRD', 1),\n",
       "             ('able', 1),\n",
       "             ('HTN', 1),\n",
       "             ('discharged', 1)])"
      ]
     },
     "execution_count": 57,
     "metadata": {},
     "output_type": "execute_result"
    }
   ],
   "source": [
    "counts, note_vector = cui_repr(matches)\n",
    "OrderedDict(sorted(counts.items(), key=lambda x: x[1], reverse=True))"
   ]
  },
  {
   "cell_type": "markdown",
   "metadata": {},
   "source": [
    "## pyContext"
   ]
  },
  {
   "cell_type": "markdown",
   "metadata": {},
   "source": [
    "We need to encode domain knowledge in the modifiers and targets for using pyContext"
   ]
  },
  {
   "cell_type": "code",
   "execution_count": null,
   "metadata": {},
   "outputs": [],
   "source": [
    "import networkx as nx\n",
    "from pyConTextNLP.pyConTextNLP import pyConText\n",
    "from pyConTextNLP.pyConTextNLP import itemData"
   ]
  },
  {
   "cell_type": "code",
   "execution_count": 3,
   "metadata": {},
   "outputs": [],
   "source": [
    "modifiers = itemData.get_items(\n",
    "    \"https://raw.githubusercontent.com/chapmanbe/pyConTextNLP/master/KB/lexical_kb_05042016.yml\")\n",
    "targets = itemData.get_items(\n",
    "    \"https://raw.githubusercontent.com/chapmanbe/pyConTextNLP/master/KB/utah_crit.yml\")"
   ]
  },
  {
   "cell_type": "code",
   "execution_count": 4,
   "metadata": {},
   "outputs": [],
   "source": [
    "markup = pyConText.ConTextMarkup()"
   ]
  },
  {
   "cell_type": "code",
   "execution_count": 7,
   "metadata": {},
   "outputs": [],
   "source": [
    "markup.setRawText(test_note.lower())\n",
    "markup.cleanText()\n",
    "markup.markItems(modifiers, mode='modifier')\n",
    "markup.markItems(targets, mode='target')"
   ]
  },
  {
   "cell_type": "code",
   "execution_count": null,
   "metadata": {},
   "outputs": [],
   "source": [
    "for node in markup.nodes(data=True):\n",
    "    print(node)"
   ]
  }
 ],
 "metadata": {
  "kernelspec": {
   "display_name": "Python 3",
   "language": "python",
   "name": "python3"
  },
  "language_info": {
   "codemirror_mode": {
    "name": "ipython",
    "version": 3
   },
   "file_extension": ".py",
   "mimetype": "text/x-python",
   "name": "python",
   "nbconvert_exporter": "python",
   "pygments_lexer": "ipython3",
   "version": "3.6.6"
  }
 },
 "nbformat": 4,
 "nbformat_minor": 2
}
